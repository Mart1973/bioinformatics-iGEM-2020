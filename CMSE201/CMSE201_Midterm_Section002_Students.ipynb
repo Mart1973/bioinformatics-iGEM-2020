{
 "cells": [
  {
   "cell_type": "markdown",
   "metadata": {},
   "source": [
    "## <p style=\"text-align: right;\"> &#9989; Put your name here</p>"
   ]
  },
  {
   "cell_type": "markdown",
   "metadata": {},
   "source": [
    "# CMSE 201 Midterm (Section 002 - Fall 2019)\n",
    "\n",
    "The goal of this midterm is to give you the opportunity to test out some of the skills that you've developed thus far this semester. In particular, you'll model a sytem using ODEINT; load, manipulate, and plot data using NumPy and Matplotlib; and describe compartmental models and think about how to create one. You should find that you have all of the skills necessary to complete this exam with even just eight weeks of CMSE 201 under your belt!\n",
    "\n",
    "You are encouraged to look through the entire exam before you get started so that you can appropriately budget your time and understand the broad goals of the exam. You might want to make sure you have access to any data you need and that you can get it loaded into your notebook sooner than later, in case you run into issues. Let your instructor know right away if you have problems with accessing the data.\n",
    "\n",
    "The exam is set up so that even if you get stuck on one part there are opportunities to get points on the other parts, so consider jumping ahead if you feel like you aren't making progress and then come back later if you have time.\n",
    "\n",
    "**Important note about using online resources**: This exam is \"open internet\". That means that you can look up documentation, google how to accomplish certain Python tasks, etc. Being able to effectively use the internet for computational modeling and data science is a very important skill, so we want to make sure you have the opportunity to exercise that skill. **However, the use of any person-to-person communication software is absolutely not acceptable.** If you are seen accessing your email, using a chat program (e.g. Slack), or any sort of collaborative cloud storage or document software (e.g. Google Documents), you will be at risk for receiving a zero on the exam. You are also expected to complete the exam **without** using old notebooks from class.\n",
    "\n",
    "**Keep your eyes on your screen!** Unfortunately, there isn't enough space in the room for everyone to sit at their own table so please do your best to keep your eyes on your own screen. This exam is designed to give *you* the opportunity to show the instructor what you can do and you should hold yourself accountable for maintaining a high level of academic integrity. If any of the instructors observe suspicious behavior, you will, again, risk receiving a zero."
   ]
  },
  {
   "cell_type": "code",
   "execution_count": null,
   "metadata": {
    "collapsed": true
   },
   "outputs": [],
   "source": [
    "# Import necessary packages\n",
    "import numpy as np\n",
    "from scipy.integrate import odeint\n",
    "%matplotlib inline\n",
    "import matplotlib.pyplot as plt\n",
    "\n"
   ]
  },
  {
   "cell_type": "markdown",
   "metadata": {},
   "source": [
    "## Part 1: Modeling a system using ODEINT (35 points)\n",
    "\n",
    "In this section, we will consider a dynamic model of coupled spring-mass system. Two objects (e.g. two boxes) with masses $m_1$ and $m_2$ are coupled by springs. Box1 is linked to the wall by string 1. Box 2 is linked to Box 1 by string 2. So the two boxes are coupled by string 2. And the two boxes are laid on ground and they can move horizontally. \n",
    "\n",
    "The constants of the two springs are $k_1$ and $k_2$. The lengths of the springs with no external forces are $L_1$ and $L_2$. And we assume there is no friction from the ground when the 2 boxes are moving. \n",
    "\n",
    "The positions of the two objects are $x_1$ and $x_2$, and the dynamics of $x_1$ and $x_2$ can be described by the following equations of motion.\n",
    "$$ m_1 \\ddot{x}_1 +k_1(x_1 - L_1) -k_2(x_2-x_1-L_2)=0 $$\n",
    "$$ m_2 \\ddot{x}_2 +k_2(x_2 - x_1 - L_2)=0 $$\n",
    "\n",
    "This is a pair of coupled second-order equations. To solve this system using ODEINT, we must first convert it to a system of first-order differential equations. We introduce two variables\n",
    "$$ y_1 = \\frac{dx_1}{dt} $$\n",
    "$$ y_2 = \\frac{dx_2}{dt} $$\n",
    "\n",
    "Basically, $y_1$ is the velocity of box 1, and $y_2$ is the velocity of box 2. \n",
    "\n",
    "With a little algebra, we can re-write the two second-order equations as the following system of four first-order equations:\n",
    "\n",
    "$$\n",
    "\\begin{align}\n",
    "\\frac{dx_1}{dt} &= y_1 \\\\\n",
    "\\frac{dx_2}{dt} &= y_2 \\\\\n",
    "\\frac{dy_1}{dt} &= \\frac{-k_1(x_1-L_1)+k_2(x_2-x_1-L_2)}{m_1} \\\\\n",
    "\\frac{dy_2}{dt} &= \\frac{-k_2(x_2 - x_1-L_2)}{m_2} \\\\\n",
    "\\end{align}\n",
    "$$\n",
    "\n"
   ]
  },
  {
   "cell_type": "markdown",
   "metadata": {},
   "source": [
    "**Question 1.1**: Since $\\frac{dx_1}{dt}$ and $\\frac{dx_2}{dt}$ represent velocities, explain (intuitively) what do $\\frac{dy_1}{dt}$ and $\\frac{dy_2}{dt}$ represent in the system?  (**2 points**)"
   ]
  },
  {
   "cell_type": "markdown",
   "metadata": {},
   "source": [
    "Your answer:"
   ]
  },
  {
   "cell_type": "markdown",
   "metadata": {},
   "source": [
    "**Question 1.2**: The two major terms to calculate $\\frac{dy_1}{dt}$ and $\\frac{dy_2}{dt}$ are: $k_1(x_1-L_1)$ and $k_2(x_2-x_1-L_2)$.  Explain (intuitively) what do $k_1(x_1-L_1)$ and $k_2(x_2-x_1-L_2)$ represent in this system.  (**3 points**)"
   ]
  },
  {
   "cell_type": "markdown",
   "metadata": {},
   "source": [
    "Your answer:"
   ]
  },
  {
   "cell_type": "markdown",
   "metadata": {},
   "source": [
    "**Question 1.3**: To solve this system, we need to set the values for all of the model parameters. Use the following parameter values:\n",
    "\n",
    "$$ m_1=1.0,~m_2=1.5,~k_1 = 8.0,~k_2 = 40.0,~L_1 = 0.5,~L_2 = 1.0. $$\n",
    "\n",
    "We also need to set the initial conditions of the 4 variables, which you should set to:\n",
    "\n",
    "$$ x_1=0.5,~x_2=2.25,~y_1=0.0,~y_2=0.0 $$\n",
    "\n",
    "Use **`odeint`** to simulate the system for 10 seconds, using 250 data points.   (**20 points**)\n",
    "\n"
   ]
  },
  {
   "cell_type": "code",
   "execution_count": null,
   "metadata": {
    "collapsed": true
   },
   "outputs": [],
   "source": [
    "# Put your code here\n",
    "\n",
    "\n",
    "\n",
    "\n"
   ]
  },
  {
   "cell_type": "markdown",
   "metadata": {},
   "source": [
    "**Question 1.4**: Make a plot to show the dynamics of  $x_1, x_2$  over time, with different colors, labeled axes, legend and a title.   (**5 points**)"
   ]
  },
  {
   "cell_type": "code",
   "execution_count": null,
   "metadata": {
    "collapsed": true
   },
   "outputs": [],
   "source": [
    "# Your code:\n",
    "\n",
    "\n",
    "\n"
   ]
  },
  {
   "cell_type": "markdown",
   "metadata": {},
   "source": [
    "**Question 1.5**: Make a plot to show the relationships between  $x_1$ and $x_2$ (i.e. a plot of $x_2$ vs. $x_1$), with labeled axes and a title.  (**3 points**)   Then, based on what you observe from the plot, describe the general pattern of the coupled movements of box 1 and box 2. (**2 points**)"
   ]
  },
  {
   "cell_type": "code",
   "execution_count": null,
   "metadata": {
    "collapsed": true
   },
   "outputs": [],
   "source": [
    "#Your code here:\n",
    "\n",
    "\n"
   ]
  },
  {
   "cell_type": "markdown",
   "metadata": {},
   "source": [
    "Add your description of the pattern of the coupled movements based on your plot here:\n",
    "\n"
   ]
  },
  {
   "cell_type": "markdown",
   "metadata": {},
   "source": [
    "---\n",
    "## Part 2: Load, manipulate, and visualize data (using NumPy and Matplotlib) (35 points)"
   ]
  },
  {
   "cell_type": "markdown",
   "metadata": {},
   "source": [
    "Let's try **Numpy** and **Matplotlib** to analyze and visualize a genomics dataset of gene activities. You can download the data from D2l: **midterm_data.csv**.\n",
    "\n",
    "\n",
    "\n",
    "**Qustion 2.1**: Read the data of **midterm_data.csv** using **Numpy**. Basically you need to read the three columns of the file and unpack them into 3 Numpy arrays, which are named as h1, cd4 and cd8. Pay attention that the first row are column headers.  (**5 points**)"
   ]
  },
  {
   "cell_type": "code",
   "execution_count": null,
   "metadata": {
    "collapsed": true
   },
   "outputs": [],
   "source": [
    "# Put your code here\n",
    "\n",
    "\n"
   ]
  },
  {
   "cell_type": "markdown",
   "metadata": {},
   "source": [
    "The 3 columns correspond to three cell-types: H1 stem cells, CD4 T cells and CD8 T cells. And each row corresponds to a gene's activity across the 3 cell-types.\n",
    "\n",
    "**Question 2.2**: Using Numpy's statistics operations, calculate the sum, mean, standard deviation and median for each column and print them out.  (**6 points**)"
   ]
  },
  {
   "cell_type": "code",
   "execution_count": null,
   "metadata": {
    "collapsed": true
   },
   "outputs": [],
   "source": [
    "# Put your code here\n",
    "\n"
   ]
  },
  {
   "cell_type": "markdown",
   "metadata": {},
   "source": [
    "**Question 2.3**: Create a new array, named as **ave_array**, where each element of the array is the average activities from the 3 cell-types for each gene. And show the first 10 elements of ave_array.  (**6 points**)\n"
   ]
  },
  {
   "cell_type": "code",
   "execution_count": null,
   "metadata": {
    "collapsed": true
   },
   "outputs": [],
   "source": [
    "# Put your code here\n",
    "\n"
   ]
  },
  {
   "cell_type": "markdown",
   "metadata": {},
   "source": [
    "**Question 2.4**: Using **Masking** to show the average gene activities (based on the newly created array: ave_array) for the **subset of genes**, whose activity in CD4 is larger than the mean value of gene activities in CD4. \n",
    "\n",
    "Basically, you need to calculate the mean value of gene activities in CD4 T cells, and then identify the subset of genes whose CD4 activities are larger than the mean value. And you need to find the subset of gene's values in ave_array.   (**6 points**)"
   ]
  },
  {
   "cell_type": "code",
   "execution_count": null,
   "metadata": {
    "collapsed": true
   },
   "outputs": [],
   "source": [
    "# Put your code here\n",
    "\n",
    "\n"
   ]
  },
  {
   "cell_type": "markdown",
   "metadata": {},
   "source": [
    "**Question 2.5**: Make a histogram plot for gene activities in H1 Stem cells. For the x-axis, set the range to be [0,400). And specify the bin-width to be 10 (so that you totally have 40 bins for the histogram). And make the color to be red.  (**6  points**)\n"
   ]
  },
  {
   "cell_type": "code",
   "execution_count": null,
   "metadata": {
    "collapsed": true
   },
   "outputs": [],
   "source": [
    "# Put your code here\n",
    "\n"
   ]
  },
  {
   "cell_type": "markdown",
   "metadata": {},
   "source": [
    "**Question 2.6**: Make a scatter plot to show the relationship between gene activities in CD4 vs. CD8. You need to set meaningful axis labels for x-axis and y-axis, give a meaningful title for the figure, and show a meaningful figure legend within the plot. \n",
    "Also add grids to the plot.  (**6 points**)\n",
    "\n"
   ]
  },
  {
   "cell_type": "code",
   "execution_count": null,
   "metadata": {
    "collapsed": true
   },
   "outputs": [],
   "source": [
    "# Put your code here\n",
    "\n",
    "\n"
   ]
  },
  {
   "cell_type": "markdown",
   "metadata": {},
   "source": [
    "---\n",
    "## Part 3: Describe what an compartmental model is and come up with a plan for building one (30 points)"
   ]
  },
  {
   "cell_type": "markdown",
   "metadata": {},
   "source": [
    "(**Note**: for this question, you don't need to write up any code.)\n",
    "\n",
    "As we have learnt in this course, compartmental models are powerful approaches for a broad range of problems. \n",
    "\n",
    "**Question 3.1**: Explain what a compartmental model is and when do you prefer to use compartmental models against agent-based models (i.e. based on what kind of modeling goals/purposes that compartmental models will be perferred to use).  (**5 points**)\n",
    "\n",
    "**Question 3.2**: Provide 1 example of real-world problems that can be studied as compartmental models. (You can't use the examples that were already introduced in previous assignments. You need to provide your own examples).    (**5 points**)\n",
    "\n",
    "**Question 3.3**: In the example you provided above, define what are the compartments and explain all the interactions among compartments. For each interaction, explain how their rates are related with values of different compartments.  (**10 points**)\n",
    "\n",
    "**Question 3.4**: Now you want to computationally solve your compartmental model using odeint. Provide a pseudo-code to describe how you plan to do it step-by-step (you need to include the major variable settings, function definitions etc).  (**7 points**)\n",
    "\n",
    "**Question 3.5**: After you solve the model numerically, how do you plan to use Matplotlib to visualize how the model/system evolve through time?   (**3 points**)"
   ]
  },
  {
   "cell_type": "markdown",
   "metadata": {},
   "source": [
    "*Write your response in this markdown cell*\n"
   ]
  },
  {
   "cell_type": "markdown",
   "metadata": {},
   "source": [
    "---\n",
    "## You're done! Congrats on finishing your CMSE 201 Midterm!\n",
    "\n",
    "Upload a copy of this notebook to the submission folder on D2L and make sure your name is on it!"
   ]
  }
 ],
 "metadata": {
  "kernelspec": {
   "display_name": "Python 3",
   "language": "python",
   "name": "python3"
  },
  "language_info": {
   "codemirror_mode": {
    "name": "ipython",
    "version": 3
   },
   "file_extension": ".py",
   "mimetype": "text/x-python",
   "name": "python",
   "nbconvert_exporter": "python",
   "pygments_lexer": "ipython3",
   "version": "3.6.3"
  }
 },
 "nbformat": 4,
 "nbformat_minor": 4
}
