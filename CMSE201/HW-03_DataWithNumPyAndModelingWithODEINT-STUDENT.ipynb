{
 "cells": [
  {
   "cell_type": "markdown",
   "metadata": {},
   "source": [
    "# __CMSE  201 - Fall 2019__\n",
    "\n",
    "<img src=\"https://cmse.msu.edu/sites/_cmse/assets/Image/image001.png\"\n",
    "     alt=\"CMSE Grapical Image\"\n",
    "     style=\"float: right; margin-right: 10px;\" \n",
    "     height=\"164\" \n",
    "     width=\"164\" />\n",
    "\n",
    "# Homework 3:  Loading data in NumPy to explore weather patterns and working with ODEINT for Population and Resonance Modeling"
   ]
  },
  {
   "cell_type": "markdown",
   "metadata": {},
   "source": [
    "## Goals\n",
    "\n",
    "### By the end of this homework assignment, you would have practiced:\n",
    "* Loading data in Numpy and visualizing it using Matplotlib\n",
    "* Using ODEINT to solve ordinary differential equations for multiple systems"
   ]
  },
  {
   "cell_type": "markdown",
   "metadata": {},
   "source": [
    "## Assignment instructions\n",
    "\n",
    "Work through the following assignment, making sure to follow all of the directions and answer all of the questions.\n",
    "\n",
    "**This assignment is due at 11:59pm on Friday, October 11th.** It should be uploaded into the \"Homework Assignments\" dropbox folder for Homework #3.  Submission instructions can be found at the end of the notebook."
   ]
  },
  {
   "cell_type": "markdown",
   "metadata": {},
   "source": [
    "## Grading\n",
    "\n",
    "* Part 1: Loading and analyzing weather data in NumPy (8 points)\n",
    "    - Question 1 (1 point)\n",
    "    - Question 2 (2 points)\n",
    "    - Question 3 (2 points)\n",
    "    - Question 4 (2 points)\n",
    "    - Question 5 (1 point)\n",
    "* Part 2: Population dynamics (11 points)\n",
    "    - Question 6 (4 points)\n",
    "    - Question 7 (3 points)\n",
    "    - Question 8 (4 points)\n",
    "* Part 3: Forced oscillation and resonance (8 points)    \n",
    "    - Question 9 (4 points)\n",
    "    - Question 10 (3 points)\n",
    "    - Question 11 (1 point)\n",
    "\n",
    "\n",
    "Total points possible: **27**\n",
    "___"
   ]
  },
  {
   "cell_type": "markdown",
   "metadata": {},
   "source": [
    "## Part 1: Loading and analyzing weather data in NumPy (7 points)\n",
    "\n",
    "In this section, we're going to review how NumPy can be used to read and write data. We will consider how to analyze the data by making plots that visualize the information contained in the data."
   ]
  },
  {
   "cell_type": "markdown",
   "metadata": {},
   "source": [
    "**Question 1**: Make sure you set up your notebook to produce matplotlib plots and import the right modules, as well NumPy. Include all important import commands and special matplotlib jupyter notebook commands here."
   ]
  },
  {
   "cell_type": "code",
   "execution_count": null,
   "metadata": {},
   "outputs": [],
   "source": [
    "# Put your code here\n"
   ]
  },
  {
   "cell_type": "markdown",
   "metadata": {},
   "source": [
    "**Question 2**: The first thing you're going to do is make sure you can load in the data using NumPy. There is a file on D2L called \"weather.csv\". Make sure that you download the file and move it to the same location on your computer as this Jupyter Notebook. The extension of this file (.csv) stands for \"comma-separated values\" and is commonly used for datasets. It is basically just a text file where each row of this file is the measurement of a separate person in the data set.  The columns are different measures on each person and are separated by commas. \n",
    "\n",
    "The \"weather.csv\" file contains 4 columns with the following contents that represents the recorded weather data on different dates in a year. \n",
    "\n",
    "**[Mean temperature (F), Low temperature (F), High temperature (F), Average precipitation (inch)].**  \n",
    "\n",
    "\n",
    "\n",
    "Your job is to **read the data into your Jupter Notebook using NumPy**, specifically using the `loadtxt()` function, which will load the data into a multi-column NumPy array. Once you've read in the data, **print the array to examine the mean temperature on the screen**.\n",
    "\n",
    "When you load in the data, you can either read the data in and store it in a single variable, or you can use the `unpack` argument to read the data into a separate variable for each column. As a reference, you may wish to review the examples at the bottom of the documentation page for the `loadtxt()` function: [https://docs.scipy.org/doc/numpy-1.15.0/reference/generated/numpy.loadtxt.html](https://docs.scipy.org/doc/numpy-1.15.0/reference/generated/numpy.loadtxt.html). You can also review how we loaded in the Great Lakes water level data during class."
   ]
  },
  {
   "cell_type": "code",
   "execution_count": null,
   "metadata": {},
   "outputs": [],
   "source": [
    "# Put your code here\n"
   ]
  },
  {
   "cell_type": "markdown",
   "metadata": {},
   "source": [
    "**Question 3**: Before analyzing data, it is always good to summarize a portion of the data to get a sense of the population represented in the data.  Answer the following in complete sentences, using `print()` statements:\n",
    "* How many days were measured in this data?\n",
    "* What is the average of the mean temprature of all the dates?\n",
    "* What is the lowest temperature in the dataset?\n",
    "* What is the highest temperature in the dataset?\n",
    "* What is the average of the mean precipitation of all the dates?"
   ]
  },
  {
   "cell_type": "code",
   "execution_count": null,
   "metadata": {},
   "outputs": [],
   "source": [
    "# Put your code here\n"
   ]
  },
  {
   "cell_type": "markdown",
   "metadata": {},
   "source": [
    "**Question 4**: Compare the mean, low and high temperatures by plotting the temperature data against the days in a single plot. Make sure your plot is well marked by title, grid, label and legend."
   ]
  },
  {
   "cell_type": "code",
   "execution_count": null,
   "metadata": {},
   "outputs": [],
   "source": [
    "# Put your code here"
   ]
  },
  {
   "cell_type": "markdown",
   "metadata": {},
   "source": [
    "**Question 5**: What observations about the data do you have? For example, when does the data start, summer or winter? Answers these questions and then outline a plan for how you would analyze the data if you wanted to study the average precipitation for specifically the winter months."
   ]
  },
  {
   "cell_type": "markdown",
   "metadata": {},
   "source": [
    "<font size=\"+3\">&#9998;</font> Put your answer here."
   ]
  },
  {
   "cell_type": "markdown",
   "metadata": {},
   "source": [
    "# Part 2: Population dynamics"
   ]
  },
  {
   "cell_type": "markdown",
   "metadata": {},
   "source": [
    "Suppose that a certain population satisfies the initial value problem\n",
    "\\begin{equation}\n",
    "\\dfrac{dy}{dt} = r(t)y-k, \\quad   y(0)=y_0\n",
    "\\end{equation}\n",
    "\n",
    "where the growth rate $r(t)$ is given by $r(t) = (1 + 2\\sin t - \\cos t)/5$, and $k$ represents the rate of\n",
    "predation. If at some time $T>0, y(T)=0,$ we say that the population has become extinct.\n"
   ]
  },
  {
   "cell_type": "markdown",
   "metadata": {},
   "source": [
    "**Question 6:** **Using `odeint`, solve the above ODE.** Suppose that predation rate $k = 1/5,$  take the initial conditions $y_0$ to be several values between 0.5 and 1 (in increments of 0.1).  \n",
    "\n",
    "**Make a plot of your results**. Make sure everything is labeled appropriately and that your plot includes a **legend** and a **grid**. You legend you should indicate which line corresponds to which value of $y_0$"
   ]
  },
  {
   "cell_type": "code",
   "execution_count": null,
   "metadata": {},
   "outputs": [],
   "source": [
    "# Put your code here\n"
   ]
  },
  {
   "cell_type": "markdown",
   "metadata": {},
   "source": [
    "**Question 7:** Using the code from the previous exercise, estimate a critical value of $y_0,$ below which the population is destined to become extinct (keeping 2 digits of accuracy). You should be able to use the results of your first plot to determine approximately where this transition point occurs and then explore that parameter space until you find the critical value. **Use a plot to justify your estimate of the critical value and indicate what this value is in a markdown cell.**"
   ]
  },
  {
   "cell_type": "code",
   "execution_count": null,
   "metadata": {},
   "outputs": [],
   "source": [
    "# Put your code here.\n"
   ]
  },
  {
   "cell_type": "markdown",
   "metadata": {},
   "source": [
    "**Question 8:** Now let's change the predation rate to $k = 1/3,$ use the same procedure in the previous two questions to find the critical $y_0$ value for this value of $k$ (keeping only 1 digit of accuracy this time). **Use a plot to justify your estimate of the critical value and indicate what this value is in a markdown cell.**"
   ]
  },
  {
   "cell_type": "code",
   "execution_count": null,
   "metadata": {},
   "outputs": [],
   "source": [
    "# Put your code here.\n"
   ]
  },
  {
   "cell_type": "markdown",
   "metadata": {},
   "source": [
    "# Part 3: Forced oscillation and resonance"
   ]
  },
  {
   "cell_type": "markdown",
   "metadata": {},
   "source": [
    "\n",
    "**Resonance** describes the phenomena of amplification that occurs when the frequency of a periodically applied force is in harmonic proportion to a natural frequency of the system on which it acts. When an oscillating force is applied at the resonant frequency of another system, the system will oscillate at a higher amplitude than when the same force is applied at other, non-resonant frequencies. The collapse of the Broughton bridge\n",
    "near Manchester, England in 1831 is blamed for the now–standard practise of breaking cadence when soldiers cross a bridge. Bridges like the\n",
    "Broughton bridge have many natural low frequencies of vibration, so it\n",
    "is possible for a column of soldiers to vibrate the bridge at one of the\n",
    "bridge’s natural frequencies. The bridge locks onto the frequency while\n",
    "the soldiers continue to add to the excursions with every step, causing\n",
    "larger and larger bridge oscillations.\n",
    "\n",
    "We consider a harmonic oscillator with force modeled by\n",
    "\\begin{equation}\n",
    "\\dfrac{d^2y}{dt^2} +w_0^2 y=F_0 \\cos(w t), \\quad   y(0)=0,   y'(0)=0.\n",
    "\\end{equation}\n",
    "\n",
    "where   $w_0$ is the intrinsic frequency, and $F_0 \\cos(w t)$ represents the external force. The equation above can be reformulated by introducing $v=\\dfrac{dy}{dt}$, which makes the system:\n",
    "\\begin{equation}\n",
    "\\dfrac{dy}{dt}=v, \\\\\n",
    "\\dfrac{dv}{dt}=-w_0^2 y+F_0 \\cos(w t)\n",
    "\\end{equation}\n",
    "\n",
    "where $y(0)=0$ and $v(0)=0$ are the initial conditions. Also, for this problem, you can assume that $F_0 = 1$.\n"
   ]
  },
  {
   "cell_type": "markdown",
   "metadata": {},
   "source": [
    "**Question 9:** **Using `odeint`, solve the above ODE system.** Suppose that $w_0 = 4,$  take $w= 2, 3, 4, 5, 6.$\n",
    "Make one plot of $y(t)$ with all parameters. Make sure everything is labeled appropriately and that your plot includes a **legend** and a **grid**."
   ]
  },
  {
   "cell_type": "code",
   "execution_count": null,
   "metadata": {},
   "outputs": [],
   "source": [
    "# Put your code here"
   ]
  },
  {
   "cell_type": "markdown",
   "metadata": {},
   "source": [
    "**Question 10:** Now compare the \"phase space\" plots ($y$-$v$ plots) of the simulations above for $w_0 = 4,$  and $w= 3, 4, 5.$  Make sure everything is labeled appropriately and that your plot includes a **legend** and a **grid**. Compare the difference. For this question, include each phase space plot **as a separate plot figure**."
   ]
  },
  {
   "cell_type": "code",
   "execution_count": null,
   "metadata": {},
   "outputs": [],
   "source": [
    "# Put your code here"
   ]
  },
  {
   "cell_type": "markdown",
   "metadata": {},
   "source": [
    "**Question 11:** Discuss your results from Questions 9 and 10. Do you observe resonance? How do you reach this conclusion? Justify your answer based on your observations."
   ]
  },
  {
   "cell_type": "markdown",
   "metadata": {},
   "source": [
    "Put your answer here."
   ]
  },
  {
   "cell_type": "markdown",
   "metadata": {},
   "source": [
    "---\n",
    "## Assignment wrap-up\n",
    "\n",
    "Please fill out the form that appears when you run the code below.  **You must completely fill this out in order to receive credit for the assignment!**"
   ]
  },
  {
   "cell_type": "code",
   "execution_count": null,
   "metadata": {},
   "outputs": [],
   "source": [
    "from IPython.display import HTML\n",
    "HTML(\n",
    "\"\"\"\n",
    "<iframe \n",
    "\tsrc=\"https://forms.gle/ei3tdjRqCC1YEbYSA\" \n",
    "\twidth=\"800px\" \n",
    "\theight=\"1200px\" \n",
    "\tframeborder=\"0\" \n",
    "\tmarginheight=\"0\" \n",
    "\tmarginwidth=\"0\">\n",
    "\tLoading...\n",
    "</iframe>\n",
    "\"\"\"\n",
    ")"
   ]
  },
  {
   "cell_type": "markdown",
   "metadata": {},
   "source": [
    "---\n",
    "\n",
    "### Congratulations, you're done!\n",
    "\n",
    "Submit this assignment by uploading it to the course Desire2Learn web page.  Go to the \"Homework Assignments\" folder, find the dropbox link for Homework #3, and upload it there."
   ]
  }
 ],
 "metadata": {
  "kernelspec": {
   "display_name": "Python 3",
   "language": "python",
   "name": "python3"
  },
  "language_info": {
   "codemirror_mode": {
    "name": "ipython",
    "version": 3
   },
   "file_extension": ".py",
   "mimetype": "text/x-python",
   "name": "python",
   "nbconvert_exporter": "python",
   "pygments_lexer": "ipython3",
   "version": "3.7.3"
  }
 },
 "nbformat": 4,
 "nbformat_minor": 4
}
