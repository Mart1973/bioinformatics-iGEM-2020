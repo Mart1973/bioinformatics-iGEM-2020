{
 "cells": [
  {
   "cell_type": "markdown",
   "metadata": {},
   "source": [
    "### <p style=\"text-align: right;\"> &#9989; Put your name here</p>"
   ]
  },
  {
   "cell_type": "markdown",
   "metadata": {},
   "source": [
    "# Day 19 Pre-class Assignment: \"Monte Carlo\" methods (Pre-Class)\n",
    "\n",
    "<img src=\"https://s3-us-west-2.amazonaws.com/drupal-assets/pid/styles/card_396x280/s3-files/images-card/gaming/casino-services-card.jpg\" width=400px>\n",
    "## Using Random Numbers to Solve Computational Problems\n",
    "\n",
    "The term \"Monte Carlo\" refers to a [broad class of computational methods](https://en.wikipedia.org/wiki/Monte_Carlo_method) that use random numbers to solve hard computational problems; that is, we use random numbers when there is nearly no other way to solve the problem. This is a bit counterintuitive: solving scientific problems with random numbers seems like an contradiction. As we will see, Monte Carlo is a very powerful technique across the sciences and engineering. "
   ]
  },
  {
   "cell_type": "markdown",
   "metadata": {},
   "source": [
    "## Goals for today's pre-class assignment\n",
    "\n",
    "* Explore how random numbers can be used to solve complicated problems (e.g. numerical integration)\n",
    "* Think about the traveling salesperson problem and compute distances between artificial cities"
   ]
  },
  {
   "cell_type": "markdown",
   "metadata": {},
   "source": [
    "## Assignment instructions\n",
    "\n",
    "**This assignment is due by 11:59pm the day before class,** and should be uploaded into the \"Pre-class assignments\" submission folder for Day 19.  Submission instructions can be found at the end of the notebook."
   ]
  },
  {
   "cell_type": "markdown",
   "metadata": {},
   "source": [
    "___\n",
    "### Monte Carlo Evaluation of an Integral\n",
    "___\n",
    "\n",
    "We will start by writing a code to do one of the most basic tasks of calculus: finding the value of an integral. Recall that you can think of the integral of a function as the area that bounded between the function and the $x$ -axis. We will perform the integral of something for which we already know the answer so that you can check your solution analytically. The real power of Monte Carlo, or MC as it is usually referred to, in this context is in performing integrals that are vastly more complicated. In physics, for example, it is common to perform integrals in hundreds of dimensions. \n",
    "\n",
    "You will find the area of a circle using MC. You will assume that you know the area of a square and the function that defines a circle:\n",
    "\n",
    "$$y = \\sqrt{1 - x^2}$$\n",
    "\n",
    "The idea is that you will pick a bunch of random numbers $x$ and $y$ in the square from $x \\in [0,1]$ and $y \\in [0,1]$. By seeing how many random numbers are inside the circle relative to the total, we can estimate the area of the circle (actually we're only estimating the area of $1/4$ of the circle). Another way that you can think of this as throwing darts at a dartboard. Meaning that if we throw enough darts, the area of the circle can be approximated by adding the total number of darts that hit the inside the circle. Therefore, we can get a better approximation for the area if we throw more darts. Here is a picture to help guide your thinking:\n",
    "\n",
    "<img src=\"http://mathfaculty.fullerton.edu/mathews/n2003/montecarlopi/MonteCarloPiMod/Images/MonteCarloPiMod_gr_25.gif\" width=300px>"
   ]
  },
  {
   "cell_type": "markdown",
   "metadata": {},
   "source": [
    "In order to perform this Monte Carlo integration, you need to do the following (some of these are done for you in the code cell below):\n",
    "1. Set up and initialize a variable, `n_points`, that contains the number of random points you will produce. You will vary this number. As stated above, the more points, the better the approximation will be.\n",
    "2. Define counter variables, `points_in` and `points_out`, and set their initial values to be $0$. You will use these variables to store information as you generate random points.\n",
    "3. Set up a loop over the total number of points, using whatever type of Python loop you're most comfortable with.\n",
    "4. Inside the loop choose a random $(x,y)$ pair, ensuring that the pair will be somewhere in your quandrant. \n",
    "5. Using an `if` statement, check to see if you are inside the circle or not. You should be able to use the equation $y = \\sqrt{1-x^2}$ for this if statement. \n",
    "6. Update your counter variables to keep track of whether this $(x,y)$ point is inside the circle or not.\n",
    "7. Once the loop is done, `print` the area of the circle using your counter variables. The area is defined as:\n",
    "$$ A = \\frac{N_{\\mathrm{points\\_in}}}{N_{\\mathrm{points}}}$$\n",
    "8. Also print the true area:\n",
    "$$ A_{\\mathrm{true}} = \\frac{\\pi}{4} $$\n",
    "\n",
    "Finish the code below to produce your version of the above plot and compute the area.\n",
    "\n",
    "(Note that the comments reference the steps listed above)."
   ]
  },
  {
   "cell_type": "code",
   "execution_count": null,
   "metadata": {},
   "outputs": [],
   "source": [
    "import numpy as np\n",
    "%matplotlib inline\n",
    "import matplotlib.pyplot as plt\n",
    "from IPython.display import display, clear_output\n",
    "import time\n",
    "import random\n",
    "\n",
    "# Complete the code below for computing the area\n",
    "\n",
    "# My First MC Code\n",
    "\n",
    "# Step 1: Define how many points to use\n",
    "npoints = 100\n",
    "\n",
    "# Step 2: Initialize some counter variables\n",
    "points_in = 0\n",
    "points_out = 0\n",
    "\n",
    "# Set up variables for storing where the points end up\n",
    "x_in = []\n",
    "y_in = []\n",
    "x_out = []\n",
    "y_out = []\n",
    "\n",
    "# Step 3: Loop over the total number of points\n",
    "for i in range(npoints):\n",
    "    \n",
    "    # Step 4: Choose a random x,y location contained to the range 0 to 1 for both\n",
    "    x = random.random()\n",
    "    y = random.random()\n",
    "    \n",
    "    # Step 5 and Step 6: Check to see if y is less than sqrt(1-x^2)\n",
    "    # If so, increment the \"points_in\" counter and store the x,y values in the x_in and y_in lists\n",
    "    # If not, increment the \"points_out\" counter and store the x,y values in the x_out and y_out lists\n",
    "    \n",
    "    # DELETE THIS AND PUT YOUR CODE FOR STEPS 5 AND 6 HERE\n",
    "\n",
    "    \n",
    "# Plot the points and color them by whether they are inside or outside the circle\n",
    "plt.figure(figsize=(6,6))\n",
    "plt.scatter(x_in,y_in)\n",
    "plt.scatter(x_out,y_out)\n",
    "x = np.linspace(0,1,300)\n",
    "y = np.sqrt(1-x**2)\n",
    "plt.plot(x,y,lw=3,c='k')\n",
    "\n",
    "# Step 7: Print the estimated area\n",
    "print(\"Area =\", points_in/npoints)\n",
    "\n",
    "# Step 8: Print the real area\n",
    "print(\"Real area =\", (np.pi*1)/4.0)\n"
   ]
  },
  {
   "cell_type": "markdown",
   "metadata": {},
   "source": [
    "___\n",
    "### Animation\n",
    "___\n",
    "\n",
    "Next, animate your code above to show what is happening. Your tasks:\n",
    "* Read and comment the code below. \n",
    "* Include a comment at the top that gives a quick explain of what the code does that someone else could understand. \n",
    "* **Then, copy your code from above and add this animation capability to your code.**\n",
    "* Print the current area as more points are added. "
   ]
  },
  {
   "cell_type": "code",
   "execution_count": null,
   "metadata": {},
   "outputs": [],
   "source": [
    "fig = plt.figure(figsize=(4,3))\n",
    "\n",
    "x_hold = []\n",
    "y_hold = []\n",
    "\n",
    "for i in range(100):\n",
    "    x = np.random.random()\n",
    "    y = np.random.random()\n",
    "    x_hold.append(x)\n",
    "    y_hold.append(y)\n",
    "    plt.plot(x_hold,y_hold,'ro')\n",
    "    plt.title('The current value of i is: %3i' %i)\n",
    "    plt.xlim(0,1)\n",
    "    plt.ylim(0,1)\n",
    "    time.sleep(0.1)  \n",
    "    clear_output(wait = True)\n",
    "    display(fig)            # Reset display\n",
    "    fig.clear()             # clear output for animation"
   ]
  },
  {
   "cell_type": "code",
   "execution_count": null,
   "metadata": {},
   "outputs": [],
   "source": [
    "# Copy your code here and then add in the animation parts\n"
   ]
  },
  {
   "cell_type": "markdown",
   "metadata": {},
   "source": [
    "**You may have already played around with this animation code earlier in the course, but if you haven't you should make sure you understand it now.**"
   ]
  },
  {
   "cell_type": "markdown",
   "metadata": {},
   "source": [
    "____\n",
    "## Optimization\n",
    "___\n",
    "\n",
    "MC is useful for performing optmization problems as well. Optimization means pretty much what it sounds like: we want to find the optimal value for something. In fact, we have already seen this in regression: when we find the best fit of a line to some data we are optimizing the values of the parameters to make the line have the smallest distance from the data points. But, optimization can take many forms beyond this simple example. \n",
    "\n",
    "![TSP](https://optimization.mccormick.northwestern.edu/images/e/ea/48StatesTSP.png)\n",
    "\n",
    "In the in-class assignment, we will explore one of the classic optimization problems: the **[Traveling Salesperson Problem](https://en.wikipedia.org/wiki/Travelling_salesman_problem)**. The basic problem is this: you have $N$ cities to travel between and you would like to find the shortest route, going through each city only once. This is fairly easy when $N$ is small, but becomes extremely difficult when $N$ is large - you simply cannot wait for the computer to search every possibile route. \n",
    "\n",
    "One way to attack problems of this kind is to recognize that it may be impossible to find the absolute best (most optimal) solution. It might be perfectly fine to simply have a really good solution sooner rather than never. This allows use to use MC methods: we can randomly choose different routes and see which ones are shortest; if we are clever, we can make an algorithm that attempts to get better each time it makes a new attempt. \n",
    "\n",
    "But, we will save all of that fun for once you get to class!\n",
    "\n",
    "For now, let's just think about how to set up such a problem. One of the most challenging aspects of the Traveling Salesperson Problem is that there are many steps involved and you will need to break it down into pieces. For now, here are your tasks:\n",
    "\n",
    "* **Write a function** that takes as input the number of cities, $N$.\n",
    "* For now we will not use real cities, so within the function create the locations of $N$ cities using random numbers. For convenience, you can just assume that the cities fall on a map in the range $x \\in [0,1]$ and $y \\in [0,1]$. Every city will have a random $(x,y)$ location in that range. \n",
    "* **Return** from the function the coordinates of the $N$ cities as two arrays ($x$ values and $y$ values)\n",
    "* Call the function and store those returned array in some variables. Then, Make a plot to be sure it is working.\n",
    "\n",
    "You should get something that looks like this (with points in different locations, of course):\n",
    "\n",
    "<img src=\"https://i.imgur.com/uhRoXQs.png\" width=400px>"
   ]
  },
  {
   "cell_type": "code",
   "execution_count": null,
   "metadata": {},
   "outputs": [],
   "source": [
    "# Put your code here\n"
   ]
  },
  {
   "cell_type": "markdown",
   "metadata": {},
   "source": [
    "Once that function is working, do the following:\n",
    "\n",
    "* **Write a second function called \"`calculate_distances`\"** that receives the two arrays, a set of $x$ values and a set for $y$ values for your $N$ cities, and **returns a 2D array with the distances between all of the points**. This provides a lookup table for finding the distances between any two cities. The distance between two points is defined as:\n",
    "\n",
    "$$ D = \\sqrt{(x_1 - x_2)^2 + (y_1 - y_2)^2}. $$\n",
    "\n",
    "The elements in the 2D array correspond to the distances between cities in the following way: If you consider the first row (indexed as 0) and the second column (indexed as 1), then that value at $D[0,1]$ represents the distance bewteen the first and second city (in that order). Similarly, the value at $D[5,2]$ is the distance between city 6 and city 3 (in that order). In this situation, all the distances are symmetric so as an example, $D[2,5] = D[5,2]$.\n",
    "\n",
    "**Hint**: You should be able to create an empty 2D array and then used nested loops to fill the array with distances. A quick check to make sure that you have the correct 2D array is to make sure that the elements on the diagonal of the array are all zero. This is true as the distance between a city with itself is zero. For $N$ = 4, the distance matrix might look like this:\n",
    "```\n",
    "[[0.         0.31528794 0.47635924 0.30767835]\n",
    " [0.31528794 0.         0.70425937 0.23807393]\n",
    " [0.47635924 0.70425937 0.         0.78078259]\n",
    " [0.30767835 0.23807393 0.78078259 0.        ]]\n",
    " ```"
   ]
  },
  {
   "cell_type": "code",
   "execution_count": null,
   "metadata": {},
   "outputs": [],
   "source": [
    "# Put your code here\n"
   ]
  },
  {
   "cell_type": "markdown",
   "metadata": {},
   "source": [
    "### Computing the total distance traveled\n",
    "\n",
    "Now, let's assume you will simply go through the cities in order the first time. The following code prints the total distance of the path through the cities assuming you go from city $1$ to city $2$, city $2$ to city $3$, and so on. Along the way, it makes a plot that shows the route by putting lines betwen the points and the lines get darker as the salesperson moves through their route. This will only work if you managed to create the 2D distance array. The code also animates the plot so that you can watch it in \"real time\" as the salesperson moves from one city to the next.\n",
    "\n",
    "If you created the distance matrix correctly, you should eventually end up with something that looks similar to this:\n",
    "\n",
    "<img src=\"https://i.imgur.com/tnmLINv.png\" width=400px>"
   ]
  },
  {
   "cell_type": "code",
   "execution_count": null,
   "metadata": {},
   "outputs": [],
   "source": [
    "# Make sure you understand how this code works!\n",
    "\n",
    "# We use the calculate_distances function you created above to compute the distance matrix\n",
    "# Make sure you feed in the correct \"x\" and \"y\" arrays if you used different variables names\n",
    "D = calculate_distances(x,y)\n",
    "\n",
    "fig = plt.figure(figsize=(6,6));\n",
    "total_distance = 0\n",
    "for i in range(n_city-1):\n",
    "    plt.scatter(x,y,marker=\"s\",c=\"k\");\n",
    "    plt.plot([x[i],x[i+1]], [y[i],y[i+1]],\n",
    "             alpha=(i+1)/(n_city),lw=2,color=\"k\");\n",
    "    total_distance += D[i,i+1]\n",
    "    plt.title(\"Distance traveled = %0.3f\" %total_distance)\n",
    "    time.sleep(1.0)  \n",
    "    clear_output(wait = True)\n",
    "    display(fig) # Reset display\n",
    "\n",
    "plt.savefig(\"the_journey.png\")"
   ]
  },
  {
   "cell_type": "markdown",
   "metadata": {},
   "source": [
    "___\n",
    "### Assignment wrapup\n",
    "\n",
    "Please fill out the form that appears when you run the code below.  **You must completely fill this out in order to receive credit for the assignment!**\n",
    "\n",
    "___"
   ]
  },
  {
   "cell_type": "code",
   "execution_count": null,
   "metadata": {},
   "outputs": [],
   "source": [
    "from IPython.display import HTML\n",
    "HTML(\n",
    "\"\"\"\n",
    "<iframe \n",
    "\tsrc=\"https://cmse.msu.edu/cmse201-pc-survey\" \n",
    "\twidth=\"800px\" \n",
    "\theight=\"600px\" \n",
    "\tframeborder=\"0\" \n",
    "\tmarginheight=\"0\" \n",
    "\tmarginwidth=\"0\">\n",
    "\tLoading...\n",
    "</iframe>\n",
    "\"\"\"\n",
    ")"
   ]
  },
  {
   "cell_type": "markdown",
   "metadata": {},
   "source": [
    "### Congratulations, you're done!\n",
    "\n",
    "Submit this assignment by uploading it to the course Desire2Learn web page.  Go to the \"Pre-class assignments\" folder, find the appropriate submission link, and upload it there.\n",
    "\n",
    "See you in class!"
   ]
  },
  {
   "cell_type": "markdown",
   "metadata": {},
   "source": [
    "&#169; Copyright 2018,  Michigan State University Board of Trustees"
   ]
  }
 ],
 "metadata": {
  "kernelspec": {
   "display_name": "Python 3",
   "language": "python",
   "name": "python3"
  },
  "language_info": {
   "codemirror_mode": {
    "name": "ipython",
    "version": 3
   },
   "file_extension": ".py",
   "mimetype": "text/x-python",
   "name": "python",
   "nbconvert_exporter": "python",
   "pygments_lexer": "ipython3",
   "version": "3.7.3"
  }
 },
 "nbformat": 4,
 "nbformat_minor": 4
}
