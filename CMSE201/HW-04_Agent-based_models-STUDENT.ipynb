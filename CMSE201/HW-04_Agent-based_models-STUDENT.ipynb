{
 "cells": [
  {
   "cell_type": "markdown",
   "metadata": {},
   "source": [
    "# __CMSE  201 - Fall 2019__\n",
    "\n",
    "<img src=\"https://cmse.msu.edu/sites/_cmse/assets/Image/image001.png\"\n",
    "     alt=\"CMSE Grapical Image\"\n",
    "     style=\"float: right; margin-right: 10px;\" \n",
    "     height=\"164\" \n",
    "     width=\"164\" />\n",
    "\n",
    "# Homework 4: Agent-based Models\n",
    "\n",
    "In this homework you will continue to learn about agent-based modeling, by developing and implementing a set of rules for how agents interact with each other.  Make sure to use Slack and help room hours if you run into issues!\n",
    "\n",
    "___"
   ]
  },
  {
   "cell_type": "markdown",
   "metadata": {},
   "source": [
    "## Goals\n",
    "\n",
    "### By the end of the homework assignment you will have practiced:\n",
    "\n",
    "1. Modeling a real world scenario.\n",
    "2. Building and manipulating agent-based models.\n",
    "3. Assessing model outcomes.\n",
    "4. Defining functions to check the state of a model\n"
   ]
  },
  {
   "cell_type": "markdown",
   "metadata": {},
   "source": [
    "## Assignment instructions\n",
    "\n",
    "Work through the following assignment, making sure to follow all of the directions and answer all of the questions.\n",
    "\n",
    "**This assignment is due at 11:59pm on Friday, October 25th.** It should be uploaded into the \"Homework Assignments\" submission folder for Homework #4.  Submission instructions can be found at the end of the notebook."
   ]
  },
  {
   "cell_type": "markdown",
   "metadata": {},
   "source": [
    "## Grading\n",
    "\n",
    "* Question 1: Ship placement function (5 points)\n",
    "* Question 2: Shots fired (5 points)\n",
    "* Question 3: You've sunk my Battleship! (7 points)\n",
    "* Question 4: Random player (3 points)\n",
    "* Question 5: Shooting in the dark (8 points)\n",
    "* Question 6: Learning from our mistakes (6 points)\n",
    "* Question 7: Human-level intelligence (5 points)\n",
    "\n",
    "Total points possible: **39**\n",
    "___"
   ]
  },
  {
   "cell_type": "markdown",
   "metadata": {},
   "source": [
    "# Introduction\n",
    "\n",
    "An agent-based model is a model where a set of agents interact according to a set of rules.  This is a general framework that can model many different phenomena.  In this Homework assignment you are going to model a game of Battleship:\n",
    "\n",
    "<img src=\"https://proxy.duckduckgo.com/iu/?u=http%3A%2F%2Fstatic.guim.co.uk%2Fsys-images%2FGuardian%2FPix%2Fpictures%2F2012%2F4%2F4%2F1333548711318%2FBattleship-board-game-001.jpg&f=1\" width=400px>\n",
    "\n",
    "Here is the description from the Day 11 Pre-class assignment if you aren't familiar with the game:\n",
    "\n",
    "> Each player has a grid that they place ships onto. The other person playing makes guesses as to where their opponents ships are. If they guess correctly, the ship takes a \"hit,\" which is denoted by a red peg. If they miss, then the ship remains untouched, noted by a white peg. This continues back and forth until one player sinks all of their opponent's ships.\n",
    "\n",
    "We are going to be using \"boards\", or 2D Numpy arrays that show the state of the system.  An integer number in each spot in the array will be used to keep track of what's there:  \n",
    "\n",
    "**In this model:**   \n",
    "**-1 = empty space**  \n",
    "**0 = Destroyer**  \n",
    "**1 = Submarine**  \n",
    "**2 = Cruiser**  \n",
    "**3 = Battleship**  \n",
    "**4 = Carrier**  \n",
    "**5 = Any ship that was hit**  \n",
    "\n",
    "First we need to place our ships on the board.  But here we're going to do this *automatically* using functions from `np.random`."
   ]
  },
  {
   "cell_type": "markdown",
   "metadata": {},
   "source": [
    "### 1) Write a function that places a ship of length `ship_length` on a board, and returns the new board (5 points)\n",
    "\n",
    "Do help with this, let's remember our `on_board` function that we used previously:"
   ]
  },
  {
   "cell_type": "code",
   "execution_count": null,
   "metadata": {},
   "outputs": [],
   "source": [
    "import numpy as np\n",
    "import matplotlib.pyplot as plt"
   ]
  },
  {
   "cell_type": "code",
   "execution_count": null,
   "metadata": {},
   "outputs": [],
   "source": [
    "def on_board(i,j,board):\n",
    "    # return True if i,j is on the board, \n",
    "    # otherwise return False\n",
    "    if i >= 0 and i < board.shape[0] and j >= 0 and j < board.shape[1]:\n",
    "        return True\n",
    "    else:\n",
    "        return False"
   ]
  },
  {
   "cell_type": "markdown",
   "metadata": {},
   "source": [
    "Now complete the following function.  Look for `# your code here`"
   ]
  },
  {
   "cell_type": "code",
   "execution_count": null,
   "metadata": {},
   "outputs": [],
   "source": [
    "def place_ship(ship_length,board,ship_value):\n",
    "    good_place = False\n",
    "    while good_place is False:\n",
    "        # set good_place to True at first, if there's something wrong\n",
    "        # we'll set it to False\n",
    "        good_place = True\n",
    "        \n",
    "        # first pick a random starting point\n",
    "        # make sure to choose a random x and y location that is within the bounds of the board.\n",
    "        x = # your code here\n",
    "        y = # your code here\n",
    "    \n",
    "        # then pick a random direction\n",
    "        direction = np.random.choice(['u','d','l','r'])\n",
    "        if direction == 'u':\n",
    "            dx, dy = 0, 1\n",
    "        elif direction == 'd':\n",
    "            dx, dy = 0, -1\n",
    "        elif direction == 'l':\n",
    "            dx, dy = 1, 0\n",
    "        elif direction == 'r':\n",
    "            dx, dy = -1, 0\n",
    "\n",
    "        # test if all of the squares are on_board\n",
    "        for i in range(ship_length):\n",
    "            test_x = x + i*dx\n",
    "            test_y = y + i*dy\n",
    "            if not on_board(test_x,test_y,board):\n",
    "                good_place = False\n",
    "            else:\n",
    "                # now test if this board space is empty\n",
    "                # if it isn't, set good_place to False\n",
    "                \n",
    "                # your code here\n",
    "                \n",
    "    # end of while loop.\n",
    "    # if we made it out, then that means we've found a \n",
    "    # good position and a good direction\n",
    "    \n",
    "    # place the ship on the board\n",
    "    for i in range(ship_length):\n",
    "        ship_x = x + i*dx\n",
    "        ship_y = y + i*dy\n",
    "        board[ship_x,ship_y] = ship_value\n",
    "    \n",
    "    # return the board, with the ship on it\n",
    "    return board"
   ]
  },
  {
   "cell_type": "markdown",
   "metadata": {},
   "source": [
    "Great!  Now let's test this function a couple of times and make sure it works:"
   ]
  },
  {
   "cell_type": "code",
   "execution_count": null,
   "metadata": {},
   "outputs": [],
   "source": [
    "ship_names = ['Destroyer','Submarine','Cruiser','Battleship','Carrier']\n",
    "\n",
    "def make_board():\n",
    "    board = -np.ones((10,10))\n",
    "    n_ships = 5\n",
    "    ship_lengths = [2,3,3,4,5]\n",
    "    \n",
    "    for i in range(n_ships):\n",
    "        board = place_ship(ship_lengths[i],board,i)\n",
    "        \n",
    "    return board\n",
    "\n",
    "my_board = make_board()\n",
    "plt.xticks(range(10))\n",
    "plt.yticks(range(10))\n",
    "plt.imshow(my_board,vmin=-1,vmax=5)"
   ]
  },
  {
   "cell_type": "markdown",
   "metadata": {},
   "source": [
    "You should see 5 ships, with lengths 2, 3, 3, 4 and 5, placed on the board in non-overlapping positions."
   ]
  },
  {
   "cell_type": "markdown",
   "metadata": {},
   "source": [
    "### 2) Shots fired (5 points)\n",
    "\n",
    "Now let's make some action happen.  Write a function called `shot` that takes the following inputs:  \n",
    "\n",
    "**i) coordinates (i.e. x and y indices)  \n",
    "ii) a game board**  \n",
    "\n",
    "and **returns** the following:\n",
    "\n",
    "**i) a string that is either 'hit' or 'miss'  \n",
    "ii) the new game board**  \n",
    "\n",
    "Check if there is a ship at those coordinates.  If there is, set the board equal to 5 at that position, and return 'hit' and the new board.  Otherwise, return 'miss' and the original board. Also, if the ship has already been hit (i.e. the value is already \"5\"), this should also count as a 'miss'."
   ]
  },
  {
   "cell_type": "code",
   "execution_count": null,
   "metadata": {},
   "outputs": [],
   "source": [
    "def shot(x_ind,y_ind,board):\n",
    "    # your code here"
   ]
  },
  {
   "cell_type": "markdown",
   "metadata": {},
   "source": [
    "Test this below by firing some shots at your ships and then displaying the results.  Ships that get hit should display as yellow. To ensure that this happens, make sure you use the `vmin` and `vmax` arguments for the `plt.imshow()` functions. Review how `imshow` was used above to make sure you do this correctly."
   ]
  },
  {
   "cell_type": "code",
   "execution_count": null,
   "metadata": {},
   "outputs": [],
   "source": [
    "# your code here"
   ]
  },
  {
   "cell_type": "markdown",
   "metadata": {},
   "source": [
    "### 3) You've sunk my Battleship!  (7 points)"
   ]
  },
  {
   "cell_type": "markdown",
   "metadata": {},
   "source": [
    "Write a function (called `check_board`) that takes a board and a list of ship names as input and ***returns a list of ships that have been completely hit, and are then \"sunk\".***  \n",
    "\n",
    "**Hint:  the `np.isin()` function could be helpful here**.  For instance:"
   ]
  },
  {
   "cell_type": "code",
   "execution_count": null,
   "metadata": {},
   "outputs": [],
   "source": [
    "if np.isin(3,new_board):\n",
    "    print('3 is on the board')"
   ]
  },
  {
   "cell_type": "code",
   "execution_count": null,
   "metadata": {},
   "outputs": [],
   "source": [
    "if not np.isin(99,new_board):\n",
    "    print('99 is NOT on the board')"
   ]
  },
  {
   "cell_type": "markdown",
   "metadata": {},
   "source": [
    "Try using this function below to write your `check_board()` function:"
   ]
  },
  {
   "cell_type": "code",
   "execution_count": null,
   "metadata": {},
   "outputs": [],
   "source": [
    "def check_board(board):\n",
    "    # your code here"
   ]
  },
  {
   "cell_type": "markdown",
   "metadata": {},
   "source": [
    "Now test this function by firing shots at a ship until it is sunk.  ***Display the new board and show the results of the `check_board` function.***"
   ]
  },
  {
   "cell_type": "code",
   "execution_count": null,
   "metadata": {},
   "outputs": [],
   "source": [
    "# Take some shots. Make sure that the original \"my_board\" is the board that you start with and that you update the board correctly when you take additional shots\n",
    "\n",
    "# Example\n",
    "# result, board = shot(0,6,my_board)\n",
    "\n",
    "# your code here\n",
    "\n",
    "# Check to see if the ship has been sunk\n",
    "\n",
    "# your code here"
   ]
  },
  {
   "cell_type": "markdown",
   "metadata": {},
   "source": [
    "### 4) Random player (3 points)\n",
    "\n",
    "Make a function called `random_player` that **takes in a board and then returns a random guess for where to play**. Make sure the choice is within the bounds of the board. Ignore the `past_guesses` argument for now."
   ]
  },
  {
   "cell_type": "code",
   "execution_count": null,
   "metadata": {},
   "outputs": [],
   "source": [
    "def random_player(board,past_guesses):\n",
    "    # your code here"
   ]
  },
  {
   "cell_type": "markdown",
   "metadata": {},
   "source": [
    "### 5) Shooting in the dark (8 points)\n",
    "\n",
    "The following function `play_game` will **take a player function as input**, and keep on playing until all of the ships have been sunk.  It will then return the number of steps that the player needed in order to sink all the ships.  Finish this code wherever you see `# your code here`."
   ]
  },
  {
   "cell_type": "code",
   "execution_count": null,
   "metadata": {},
   "outputs": [],
   "source": [
    "def play_game(player_function):\n",
    "    \n",
    "    # first initialize the board\n",
    "    board = make_board()\n",
    "    \n",
    "    # initialize the sunk ships list, n_steps counter, and a past_guesses list\n",
    "    n_steps = 0\n",
    "    sunk_ships = []\n",
    "    past_guesses = []\n",
    "    \n",
    "    # while some ships are not sunk...\n",
    "    while len(sunk_ships) < 5:\n",
    "\n",
    "        # you might find this useful for debugging\n",
    "        if n_steps > 10000:\n",
    "            print(\"This player seems to have some trouble finishing, let's just call this off\")\n",
    "            print(\"There are still \",5- len(sunk_ships),\"ships left\")\n",
    "            return board\n",
    "        \n",
    "        # increment n_steps\n",
    "        # your code here\n",
    "        \n",
    "        # have the player make a guess, call the x and y values for the guess x_guess and y_guess\n",
    "        # your code here\n",
    "        \n",
    "        # get the result by taking a \"shot\"\n",
    "        # your code here\n",
    "        \n",
    "        # check the board using check_board\n",
    "        sunk_ships = check_board(board)\n",
    "        \n",
    "        # append the most recent guess to past_guesses list\n",
    "        past_guesses.append([x_guess,y_guess])\n",
    "          \n",
    "    # all done!  return the number of steps\n",
    "    return n_steps"
   ]
  },
  {
   "cell_type": "markdown",
   "metadata": {},
   "source": [
    "Test this function with `random_player` by running it below:"
   ]
  },
  {
   "cell_type": "code",
   "execution_count": null,
   "metadata": {},
   "outputs": [],
   "source": [
    "play_game(random_player)"
   ]
  },
  {
   "cell_type": "markdown",
   "metadata": {},
   "source": [
    "Now run it 10 times and **calculate** how long it takes on average."
   ]
  },
  {
   "cell_type": "code",
   "execution_count": null,
   "metadata": {},
   "outputs": [],
   "source": [
    "# your code here"
   ]
  },
  {
   "cell_type": "markdown",
   "metadata": {},
   "source": [
    "### 6) Learning from our mistakes (6 points)\n",
    "\n",
    "It is a good idea when playing Battleship to not guess the same square twice!  Make a new player function `smart_player` that takes in a board as the first argument, and the list of past guesses as a second argument.  **Use this list to make sure you don't guess the same spot twice!** Note that you do not have to keep track of the past guesses, this is done for you in the provided code for `play_game` -- review how these guesses are tracked! "
   ]
  },
  {
   "cell_type": "code",
   "execution_count": null,
   "metadata": {},
   "outputs": [],
   "source": [
    "def smart_player(board,past_guesses):\n",
    "    # your code here"
   ]
  },
  {
   "cell_type": "markdown",
   "metadata": {},
   "source": [
    "Now test this player 10 times and print out the average number of turns:"
   ]
  },
  {
   "cell_type": "code",
   "execution_count": null,
   "metadata": {},
   "outputs": [],
   "source": [
    "# your code here"
   ]
  },
  {
   "cell_type": "markdown",
   "metadata": {},
   "source": [
    "### 7) Human-level intelligence (5 points)\n",
    "\n",
    "Were these results impressive?  How do you think these could be improved further?"
   ]
  },
  {
   "cell_type": "markdown",
   "metadata": {},
   "source": [
    "Your response here"
   ]
  },
  {
   "cell_type": "markdown",
   "metadata": {},
   "source": [
    "---\n",
    "## Assignment Wrap-up\n",
    "\n",
    "Fill out the following Google form before you submit your assignment. "
   ]
  },
  {
   "cell_type": "code",
   "execution_count": null,
   "metadata": {},
   "outputs": [],
   "source": [
    "from IPython.display import HTML\n",
    "HTML(\n",
    "\"\"\"\n",
    "<iframe \n",
    "\tsrc=\"https://forms.gle/CThLLaagqn86kgFFA\" \n",
    "\twidth=\"800px\" \n",
    "\theight=\"600px\" \n",
    "\tframeborder=\"0\" \n",
    "\tmarginheight=\"0\" \n",
    "\tmarginwidth=\"0\">\n",
    "\tLoading...\n",
    "</iframe>\n",
    "\"\"\"\n",
    ")"
   ]
  },
  {
   "cell_type": "markdown",
   "metadata": {},
   "source": [
    "---\n",
    "\n",
    "### Congratulations, you're done!\n",
    "\n",
    "Submit this assignment by uploading it to the course Desire2Learn web page.  Go to the \"Homework Assignments\" section, find the submission folder link for Homework #4, and upload it there."
   ]
  },
  {
   "cell_type": "markdown",
   "metadata": {},
   "source": [
    "&#169; Copyright 2018,  Michigan State University Board of Trustees"
   ]
  }
 ],
 "metadata": {
  "kernelspec": {
   "display_name": "Python 3",
   "language": "python",
   "name": "python3"
  },
  "language_info": {
   "codemirror_mode": {
    "name": "ipython",
    "version": 3
   },
   "file_extension": ".py",
   "mimetype": "text/x-python",
   "name": "python",
   "nbconvert_exporter": "python",
   "pygments_lexer": "ipython3",
   "version": "3.7.3"
  }
 },
 "nbformat": 4,
 "nbformat_minor": 4
}
