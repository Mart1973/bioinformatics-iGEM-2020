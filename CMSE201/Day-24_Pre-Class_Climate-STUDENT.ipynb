{
 "cells": [
  {
   "cell_type": "markdown",
   "metadata": {},
   "source": [
    "## <p style=\"text-align: right;\"> &#9989; Put your name here</p>"
   ]
  },
  {
   "cell_type": "markdown",
   "metadata": {},
   "source": [
    "# Day 24 Pre-class assignment: The global carbon cycle\n",
    "\n",
    "## Goals for today's pre-class assignment\n",
    "\n",
    "* Read about the global carbon cycle\n",
    "* Think and write about how to turn the information you've read into a [compartmental model](https://en.wikipedia.org/wiki/Multi-compartment_model)!\n",
    "\n",
    "## Assignment instructions\n",
    "\n",
    "**This assignment is due by 11:59 p.m. the day before class,** and should be uploaded into the appropriate \"Pre-class assignments\" dropbox folder.  If you run into issues with your code, make sure to use Slack to help each other out and receive some assistance from the instructors. Submission instructions can be found at the end of the notebook."
   ]
  },
  {
   "cell_type": "markdown",
   "metadata": {},
   "source": [
    "---\n",
    "## Part 0: Short survey for CMSE Research Study\n",
    "\n",
    "The Department of CMSE is in the early stages of carrying out research to understand how students interact with, digest, and ultimately learn computationally-driven content. As part of this effort, a survey aimed at understanding how you feel about your ability to accomplish a variety of programming-related tasks now that you've nearly completed the course is included below. You participation in this survey is completely voluntary and the results will have _absolutely no impact_ on your final grade in this course. Furthemore, your responses will be kept completely confidential. Even your instructors will not be able to identify your individual reponses.\n",
    "\n",
    "Your participation will help to improve future iterations of our CMSE courses!"
   ]
  },
  {
   "cell_type": "code",
   "execution_count": null,
   "metadata": {},
   "outputs": [],
   "source": [
    "from IPython.display import HTML\n",
    "HTML(\n",
    "\"\"\"\n",
    "<iframe \n",
    "\tsrc=\"https://forms.gle/V84KE6QUPawZWrts6\" \n",
    "\twidth=\"800px\" \n",
    "\theight=\"600px\" \n",
    "\tframeborder=\"0\" \n",
    "\tmarginheight=\"0\" \n",
    "\tmarginwidth=\"0\">\n",
    "\tLoading...\n",
    "</iframe>\n",
    "\"\"\"\n",
    ")"
   ]
  },
  {
   "cell_type": "markdown",
   "metadata": {},
   "source": [
    "---\n",
    "## Part 1: The global carbon cycle\n",
    "\n",
    "Read the following web pages, which you will use to answer the questions below. Then answer the questions.\n",
    "\n",
    "### Readings\n",
    "\n",
    "* Read carefully:  [Wikipedia article on the carbon cycle](https://en.wikipedia.org/wiki/Carbon_cycle)\n",
    "* Read carefully: [UNH web page on carbon pools and fluxes](http://globecarboncycle.unh.edu/CarbonPoolsFluxes.shtml)\n",
    "* Read to get main points:  [Wikipedia page on carbon sequestration](https://en.wikipedia.org/wiki/Carbon_sequestration)\n",
    "* Useful backround information: [EPA global greenhouse gas emission data](https://www.epa.gov/ghgemissions/global-greenhouse-gas-emissions-data)\n",
    "\n",
    "### Questions\n",
    "\n",
    "**Question 1.**  What is the global carbon cycle?"
   ]
  },
  {
   "cell_type": "markdown",
   "metadata": {},
   "source": [
    "**Put your answer here!**"
   ]
  },
  {
   "cell_type": "markdown",
   "metadata": {},
   "source": [
    "**Question 2.**  What are the main reservoirs of carbon on Earth, and how much carbon is in each of them?"
   ]
  },
  {
   "cell_type": "markdown",
   "metadata": {},
   "source": [
    "**Put your answer here!**"
   ]
  },
  {
   "cell_type": "markdown",
   "metadata": {},
   "source": [
    "**Question 3.**  What are the natural and human-caused fluxes of carbon?  In particular, how much carbon flows out of and into each reservoir of carbon, where does it go to (or come from)? Make sure you understand the units of the fluxes as these flux values will be important for the in-class assignment."
   ]
  },
  {
   "cell_type": "markdown",
   "metadata": {},
   "source": [
    "**Put your answer here!**"
   ]
  },
  {
   "cell_type": "markdown",
   "metadata": {},
   "source": [
    "**Question 4.**  Explain how you might make a [compartment model](https://en.wikipedia.org/wiki/Multi-compartment_model) of the carbon cycle."
   ]
  },
  {
   "cell_type": "markdown",
   "metadata": {},
   "source": [
    "**Put your answer here!**"
   ]
  },
  {
   "cell_type": "markdown",
   "metadata": {},
   "source": [
    "---\n",
    "## Assignment wrap-up\n",
    "\n",
    "Please fill out the form that appears when you run the code below.  **You must completely fill this out in order to receive credit for the assignment!**"
   ]
  },
  {
   "cell_type": "code",
   "execution_count": null,
   "metadata": {},
   "outputs": [],
   "source": [
    "from IPython.display import HTML\n",
    "HTML(\n",
    "\"\"\"\n",
    "<iframe \n",
    "\tsrc=\"https://cmse.msu.edu/cmse201-pc-survey\" \n",
    "\twidth=\"800px\" \n",
    "\theight=\"600px\" \n",
    "\tframeborder=\"0\" \n",
    "\tmarginheight=\"0\" \n",
    "\tmarginwidth=\"0\">\n",
    "\tLoading...\n",
    "</iframe>\n",
    "\"\"\"\n",
    ")"
   ]
  },
  {
   "cell_type": "markdown",
   "metadata": {},
   "source": [
    "### Congratulations, you're done!\n",
    "\n",
    "Submit this assignment by uploading it to the course Desire2Learn web page.  Go to the \"Pre-class assignments\" folder, find the appropriate submission link, and upload it there.\n",
    "\n",
    "See you in class!"
   ]
  },
  {
   "cell_type": "markdown",
   "metadata": {},
   "source": [
    "&#169; Copyright 2018,  Michigan State University Board of Trustees"
   ]
  }
 ],
 "metadata": {
  "kernelspec": {
   "display_name": "Python 3",
   "language": "python",
   "name": "python3"
  },
  "language_info": {
   "codemirror_mode": {
    "name": "ipython",
    "version": 3
   },
   "file_extension": ".py",
   "mimetype": "text/x-python",
   "name": "python",
   "nbconvert_exporter": "python",
   "pygments_lexer": "ipython3",
   "version": "3.7.3"
  }
 },
 "nbformat": 4,
 "nbformat_minor": 4
}
