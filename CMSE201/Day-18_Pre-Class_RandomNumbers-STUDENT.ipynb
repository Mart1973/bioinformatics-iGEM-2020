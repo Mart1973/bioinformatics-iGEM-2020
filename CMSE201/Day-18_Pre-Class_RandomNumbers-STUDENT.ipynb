{
 "cells": [
  {
   "cell_type": "markdown",
   "metadata": {},
   "source": [
    "### <p style=\"text-align: right;\"> &#9989; Put your name here</p>"
   ]
  },
  {
   "cell_type": "markdown",
   "metadata": {},
   "source": [
    "# Day 18 Pre-Class Assignment: Random Numbers\n",
    "\n",
    "<img src=\"https://cdn-images-1.medium.com/max/1600/1*B7d5Fr27lsH3uHvzF720IA.png\" width=300px>\n",
    "\n",
    "## Goals for today's pre-class assignment\n",
    "\n",
    "* Explore different methods for generating random numbers\n",
    "* Pratice using the `if`/`elif`/`else` keywords combined with random numbers \n",
    "\n",
    "The theme of this week is creating and using random numbers to do a wide range of things, such as modeling randomness that naturally needs to be in our models, or using them to solve problems that would otherwise be too difficult to solve. "
   ]
  },
  {
   "cell_type": "markdown",
   "metadata": {},
   "source": [
    "## Assignment instructions\n",
    "\n",
    "**This assignment is due by 11:59pm the day before class,** and should be uploaded into the \"Pre-class assignments\"  submissions folder for Day 18.  Submission instructions can be found at the end of the notebook."
   ]
  },
  {
   "cell_type": "markdown",
   "metadata": {},
   "source": [
    "---\n",
    "## Revisiting random numbers\n",
    "\n",
    "We've already been using random numbers in a variety of ways in this course, but the next week or so of material will use random numbers in a number of new modeling contexts.  As a reminder of some of the ways we can access random numbers in Python, re-watch the following video:"
   ]
  },
  {
   "cell_type": "code",
   "execution_count": null,
   "metadata": {},
   "outputs": [],
   "source": [
    "# You are encourage to watch the video in full-screen mode\n",
    "from IPython.display import YouTubeVideo\n",
    "YouTubeVideo(\"fF841G53fGo\",width=640,height=360)  # random numbers"
   ]
  },
  {
   "cell_type": "markdown",
   "metadata": {},
   "source": [
    "Here are some of the imports we will use in this assignment. Notice that we're importing both `random` *and* `numpy`, which also has a `random` module.  There is also an example for how you can set a specific seed for the `random` module and the `np.random` module, which can be useful for testing code to ensure that you understand the results. **Note**: If you want to use a specific seed, you need to make sure the call to the `seed` function is before the command that is generating the random numbers."
   ]
  },
  {
   "cell_type": "code",
   "execution_count": null,
   "metadata": {
    "scrolled": true
   },
   "outputs": [],
   "source": [
    "import random\n",
    "import matplotlib.pyplot as plt\n",
    "import timeit\n",
    "import numpy as np\n",
    "%matplotlib inline\n",
    "\n",
    "random.seed(1) # this initializes the seed - see question 6 below\n",
    "np.random.seed(1)"
   ]
  },
  {
   "cell_type": "markdown",
   "metadata": {},
   "source": [
    "### Practicing random number generation\n",
    "\n",
    "The following questions are designed to give you a bit of practice with generating a variety of random numbers. Make sure you are able to accomplish all the tasks included below."
   ]
  },
  {
   "cell_type": "markdown",
   "metadata": {},
   "source": [
    "**Question 1**: Write code below to generate 100 random **floats** uniformly distributed between 0 and 1. Plot a histogram of the result values. What happens to your histogram as you generate more values?"
   ]
  },
  {
   "cell_type": "code",
   "execution_count": null,
   "metadata": {},
   "outputs": [],
   "source": []
  },
  {
   "cell_type": "markdown",
   "metadata": {},
   "source": [
    "**Question 2**: Generate an array with 100 random **integers** distributed between -1 and 3. Plot a histogram of those values."
   ]
  },
  {
   "cell_type": "code",
   "execution_count": null,
   "metadata": {},
   "outputs": [],
   "source": []
  },
  {
   "cell_type": "markdown",
   "metadata": {},
   "source": [
    "**Question 3**: Write code below to generate 10, 100, 1000, and 10000 random floats in the interval $[-5,5]$ and make a histogram for each case. Create a markdown cell after the code and comment on what patterns you see. You might want to try using NumPy's random module for getting numbers from a [uniform distribution](https://docs.scipy.org/doc/numpy/reference/generated/numpy.random.uniform.html) for this problem."
   ]
  },
  {
   "cell_type": "code",
   "execution_count": null,
   "metadata": {},
   "outputs": [],
   "source": []
  },
  {
   "cell_type": "markdown",
   "metadata": {},
   "source": [
    "**Question 4**:  Using Pandas, load the 2018 temperature data (`2018_temp_noaa.csv`) from Day 18's in-class assignment. Then, use Pandas to compute the mean and standard deviation for the mean temperature values.\n",
    "\n",
    "Take the the mean and standard deviation of the mean temperatures and use NumPy's `random` module to produce random numbers from a [normal distribution](https://docs.scipy.org/doc/numpy/reference/generated/numpy.random.normal.html#numpy.random.normal) using the mean and standard deviation you just computed to generate an array with 10, 100, 1000, 10000 samples. Plot the results to see if it converges to a \"bell curve\" as you increase the number of samples."
   ]
  },
  {
   "cell_type": "code",
   "execution_count": null,
   "metadata": {},
   "outputs": [],
   "source": []
  },
  {
   "cell_type": "markdown",
   "metadata": {},
   "source": [
    "**Question 5**:\n",
    "Broadly across science and engineering you will come across a very wide range of different types of random numbers. We have looked at three different options above:\n",
    "1. floats chosen uniformly between two values,\n",
    "2. integers chosen uniformly between two values\n",
    "3. floats chosen that come from a normal distribution (the so-called [\"bell curve\"](https://en.wikipedia.org/wiki/Normal_distribution))\n",
    "\n",
    "Next, look through [this list of Python's different choice for distributions](https://docs.scipy.org/doc/numpy/reference/routines.random.html#distributions) and pick three. Make a subplot with one row and three columns that compares the three distributions you chose using 1000 samples for each plot. Label as usual, and put a title that has the name of the distribution."
   ]
  },
  {
   "cell_type": "code",
   "execution_count": null,
   "metadata": {},
   "outputs": [],
   "source": []
  },
  {
   "cell_type": "markdown",
   "metadata": {},
   "source": [
    "**Question 6**: As we mentioned in a prior assignment, one of the interesting aspects of random number generators are that they are not **entirely** random! Think about this for a moment: computers are designed to be able to calculate very precise things with very precise instructions - how could one get randomness out of that? If the computer is following precise rules, it will only know to follow exactly those rules the next time. The way it works is that it starts with some number - _which is the seed defined above_ - and that generates a sequence; a different seed will generate a different sequence. This is very important: if you want to generate that same sequence again, you can. This means that you can make your code reproducable, which is crucial for testing and debugging your code -- often you really don't want a _truly_ random sequence! On the other hand, once you are ready to put your code in use, you can choose something like the current time to generate the seed, and that will be a new and unique sequence. \n",
    "\n",
    "Your **goal** is to show that specifying a seed will allow you to create reproducible sequence of numbers. To do this, write a short code that uses subplots to make a 2x2 array of plots. For the subplots located at positions [0,0] and [0,1], create a histogram of 1000 random numbers using the same seed (example seed = 456). For the subplots located at positions [1,0] and [1,1], create a histogram of 1000 random numbers using the same seed but different than the first row (example seed = 789). You can use any of the random number generators of your choice (e.g. uniform). "
   ]
  },
  {
   "cell_type": "code",
   "execution_count": null,
   "metadata": {},
   "outputs": [],
   "source": []
  },
  {
   "cell_type": "markdown",
   "metadata": {},
   "source": [
    "**Question 7**: Explain what this code does.\n",
    "```\n",
    "import numpy as np\n",
    "\n",
    "foo = ['a', 'b', 'c', 'd', 'e']\n",
    "print(np.random.choice(foo))\n",
    "```\n",
    "\n",
    "How would you change the code to choose more than one thing? What if you wanted the choices to be unique?"
   ]
  },
  {
   "cell_type": "markdown",
   "metadata": {},
   "source": [
    "*Put your answer here*"
   ]
  },
  {
   "cell_type": "markdown",
   "metadata": {},
   "source": [
    "### A reminder about \"elif\" statements\n",
    "When trying to evaluate conditions to make a decision in your code, sometimes `elif` is used when there are more than two conditions that we want to check in order to decide how the code behaves. Here is a simple example for how `elif` can be used. You've likely already used `elif` for code you've written, but this should be a nice reminder if you haven't done it in a while. Note that this simple example doesn't use `else` at all -- can you think of a way that you might rewrite this in a way that would?"
   ]
  },
  {
   "cell_type": "code",
   "execution_count": null,
   "metadata": {},
   "outputs": [],
   "source": [
    "import random\n",
    "x = random.randint(-1,5)\n",
    "print(x)\n",
    "if x < 3 and x >-1:\n",
    "    print(\"too small!\")\n",
    "elif x > 3:\n",
    "    print(\"too big!\")\n",
    "elif x == 3:\n",
    "    print(\"perfect!\")\n",
    "elif x == -1:\n",
    "    print(\"negative?\")"
   ]
  },
  {
   "cell_type": "markdown",
   "metadata": {},
   "source": [
    "**Question 8**: Use a random number generator to simulate the roll of a die (from 1 to 6); then use `if`/`elif`/`else` to sort the outcome. Count how many times 1 appears, how many times 6 appears, and also how many times a non-1 non-6 number appears. \n",
    "Try this for 100, 1000, 10000 times. Does the number of 1's and 6's appear to converge to 1/6 as the number of rolls increases?"
   ]
  },
  {
   "cell_type": "code",
   "execution_count": null,
   "metadata": {},
   "outputs": [],
   "source": []
  },
  {
   "cell_type": "markdown",
   "metadata": {},
   "source": [
    "Some possibly useful links:\n",
    "\n",
    "* Look up the [extra functions](https://docs.scipy.org/doc/numpy/reference/routines.random.html) associated with the random module \n",
    "* [Python \"random\" module documentation](https://docs.python.org/3/library/random.html)\n",
    "* [Numpy \"random\" module](http://docs.scipy.org/doc/numpy/reference/routines.random.html)\n",
    "\n",
    "Here are some interesting links on what you use random numbers to do in programming:\n",
    "\n",
    "* [Wikipedia article on \"Applications of randomness\"](https://en.wikipedia.org/wiki/Applications_of_randomness)\n",
    "* [Wikipedia article on random number generation](https://en.wikipedia.org/wiki/Random_number_generation)\n"
   ]
  },
  {
   "cell_type": "markdown",
   "metadata": {},
   "source": [
    "### Assignment wrapup\n",
    "\n",
    "Please fill out the form that appears when you run the code below.  **You must completely fill this out in order to receive credit for the assignment!**"
   ]
  },
  {
   "cell_type": "code",
   "execution_count": null,
   "metadata": {},
   "outputs": [],
   "source": [
    "from IPython.display import HTML\n",
    "HTML(\n",
    "\"\"\"\n",
    "<iframe \n",
    "\tsrc=\"https://cmse.msu.edu/cmse201-pc-survey\" \n",
    "\twidth=\"800px\" \n",
    "\theight=\"600px\" \n",
    "\tframeborder=\"0\" \n",
    "\tmarginheight=\"0\" \n",
    "\tmarginwidth=\"0\">\n",
    "\tLoading...\n",
    "</iframe>\n",
    "\"\"\"\n",
    ")"
   ]
  },
  {
   "cell_type": "markdown",
   "metadata": {},
   "source": [
    "### Congratulations, you're done!\n",
    "\n",
    "Submit this assignment by uploading it to the course Desire2Learn web page.  Go to the \"Pre-class assignments\" folder, find the submission link for Day 18, and upload it there.\n",
    "\n",
    "See you in class!"
   ]
  },
  {
   "cell_type": "markdown",
   "metadata": {},
   "source": [
    "&#169; Copyright 2018,  Michigan State University Board of Trustees"
   ]
  }
 ],
 "metadata": {
  "anaconda-cloud": {},
  "kernelspec": {
   "display_name": "Python 3",
   "language": "python",
   "name": "python3"
  },
  "language_info": {
   "codemirror_mode": {
    "name": "ipython",
    "version": 3
   },
   "file_extension": ".py",
   "mimetype": "text/x-python",
   "name": "python",
   "nbconvert_exporter": "python",
   "pygments_lexer": "ipython3",
   "version": "3.7.3"
  }
 },
 "nbformat": 4,
 "nbformat_minor": 4
}
