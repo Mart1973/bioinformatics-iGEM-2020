{
 "cells": [
  {
   "cell_type": "markdown",
   "metadata": {},
   "source": [
    "### <p style=\"text-align: right;\"> &#9989; Put your name here.</p>\n",
    "\n",
    "#### <p style=\"text-align: right;\"> &#9989; Put your group member names here.</p>"
   ]
  },
  {
   "cell_type": "markdown",
   "metadata": {},
   "source": [
    "# Day 24 - The global climate cycle\n",
    "<img src=\"https://upload.wikimedia.org/wikipedia/commons/thumb/5/55/Carbon_cycle-cute_diagram.jpeg/500px-Carbon_cycle-cute_diagram.jpeg\" width=400px>\n",
    "\n",
    "## Goals for today's in-class assignment\n",
    "\n",
    "* Use the data on the global carbon cycle to create a [compartment model](https://en.wikipedia.org/wiki/Multi-compartment_model), and to make predictions about global climate change under a variety of circumstances\n",
    "\n",
    "## Assignment instructions\n",
    "\n",
    "Work with your group to complete this assignment. Instructions for submitting this assignment are at the end of the notebook. The assignment is due at the end of class.  If you haven't completed all sections of the assignment, you still need to upload something!\n",
    "\n",
    "**In today's class**, we are going to implement a [compartment model](https://en.wikipedia.org/wiki/Multi-compartment_model) describing the global carbon cycle using the data that you collected as part of the pre-class assignment, explicitly connect it to the models that you created in the last class, and to make predictions about global climate change."
   ]
  },
  {
   "cell_type": "markdown",
   "metadata": {},
   "source": [
    "---\n",
    "### Step 1 - Developing a model with your group\n",
    "\n",
    "**Before we do anything else,** spend some time discussing the pre-class assignment with your group.  In particular, ensure that you agree on all of the carbon reservoirs and fluxes.  Then, **come up with a compartment model on the whiteboard that implements**:\n",
    "\n",
    "1. the simplest possible model to show how the carbon reservoirs and fluxes change with time, which tracks just the major carbon reservoirs and *natural* fluxes\n",
    "2. one that includes [anthropogenic](https://www.merriam-webster.com/dictionary/anthropogenic) (i.e., human-caused) fluxes of carbon (which should be an extension of the first model), with a function that controls the flux of human-generated carbon over time.\n",
    "\n",
    "Think about how you will initialize the simulation, how you will evolve it in time, and how you will stop it.  Also, make sure to think about how you will keep track of the amount of carbon in each reservoir!\n",
    "\n",
    "**Note:** This is meant to be a set of simple update equations, and should *not* be solved using odeint (you don't have quite enough information to create a model that is solvable in that manner).  As an example, if you had two carbon reservoirs, R$_A$ and R$_B$, and a flux F$_{A \\rightarrow B}$ showing the amount of carbon per year that goes from reservoir A to reservoir B, the update equations would be:\n",
    "\n",
    "$$ R_{A}^{N+1} = R_{A}^{N} - F_{A \\rightarrow B} \\Delta t $$\n",
    "\n",
    "$$ R_{B}^{N+1} = R_{B}^{N} + F_{A \\rightarrow B} \\Delta t $$\n",
    "\n",
    "with the times N and N+1 being separated by an amount of time $\\Delta t$, and the changed signs in the flux indicating that if reservoir A gets larger, B must get smaller (and vice versa).\n",
    "\n",
    "**Before you move forward with implementation, talk to one of the instructors to make sure you're on the right track!**"
   ]
  },
  {
   "cell_type": "markdown",
   "metadata": {},
   "source": [
    "***Make notes about your model here!***"
   ]
  },
  {
   "cell_type": "markdown",
   "metadata": {},
   "source": [
    "---\n",
    "### Step 2 - Implementing the model\n",
    "\n",
    "Now, implement your second model and, most importantly, **test it!**\n",
    "\n",
    "**First**, run it with the anthropogenic carbon flux set to zero - do the reservoirs evolve in the way you would expect based on your model? Do they stay at constant values? What would it take for this to be true? If they don't stay constant, do they increase/decrease in a way that is consistent with your model?\n",
    "\n",
    "**Then**, if you set the human-generated carbon flux at 9 gigatons of carbon per year entering the atmosphere, does the amount of carbon increase in a way that is consistent with your modeling from the last class?  (Make sure to check your units to ensure that you convert from gigatons of carbon to parts per million of CO$_2$!)\n",
    "\n",
    "As a reminder, you can find flux between all of the pools/reservoirs [here](http://globecarboncycle.unh.edu/CarbonPoolsFluxes.shtml)."
   ]
  },
  {
   "cell_type": "code",
   "execution_count": null,
   "metadata": {},
   "outputs": [],
   "source": [
    "# Put your code here\n"
   ]
  },
  {
   "cell_type": "markdown",
   "metadata": {},
   "source": [
    "---\n",
    "### Step 3 - Making some predictions about CO$_2$ and temperature\n",
    "\n",
    "Next, connect your model of the carbon cycle to the simple model that you made in the last class, which relates the atmospheric carbon dioxide concentration to global temperature.  Consider a few scenarios, and show how the various carbon reservoirs and the global mean temperature evolve over time, starting in the year 2000 with \n",
    "an atmospheric CO$_2$ concentration of 368 parts per million (ppm), an average global temperature was 15° C, and the climate sensitivity factor, S, that you estimated from data in the last class.  The scenarios that we will consider will evolve until the year 2100.  Use the following models:\n",
    "\n",
    "1.  **Baseline model:** A constant 9 gigatons of carbon per year is put into the atmosphere by humans\n",
    "2.  **Growth model:** The amount of carbon put into the atmosphere actually grows: starting at 7 gigatons/year in 2000, and increasing by 0.1 gigatons/year for every additional year thereafter (to represent increased reliance on fossil fuels).\n",
    "3.  **\"Get it under control\" model:** The amount of carbon put into the atmosphere starts at 7 gigatons/year in 2000, increases by 0.1 gigatons/year until 2020, and then decreases by 0.1 gigatons/year until 2100.\n",
    "4.  **\"Carbon sequestration\" model:** The amount of carbon put into the atmosphere starts at 7 gigatons/year in 2000, increases by 0.1 gigatons/year until 2020, and then decreases by 0.5 gigatons/year until it reaches -5 gigatons/year (indicatin that we have developed some means of \"sequestering\" carbon -- in other words, removing it from the atmosphere.\n",
    "\n",
    "Make plots of the global atmospheric CO$_2$ concentration, average global atmospheric temperature, and mass of carbon in each reservoir for each of these scenarios, plotted on the same subplot.  Create a key for the plots so we can tell which lines correspond to which scenario!"
   ]
  },
  {
   "cell_type": "code",
   "execution_count": null,
   "metadata": {},
   "outputs": [],
   "source": [
    "# Put your code here\n"
   ]
  },
  {
   "cell_type": "markdown",
   "metadata": {},
   "source": [
    "---\n",
    "### Step 4 - Making a more sophisticated model\n",
    "\n",
    "If you have time, make a more sophisticated climate model, thinking back to the [Wikipedia article on the carbon cycle](https://en.wikipedia.org/wiki/Carbon_cycle) and the [Wikipedia page on carbon sequestration](https://en.wikipedia.org/wiki/Carbon_sequestration).  What additional reservoirs might you include?  How might you create a more sophisticated or accurate representation of each reservoir or carbon flux?  (For example, do any of the carbon fluxes depend on the amount of carbon dioxide in a given carbon reservoir?)  You may want to just think this through, but not write any code - that's just fine, but make some notes in the space provided below, if that's what you choose to do!\n"
   ]
  },
  {
   "cell_type": "code",
   "execution_count": null,
   "metadata": {},
   "outputs": [],
   "source": [
    "# Put code here\n"
   ]
  },
  {
   "cell_type": "markdown",
   "metadata": {},
   "source": [
    "*Put your general thoughts/ideas here*"
   ]
  },
  {
   "cell_type": "markdown",
   "metadata": {},
   "source": [
    "---"
   ]
  },
  {
   "cell_type": "markdown",
   "metadata": {},
   "source": [
    "## Congratulations, you're done!\n",
    "\n",
    "Submit this assignment by uploading your notebook to the course Desire2Learn web page.  Go to the \"In-Class Assignments\" folder, find the appropriate submission link, and upload everything there. Make sure your name is on it!"
   ]
  },
  {
   "cell_type": "markdown",
   "metadata": {},
   "source": [
    "&#169; Copyright 2018,  Michigan State University Board of Trustees"
   ]
  }
 ],
 "metadata": {
  "kernelspec": {
   "display_name": "Python 3",
   "language": "python",
   "name": "python3"
  },
  "language_info": {
   "codemirror_mode": {
    "name": "ipython",
    "version": 3
   },
   "file_extension": ".py",
   "mimetype": "text/x-python",
   "name": "python",
   "nbconvert_exporter": "python",
   "pygments_lexer": "ipython3",
   "version": "3.7.3"
  }
 },
 "nbformat": 4,
 "nbformat_minor": 2
}
