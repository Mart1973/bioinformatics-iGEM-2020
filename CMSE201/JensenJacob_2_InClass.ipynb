{
 "cells": [
  {
   "cell_type": "markdown",
   "metadata": {},
   "source": [
    "### <p style=\"text-align: right;\"> &#9989; **Put your name here** </p>\n",
    "#### <p style=\"text-align: right;\"> &#9989; Put your group member names here</p>"
   ]
  },
  {
   "cell_type": "markdown",
   "metadata": {},
   "source": [
    "# Day 2 In-class Assignment: Order of Magnitude Modeling"
   ]
  },
  {
   "cell_type": "markdown",
   "metadata": {},
   "source": [
    "## How many mice would it take to fill up this classroom?\n",
    "\n",
    "### (a.k.a., making order-of-magnitude estimates for fun and profit!)\n",
    "![Mouse](https://www.jax.org/-/media/jaxweb/images/jax-mice-and-services/mice/web_0009_find-and-order-jax-mice.jpg?h=316&w=467&la=en&hash=D42556D3A616EC2E099378DB9CA5403D0C38C1E4)"
   ]
  },
  {
   "cell_type": "markdown",
   "metadata": {},
   "source": [
    "## Learning Goals \n",
    "\n",
    "Why are we asking you to do this?\n",
    "\n",
    "One type of modeling is called \"order-of-magnitude estimation\" or \"order-of-magnitude modeling.\"  A physicist would call this a \"Fermi Problem\" after Enrico Fermi, a physicist who participated in the Manhattan Project and who was famously good at making estimates of this sort.  More specifically, this sort of modeling makes us think about:\n",
    "\n",
    "* The quantities that should go into our models, and the reasonable values of those quantities.\n",
    "* How the different parts of our model might interact with one another.\n",
    "* What a \"good enough\" answer would be to a particular problem"
   ]
  },
  {
   "cell_type": "markdown",
   "metadata": {},
   "source": [
    "## The Problem\n",
    "\n",
    "In this project, your group is going to calculate an answer one of the following questions:\n",
    "\n",
    "1. How many cups of coffee get consumed on MSU's campus each week?  \n",
    "2. How much trash is generated in the US (in cubic meters or tons) every year?  \n",
    "3. If somebody left one of the bathroom faucets running at the Breslin Center, how long would it take to fill it up with water?  \n",
    "4. If all of the toilet paper used per week in the United States were rolled out, how far would it stretch?\n",
    "5. Which has more mass, the air in this classroom or the brains in this classroom?  \n",
    "6. On average, how many people are airborne in the world at a given moment?  \n",
    "7. How many total miles do all Americans drive in their cars in one year, and how does this compare to the circumference of the Earth ($2.5 \\times 10^4$ miles), the distance from the Earth to the Sun ($9 \\times 10^7$ miles), and size of the Solar System ($10^9$ miles)?\n",
    "\n",
    "---\n",
    "### Part 1\n",
    "\n",
    "**As a group**, you will be assigned one of these problems (so that each problem has at least one group working on it!) and then you are expected to think about the various questions that you need to ask and answer in order to give an estimate for this problem.  You need to figure out what equation(s) you need to write down in order to solve this problem, and the reasonable values that would go into the equation(s).  Then, you're going to implement a simple computer program to calculate an answer, and do it for several possible combinations of the equations!\n",
    "\n",
    "***You are encouraged to find a white board or a chalkboard to use to write out your ideas!***\n",
    "\n"
   ]
  },
  {
   "cell_type": "markdown",
   "metadata": {},
   "source": [
    "**In the cell below, write down your chosen question and the parameters in your model.** Also write down the range of possible values for each of the parameters!\n",
    "\n"
   ]
  },
  {
   "cell_type": "markdown",
   "metadata": {},
   "source": [
    "*Put your answer here! (reminder: double-click on this cell to go into \"edit mode\" and then hit shift+enter when you're done)*\n",
    "\n"
   ]
  },
  {
   "cell_type": "code",
   "execution_count": null,
   "metadata": {},
   "outputs": [],
   "source": [
    "# write a program in this cell to calculate and print out an estimate\n",
    "# of the answer to the question you've chosen to solve!\n",
    "\n",
    "\n"
   ]
  },
  {
   "cell_type": "markdown",
   "metadata": {},
   "source": [
    "**Now, run your model several times**, and each time change the values of the parameters to a different value in the range you think is valid.  In the cell below, write down all of your answers.  What is the total range, and approximately what is the average value?"
   ]
  },
  {
   "cell_type": "markdown",
   "metadata": {},
   "source": [
    "*Put your answer here!*"
   ]
  },
  {
   "cell_type": "markdown",
   "metadata": {},
   "source": [
    "---\n",
    "### Part 2 (time permitting)\n",
    "\n",
    "**Now, split into groups of 2-3 within your larger group.** For this part of the activity, each smaller group/pair is tasked with picking one of the other questions and going through the process of making another order-of-magnitude estimate. Each group must choose a *different* question. Record the name of your group/pair in the cell below."
   ]
  },
  {
   "cell_type": "markdown",
   "metadata": {},
   "source": [
    "*Put the names of the people in your group/pair here!*"
   ]
  },
  {
   "cell_type": "markdown",
   "metadata": {},
   "source": [
    "**In the cell below, write down your chosen question and the parameters in your model.** Also write down the range of possible values for each of the parameters!"
   ]
  },
  {
   "cell_type": "markdown",
   "metadata": {},
   "source": [
    "*Put your answer here!*"
   ]
  },
  {
   "cell_type": "code",
   "execution_count": null,
   "metadata": {},
   "outputs": [],
   "source": [
    "# write a program in this cell to calculate and print out an estimate\n",
    "# of the answer to the question you've chosen to solve!\n",
    "\n",
    "\n"
   ]
  },
  {
   "cell_type": "markdown",
   "metadata": {},
   "source": [
    "---"
   ]
  },
  {
   "cell_type": "markdown",
   "metadata": {},
   "source": [
    "## Congratulations, you're done!\n",
    "\n",
    "Submit this assignment by uploading it to the course Desire2Learn web page.  Go to the \"In-class assignments\" folder, find the submission folder link for Day 2, and upload it there.\n",
    "\n",
    "See you next class!"
   ]
  },
  {
   "cell_type": "markdown",
   "metadata": {},
   "source": [
    "&#169; Copyright 2018,  Michigan State University Board of Trustees"
   ]
  }
 ],
 "metadata": {
  "kernelspec": {
   "display_name": "Python 3",
   "language": "python",
   "name": "python3"
  },
  "language_info": {
   "codemirror_mode": {
    "name": "ipython",
    "version": 3
   },
   "file_extension": ".py",
   "mimetype": "text/x-python",
   "name": "python",
   "nbconvert_exporter": "python",
   "pygments_lexer": "ipython3",
   "version": "3.7.1"
  }
 },
 "nbformat": 4,
 "nbformat_minor": 2
}
