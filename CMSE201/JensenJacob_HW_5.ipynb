{
 "cells": [
  {
   "cell_type": "markdown",
   "metadata": {},
   "source": [
    "### <p style=\"text-align: right;\"> &#9989; Jacob Jensen"
   ]
  },
  {
   "cell_type": "markdown",
   "metadata": {},
   "source": [
    "<img src=\"https://cmse.msu.edu/sites/_cmse/assets/Image/image001.png\"\n",
    "     alt=\"CMSE Grapical Image\"\n",
    "     style=\"float: right; margin-right: 10px;\" \n",
    "     height=\"164\" \n",
    "     width=\"164\" />\n",
    "# __CMSE  201 - Fall 2019__\n",
    "    \n",
    "\n",
    "# Homework 5: Working with data using Pandas and Fitting data with a model"
   ]
  },
  {
   "cell_type": "markdown",
   "metadata": {},
   "source": [
    "## Goals\n",
    "\n",
    "### By the end of the homework assignment you will have practiced:\n",
    "\n",
    "1. Reading and visualizing data with Pandas\n",
    "2. Fitting data using `curve_fit` and `polyfit`\n",
    "3. Analyzing gene expression data from different tissues or cell-types, explore their relationships"
   ]
  },
  {
   "cell_type": "markdown",
   "metadata": {},
   "source": [
    "## Assignment instructions\n",
    "\n",
    "Work through the following assignment, making sure to follow all of the directions and answer all of the questions.\n",
    "\n",
    "**This assignment is due at 11:59pm on Friday, November 8th.** It should be uploaded into the \"Homework Assignments\" submission folder for Homework #5.  Submission instructions can be found at the end of the notebook."
   ]
  },
  {
   "cell_type": "markdown",
   "metadata": {},
   "source": [
    "## Grading\n",
    "\n",
    "* Exploring the gene expression data (**22 points**)\n",
    "    - Loading and inspecting the data (3 points)\n",
    "    - Determining the maximum expression values and which genes (4 points)\n",
    "    - Determining the maximum difference of gene expressions across two tissues and which genes (4 points)\n",
    "    - Finding median values in each tissue (4 points)\n",
    "    - Visualizing tissue-specific gene expressions using boxplot (3 points)\n",
    "    - Looking for correlation of gene expression between normal and cancer cells (4 points)\n",
    "* Modeling gene expression values in cancer cells using normal cells (**18 points**)\n",
    "    - Modeling gene expression in cancer cells as a function of their values from normal cells using `curve_fit` (9 points)\n",
    "    - Modeling gene expression in cancer cells as a function of their values from normal cells using `polyfit` (9 points)\n",
    "    \n",
    "**Total**: 40 points"
   ]
  },
  {
   "cell_type": "markdown",
   "metadata": {},
   "source": [
    "---\n",
    "## Part 1: Exploring the gene expression data (18 points total)\n",
    "\n",
    "### Loading and inspecting the data (3 points)\n",
    "\n",
    "The whole genome of human (~3 billion DNA characters) is composed with around 20,000 genes. Genes can produce proteins, which are the basic bulding blocks of our life. The activity of a gene is called gene expression. The expression level of a specific gene can vary a lot in different tissues or cell types, and that's why we have diverse types of cells in our body, from the starting point of stem cells to a variety of highly differentiated cells (e.g. heart, liver, skin etc). \n",
    "\n",
    "For example, neuron cells are quite different from muscle cells, because genes that show high expression levels in neuron are different from genes that show high expression levels in muscle. In the meantime, some related cell-types may have similar gene expression profiles, such as T cells and B cells in the immune system. In summary, quatitative characterization of expression levels of the ~20k genes can help us to compare different cell-types or tissues, and can also help us to understand what's going on in different cell types along the whole human genome.\n",
    "\n",
    "Using the provided dataset, `gene_expression.csv`, you're going to explore how the gene expression levels differ or correlate across different cell-types.\n",
    "\n",
    "To get started, you should include import commands for `pyplot`, `numpy`, and `pandas`. Don't forget to include the command for making sure any plots you create will show up in your notebook!"
   ]
  },
  {
   "cell_type": "code",
   "execution_count": 2,
   "metadata": {},
   "outputs": [],
   "source": [
    "# Put import commands here\n",
    "import pandas as pd\n",
    "import numpy as np\n",
    "import matplotlib.pyplot as plt\n",
    "%matplotlib inline\n"
   ]
  },
  {
   "cell_type": "markdown",
   "metadata": {},
   "source": [
    "Then, you should make sure to **read in the gene expression data file as a Pandas dataframe.**"
   ]
  },
  {
   "cell_type": "code",
   "execution_count": 3,
   "metadata": {},
   "outputs": [],
   "source": [
    "# Read in the gene expression data here'\n",
    "geneExp = pd.read_csv(\"gene_expression.csv\")\n"
   ]
  },
  {
   "cell_type": "markdown",
   "metadata": {},
   "source": [
    "Now, **write some code to inspect the properties of the data and then answer the following questions** (you should put each of your commands in separate cells to get them to display properly):\n",
    "\n",
    "* Use a command to look at the first **10** lines of data\n",
    "* Use a command to look at summary statistics (like the count, min, max, and mean) for columns with continuous data\n",
    "* What are the names of the columns?\n",
    "* How many rows are in this dataset? (Each row in the file corresponds to a specific gene.)"
   ]
  },
  {
   "cell_type": "code",
   "execution_count": 4,
   "metadata": {},
   "outputs": [
    {
     "data": {
      "text/html": [
       "<div>\n",
       "<style scoped>\n",
       "    .dataframe tbody tr th:only-of-type {\n",
       "        vertical-align: middle;\n",
       "    }\n",
       "\n",
       "    .dataframe tbody tr th {\n",
       "        vertical-align: top;\n",
       "    }\n",
       "\n",
       "    .dataframe thead th {\n",
       "        text-align: right;\n",
       "    }\n",
       "</style>\n",
       "<table border=\"1\" class=\"dataframe\">\n",
       "  <thead>\n",
       "    <tr style=\"text-align: right;\">\n",
       "      <th></th>\n",
       "      <th>gene_id</th>\n",
       "      <th>H1_Cell_Line</th>\n",
       "      <th>CD4_Memory_Primary_Cells</th>\n",
       "      <th>CD4_Naive_Primary_Cells</th>\n",
       "      <th>Adult_Liver</th>\n",
       "      <th>HepG2_Hepatocellular_Carcinoma</th>\n",
       "    </tr>\n",
       "  </thead>\n",
       "  <tbody>\n",
       "    <tr>\n",
       "      <th>0</th>\n",
       "      <td>ENSG00000000003</td>\n",
       "      <td>43</td>\n",
       "      <td>0</td>\n",
       "      <td>1</td>\n",
       "      <td>73</td>\n",
       "      <td>49</td>\n",
       "    </tr>\n",
       "    <tr>\n",
       "      <th>1</th>\n",
       "      <td>ENSG00000000419</td>\n",
       "      <td>35</td>\n",
       "      <td>45</td>\n",
       "      <td>47</td>\n",
       "      <td>52</td>\n",
       "      <td>62</td>\n",
       "    </tr>\n",
       "    <tr>\n",
       "      <th>2</th>\n",
       "      <td>ENSG00000000457</td>\n",
       "      <td>2</td>\n",
       "      <td>7</td>\n",
       "      <td>8</td>\n",
       "      <td>4</td>\n",
       "      <td>2</td>\n",
       "    </tr>\n",
       "    <tr>\n",
       "      <th>3</th>\n",
       "      <td>ENSG00000000460</td>\n",
       "      <td>6</td>\n",
       "      <td>3</td>\n",
       "      <td>3</td>\n",
       "      <td>0</td>\n",
       "      <td>3</td>\n",
       "    </tr>\n",
       "    <tr>\n",
       "      <th>4</th>\n",
       "      <td>ENSG00000000938</td>\n",
       "      <td>0</td>\n",
       "      <td>3</td>\n",
       "      <td>3</td>\n",
       "      <td>4</td>\n",
       "      <td>0</td>\n",
       "    </tr>\n",
       "    <tr>\n",
       "      <th>5</th>\n",
       "      <td>ENSG00000000971</td>\n",
       "      <td>0</td>\n",
       "      <td>4</td>\n",
       "      <td>0</td>\n",
       "      <td>566</td>\n",
       "      <td>0</td>\n",
       "    </tr>\n",
       "    <tr>\n",
       "      <th>6</th>\n",
       "      <td>ENSG00000001036</td>\n",
       "      <td>49</td>\n",
       "      <td>4</td>\n",
       "      <td>3</td>\n",
       "      <td>43</td>\n",
       "      <td>74</td>\n",
       "    </tr>\n",
       "    <tr>\n",
       "      <th>7</th>\n",
       "      <td>ENSG00000001084</td>\n",
       "      <td>6</td>\n",
       "      <td>5</td>\n",
       "      <td>4</td>\n",
       "      <td>25</td>\n",
       "      <td>10</td>\n",
       "    </tr>\n",
       "    <tr>\n",
       "      <th>8</th>\n",
       "      <td>ENSG00000001167</td>\n",
       "      <td>13</td>\n",
       "      <td>24</td>\n",
       "      <td>29</td>\n",
       "      <td>6</td>\n",
       "      <td>10</td>\n",
       "    </tr>\n",
       "    <tr>\n",
       "      <th>9</th>\n",
       "      <td>ENSG00000001461</td>\n",
       "      <td>2</td>\n",
       "      <td>13</td>\n",
       "      <td>16</td>\n",
       "      <td>1</td>\n",
       "      <td>3</td>\n",
       "    </tr>\n",
       "  </tbody>\n",
       "</table>\n",
       "</div>"
      ],
      "text/plain": [
       "           gene_id  H1_Cell_Line  CD4_Memory_Primary_Cells  \\\n",
       "0  ENSG00000000003            43                         0   \n",
       "1  ENSG00000000419            35                        45   \n",
       "2  ENSG00000000457             2                         7   \n",
       "3  ENSG00000000460             6                         3   \n",
       "4  ENSG00000000938             0                         3   \n",
       "5  ENSG00000000971             0                         4   \n",
       "6  ENSG00000001036            49                         4   \n",
       "7  ENSG00000001084             6                         5   \n",
       "8  ENSG00000001167            13                        24   \n",
       "9  ENSG00000001461             2                        13   \n",
       "\n",
       "   CD4_Naive_Primary_Cells  Adult_Liver  HepG2_Hepatocellular_Carcinoma  \n",
       "0                        1           73                              49  \n",
       "1                       47           52                              62  \n",
       "2                        8            4                               2  \n",
       "3                        3            0                               3  \n",
       "4                        3            4                               0  \n",
       "5                        0          566                               0  \n",
       "6                        3           43                              74  \n",
       "7                        4           25                              10  \n",
       "8                       29            6                              10  \n",
       "9                       16            1                               3  "
      ]
     },
     "execution_count": 4,
     "metadata": {},
     "output_type": "execute_result"
    }
   ],
   "source": [
    "# Put your code here\n",
    "geneExp.head(10)"
   ]
  },
  {
   "cell_type": "code",
   "execution_count": 5,
   "metadata": {},
   "outputs": [
    {
     "data": {
      "text/html": [
       "<div>\n",
       "<style scoped>\n",
       "    .dataframe tbody tr th:only-of-type {\n",
       "        vertical-align: middle;\n",
       "    }\n",
       "\n",
       "    .dataframe tbody tr th {\n",
       "        vertical-align: top;\n",
       "    }\n",
       "\n",
       "    .dataframe thead th {\n",
       "        text-align: right;\n",
       "    }\n",
       "</style>\n",
       "<table border=\"1\" class=\"dataframe\">\n",
       "  <thead>\n",
       "    <tr style=\"text-align: right;\">\n",
       "      <th></th>\n",
       "      <th>H1_Cell_Line</th>\n",
       "      <th>CD4_Memory_Primary_Cells</th>\n",
       "      <th>CD4_Naive_Primary_Cells</th>\n",
       "      <th>Adult_Liver</th>\n",
       "      <th>HepG2_Hepatocellular_Carcinoma</th>\n",
       "    </tr>\n",
       "  </thead>\n",
       "  <tbody>\n",
       "    <tr>\n",
       "      <th>count</th>\n",
       "      <td>19003.000000</td>\n",
       "      <td>19003.000000</td>\n",
       "      <td>19003.000000</td>\n",
       "      <td>19003.000000</td>\n",
       "      <td>19003.000000</td>\n",
       "    </tr>\n",
       "    <tr>\n",
       "      <th>mean</th>\n",
       "      <td>14.824396</td>\n",
       "      <td>15.797400</td>\n",
       "      <td>16.479556</td>\n",
       "      <td>45.610956</td>\n",
       "      <td>19.632900</td>\n",
       "    </tr>\n",
       "    <tr>\n",
       "      <th>std</th>\n",
       "      <td>36.241348</td>\n",
       "      <td>73.704173</td>\n",
       "      <td>84.814123</td>\n",
       "      <td>920.955044</td>\n",
       "      <td>179.088747</td>\n",
       "    </tr>\n",
       "    <tr>\n",
       "      <th>min</th>\n",
       "      <td>0.000000</td>\n",
       "      <td>0.000000</td>\n",
       "      <td>0.000000</td>\n",
       "      <td>0.000000</td>\n",
       "      <td>0.000000</td>\n",
       "    </tr>\n",
       "    <tr>\n",
       "      <th>25%</th>\n",
       "      <td>0.000000</td>\n",
       "      <td>0.000000</td>\n",
       "      <td>0.000000</td>\n",
       "      <td>0.000000</td>\n",
       "      <td>0.000000</td>\n",
       "    </tr>\n",
       "    <tr>\n",
       "      <th>50%</th>\n",
       "      <td>4.000000</td>\n",
       "      <td>5.000000</td>\n",
       "      <td>5.000000</td>\n",
       "      <td>3.000000</td>\n",
       "      <td>4.000000</td>\n",
       "    </tr>\n",
       "    <tr>\n",
       "      <th>75%</th>\n",
       "      <td>15.000000</td>\n",
       "      <td>16.000000</td>\n",
       "      <td>17.000000</td>\n",
       "      <td>12.000000</td>\n",
       "      <td>14.000000</td>\n",
       "    </tr>\n",
       "    <tr>\n",
       "      <th>max</th>\n",
       "      <td>1183.000000</td>\n",
       "      <td>8218.000000</td>\n",
       "      <td>9983.000000</td>\n",
       "      <td>102156.000000</td>\n",
       "      <td>16876.000000</td>\n",
       "    </tr>\n",
       "  </tbody>\n",
       "</table>\n",
       "</div>"
      ],
      "text/plain": [
       "       H1_Cell_Line  CD4_Memory_Primary_Cells  CD4_Naive_Primary_Cells  \\\n",
       "count  19003.000000              19003.000000             19003.000000   \n",
       "mean      14.824396                 15.797400                16.479556   \n",
       "std       36.241348                 73.704173                84.814123   \n",
       "min        0.000000                  0.000000                 0.000000   \n",
       "25%        0.000000                  0.000000                 0.000000   \n",
       "50%        4.000000                  5.000000                 5.000000   \n",
       "75%       15.000000                 16.000000                17.000000   \n",
       "max     1183.000000               8218.000000              9983.000000   \n",
       "\n",
       "         Adult_Liver  HepG2_Hepatocellular_Carcinoma  \n",
       "count   19003.000000                    19003.000000  \n",
       "mean       45.610956                       19.632900  \n",
       "std       920.955044                      179.088747  \n",
       "min         0.000000                        0.000000  \n",
       "25%         0.000000                        0.000000  \n",
       "50%         3.000000                        4.000000  \n",
       "75%        12.000000                       14.000000  \n",
       "max    102156.000000                    16876.000000  "
      ]
     },
     "execution_count": 5,
     "metadata": {},
     "output_type": "execute_result"
    }
   ],
   "source": [
    "geneExp.describe()"
   ]
  },
  {
   "cell_type": "code",
   "execution_count": 6,
   "metadata": {},
   "outputs": [
    {
     "data": {
      "text/html": [
       "<div>\n",
       "<style scoped>\n",
       "    .dataframe tbody tr th:only-of-type {\n",
       "        vertical-align: middle;\n",
       "    }\n",
       "\n",
       "    .dataframe tbody tr th {\n",
       "        vertical-align: top;\n",
       "    }\n",
       "\n",
       "    .dataframe thead th {\n",
       "        text-align: right;\n",
       "    }\n",
       "</style>\n",
       "<table border=\"1\" class=\"dataframe\">\n",
       "  <thead>\n",
       "    <tr style=\"text-align: right;\">\n",
       "      <th></th>\n",
       "      <th>gene_id</th>\n",
       "      <th>H1_Cell_Line</th>\n",
       "      <th>CD4_Memory_Primary_Cells</th>\n",
       "      <th>CD4_Naive_Primary_Cells</th>\n",
       "      <th>Adult_Liver</th>\n",
       "      <th>HepG2_Hepatocellular_Carcinoma</th>\n",
       "    </tr>\n",
       "  </thead>\n",
       "  <tbody>\n",
       "    <tr>\n",
       "      <th>0</th>\n",
       "      <td>ENSG00000000003</td>\n",
       "      <td>43</td>\n",
       "      <td>0</td>\n",
       "      <td>1</td>\n",
       "      <td>73</td>\n",
       "      <td>49</td>\n",
       "    </tr>\n",
       "    <tr>\n",
       "      <th>1</th>\n",
       "      <td>ENSG00000000419</td>\n",
       "      <td>35</td>\n",
       "      <td>45</td>\n",
       "      <td>47</td>\n",
       "      <td>52</td>\n",
       "      <td>62</td>\n",
       "    </tr>\n",
       "    <tr>\n",
       "      <th>2</th>\n",
       "      <td>ENSG00000000457</td>\n",
       "      <td>2</td>\n",
       "      <td>7</td>\n",
       "      <td>8</td>\n",
       "      <td>4</td>\n",
       "      <td>2</td>\n",
       "    </tr>\n",
       "    <tr>\n",
       "      <th>3</th>\n",
       "      <td>ENSG00000000460</td>\n",
       "      <td>6</td>\n",
       "      <td>3</td>\n",
       "      <td>3</td>\n",
       "      <td>0</td>\n",
       "      <td>3</td>\n",
       "    </tr>\n",
       "    <tr>\n",
       "      <th>4</th>\n",
       "      <td>ENSG00000000938</td>\n",
       "      <td>0</td>\n",
       "      <td>3</td>\n",
       "      <td>3</td>\n",
       "      <td>4</td>\n",
       "      <td>0</td>\n",
       "    </tr>\n",
       "    <tr>\n",
       "      <th>...</th>\n",
       "      <td>...</td>\n",
       "      <td>...</td>\n",
       "      <td>...</td>\n",
       "      <td>...</td>\n",
       "      <td>...</td>\n",
       "      <td>...</td>\n",
       "    </tr>\n",
       "    <tr>\n",
       "      <th>18998</th>\n",
       "      <td>ENSG00000259716</td>\n",
       "      <td>0</td>\n",
       "      <td>0</td>\n",
       "      <td>0</td>\n",
       "      <td>0</td>\n",
       "      <td>0</td>\n",
       "    </tr>\n",
       "    <tr>\n",
       "      <th>18999</th>\n",
       "      <td>ENSG00000259729</td>\n",
       "      <td>0</td>\n",
       "      <td>8</td>\n",
       "      <td>6</td>\n",
       "      <td>0</td>\n",
       "      <td>2</td>\n",
       "    </tr>\n",
       "    <tr>\n",
       "      <th>19000</th>\n",
       "      <td>ENSG00000259736</td>\n",
       "      <td>0</td>\n",
       "      <td>8</td>\n",
       "      <td>13</td>\n",
       "      <td>0</td>\n",
       "      <td>0</td>\n",
       "    </tr>\n",
       "    <tr>\n",
       "      <th>19001</th>\n",
       "      <td>ENSG00000259753</td>\n",
       "      <td>0</td>\n",
       "      <td>0</td>\n",
       "      <td>1</td>\n",
       "      <td>0</td>\n",
       "      <td>0</td>\n",
       "    </tr>\n",
       "    <tr>\n",
       "      <th>19002</th>\n",
       "      <td>ENSG00000259758</td>\n",
       "      <td>13</td>\n",
       "      <td>22</td>\n",
       "      <td>20</td>\n",
       "      <td>2</td>\n",
       "      <td>11</td>\n",
       "    </tr>\n",
       "  </tbody>\n",
       "</table>\n",
       "<p>19003 rows × 6 columns</p>\n",
       "</div>"
      ],
      "text/plain": [
       "               gene_id  H1_Cell_Line  CD4_Memory_Primary_Cells  \\\n",
       "0      ENSG00000000003            43                         0   \n",
       "1      ENSG00000000419            35                        45   \n",
       "2      ENSG00000000457             2                         7   \n",
       "3      ENSG00000000460             6                         3   \n",
       "4      ENSG00000000938             0                         3   \n",
       "...                ...           ...                       ...   \n",
       "18998  ENSG00000259716             0                         0   \n",
       "18999  ENSG00000259729             0                         8   \n",
       "19000  ENSG00000259736             0                         8   \n",
       "19001  ENSG00000259753             0                         0   \n",
       "19002  ENSG00000259758            13                        22   \n",
       "\n",
       "       CD4_Naive_Primary_Cells  Adult_Liver  HepG2_Hepatocellular_Carcinoma  \n",
       "0                            1           73                              49  \n",
       "1                           47           52                              62  \n",
       "2                            8            4                               2  \n",
       "3                            3            0                               3  \n",
       "4                            3            4                               0  \n",
       "...                        ...          ...                             ...  \n",
       "18998                        0            0                               0  \n",
       "18999                        6            0                               2  \n",
       "19000                       13            0                               0  \n",
       "19001                        1            0                               0  \n",
       "19002                       20            2                              11  \n",
       "\n",
       "[19003 rows x 6 columns]"
      ]
     },
     "execution_count": 6,
     "metadata": {},
     "output_type": "execute_result"
    }
   ],
   "source": [
    "geneExp"
   ]
  },
  {
   "cell_type": "markdown",
   "metadata": {},
   "source": [
    "The column names are \"gene_id\", \"H1_Cell_Line\", \"CD4_Memory_Primary_Cells\", \"CD4_Naive_Primary_Cells\", \"Adult_Liver\", and \"HepG2_Hepatocellular_Carcinoma\". There are 19003 rows. "
   ]
  },
  {
   "cell_type": "markdown",
   "metadata": {},
   "source": [
    "### Determining the maximum expression values and which genes\n",
    "\n",
    "We'll start off out our exploration of gene expression data by figuring out which gene has the maximum expression in a specific cell-type.\n",
    "\n",
    "The Pandas dataframe you just created should have four columns, which are:\n",
    "       \n",
    "* **'gene_id'**: the name of genes\n",
    "* **'H1_Cell_Line'**: gene expression levels in H1 cell (one kind of stem cells)\n",
    "* **'CD4_Memory_Primary_Cells'**: gene expression levels in CD4 Memory cells (one kind of T cells).\n",
    "* **'CD4_Naive_Primary_Cells'**: gene expression levels in CD4 Naive cells (the other kind of T cells).\n",
    "* **'Adult_Liver'**: gene expression levels in normal adult liver cells.\n",
    "* **'HepG2_Hepatocellular_Carcinoma'**: gene expression levels in  HepG2 cancer cells (one kind of liver cancer cells).\n",
    "\n",
    "Below, print out statements answering the following questions using masking techniques that you have learned:\n",
    "\n",
    "1) **Which gene has the maximum expression level in CD4 Memory Primary cells, and what is the expression level of that gene in CD4 Naive Primary cells?** One ways to accomplish this is through the use of masks. **(4 points)**\n"
   ]
  },
  {
   "cell_type": "code",
   "execution_count": 7,
   "metadata": {},
   "outputs": [
    {
     "data": {
      "text/html": [
       "<div>\n",
       "<style scoped>\n",
       "    .dataframe tbody tr th:only-of-type {\n",
       "        vertical-align: middle;\n",
       "    }\n",
       "\n",
       "    .dataframe tbody tr th {\n",
       "        vertical-align: top;\n",
       "    }\n",
       "\n",
       "    .dataframe thead th {\n",
       "        text-align: right;\n",
       "    }\n",
       "</style>\n",
       "<table border=\"1\" class=\"dataframe\">\n",
       "  <thead>\n",
       "    <tr style=\"text-align: right;\">\n",
       "      <th></th>\n",
       "      <th>gene_id</th>\n",
       "      <th>H1_Cell_Line</th>\n",
       "      <th>CD4_Memory_Primary_Cells</th>\n",
       "      <th>CD4_Naive_Primary_Cells</th>\n",
       "      <th>Adult_Liver</th>\n",
       "      <th>HepG2_Hepatocellular_Carcinoma</th>\n",
       "    </tr>\n",
       "  </thead>\n",
       "  <tbody>\n",
       "    <tr>\n",
       "      <th>17964</th>\n",
       "      <td>ENSG00000248272</td>\n",
       "      <td>0</td>\n",
       "      <td>8218</td>\n",
       "      <td>9983</td>\n",
       "      <td>0</td>\n",
       "      <td>3</td>\n",
       "    </tr>\n",
       "  </tbody>\n",
       "</table>\n",
       "</div>"
      ],
      "text/plain": [
       "               gene_id  H1_Cell_Line  CD4_Memory_Primary_Cells  \\\n",
       "17964  ENSG00000248272             0                      8218   \n",
       "\n",
       "       CD4_Naive_Primary_Cells  Adult_Liver  HepG2_Hepatocellular_Carcinoma  \n",
       "17964                     9983            0                               3  "
      ]
     },
     "execution_count": 7,
     "metadata": {},
     "output_type": "execute_result"
    }
   ],
   "source": [
    "# Put your code here\n",
    "geneExp [ geneExp['CD4_Memory_Primary_Cells'] == geneExp['CD4_Memory_Primary_Cells'].max() ]\n"
   ]
  },
  {
   "cell_type": "markdown",
   "metadata": {},
   "source": [
    "Gene ENSG00000248272 has max expression in CD4 Memory Primary Cells.  The expression of ENSG00000248272 in CD4 Naive Primary cells is 9983. "
   ]
  },
  {
   "cell_type": "markdown",
   "metadata": {},
   "source": [
    "2) **Compare the gene expression levels in HepG2 and Adult liver. What is the maximum of the difference between gene expression in HepG2 and that of Adult liver (i.e. HepG2 - Adult_liver)? And which gene has the maximum difference?  (4 points)**"
   ]
  },
  {
   "cell_type": "code",
   "execution_count": 9,
   "metadata": {},
   "outputs": [
    {
     "name": "stdout",
     "output_type": "stream",
     "text": [
      "The difference is 13266\n"
     ]
    },
    {
     "data": {
      "text/html": [
       "<div>\n",
       "<style scoped>\n",
       "    .dataframe tbody tr th:only-of-type {\n",
       "        vertical-align: middle;\n",
       "    }\n",
       "\n",
       "    .dataframe tbody tr th {\n",
       "        vertical-align: top;\n",
       "    }\n",
       "\n",
       "    .dataframe thead th {\n",
       "        text-align: right;\n",
       "    }\n",
       "</style>\n",
       "<table border=\"1\" class=\"dataframe\">\n",
       "  <thead>\n",
       "    <tr style=\"text-align: right;\">\n",
       "      <th></th>\n",
       "      <th>gene_id</th>\n",
       "      <th>H1_Cell_Line</th>\n",
       "      <th>CD4_Memory_Primary_Cells</th>\n",
       "      <th>CD4_Naive_Primary_Cells</th>\n",
       "      <th>Adult_Liver</th>\n",
       "      <th>HepG2_Hepatocellular_Carcinoma</th>\n",
       "    </tr>\n",
       "  </thead>\n",
       "  <tbody>\n",
       "    <tr>\n",
       "      <th>7451</th>\n",
       "      <td>ENSG00000145192</td>\n",
       "      <td>0</td>\n",
       "      <td>0</td>\n",
       "      <td>0</td>\n",
       "      <td>3610</td>\n",
       "      <td>16876</td>\n",
       "    </tr>\n",
       "  </tbody>\n",
       "</table>\n",
       "</div>"
      ],
      "text/plain": [
       "              gene_id  H1_Cell_Line  CD4_Memory_Primary_Cells  \\\n",
       "7451  ENSG00000145192             0                         0   \n",
       "\n",
       "      CD4_Naive_Primary_Cells  Adult_Liver  HepG2_Hepatocellular_Carcinoma  \n",
       "7451                        0         3610                           16876  "
      ]
     },
     "execution_count": 9,
     "metadata": {},
     "output_type": "execute_result"
    }
   ],
   "source": [
    "# Put your code here\n",
    "diffHepLiv = geneExp['HepG2_Hepatocellular_Carcinoma'] - geneExp['Adult_Liver'] \n",
    "\n",
    "maxDiff = diffHepLiv[ diffHepLiv == diffHepLiv.max() ]\n",
    "\n",
    "maxDiffRow = maxDiff.index\n",
    "\n",
    "print('The difference is {}'.format(maxDiff.iloc[0]))\n",
    "\n",
    "geneExp.iloc[maxDiffRow,:]\n",
    "\n"
   ]
  },
  {
   "cell_type": "markdown",
   "metadata": {},
   "source": [
    "The max difference 13266 and the gene that is accounting for this difference is ENSG00000145192."
   ]
  },
  {
   "cell_type": "markdown",
   "metadata": {},
   "source": [
    "### Finding median gene expression values for each cell-type/tissue (4 points)\n",
    "\n",
    "1) You want to know if the overall gene expression levels are changing in different cell-types or tissue. **Print out the median values of gene expression for each cell-type/tissue separately.**\n",
    "\n",
    "2) In addition, you want to focus on the **subset of genes that have non-zero expression in H1 cells**, i.e. the genes that have early expression in the stem cells, and check their expression levels in a later stage of differentiation (e.g. T cells, liver cells, cancer cells). **Print out the median expression values of this _subset_ of genes for each cell-type/tissue separately.** That is, find the median value for each cell-type/tissue where the expression of H1 cells is greater than zero.\n"
   ]
  },
  {
   "cell_type": "code",
   "execution_count": 10,
   "metadata": {},
   "outputs": [
    {
     "name": "stdout",
     "output_type": "stream",
     "text": [
      "The median gene expression of the cell type H1_Cell_Line is 4.0\n",
      "The median gene expression of the cell type CD4_Memory_Primary_Cells is 5.0\n",
      "The median gene expression of the cell type CD4_Naive_Primary_Cells is 5.0\n",
      "The median gene expression of the cell type Adult_Liver is 3.0\n",
      "The median gene expression of the cell type HepG2_Hepatocellular_Carcinoma is 4.0\n",
      "\n",
      "\n",
      "\n",
      "The median gene expression of genes with non-zero expression in H1 of the cell type H1_Cell_Line is 9.0,\n",
      "The median gene expression of genes with non-zero expression in H1 of the cell type CD4_Memory_Primary_Cells is 8.0,\n",
      "The median gene expression of genes with non-zero expression in H1 of the cell type CD4_Naive_Primary_Cells is 8.0,\n",
      "The median gene expression of genes with non-zero expression in H1 of the cell type Adult_Liver is 5.0,\n",
      "The median gene expression of genes with non-zero expression in H1 of the cell type HepG2_Hepatocellular_Carcinoma is 8.0,\n"
     ]
    }
   ],
   "source": [
    "# Put your code here\n",
    "geneExp.describe()\n",
    "columnLis = geneExp.columns[1:]\n",
    "\n",
    "for column in columnLis:\n",
    "    print('The median gene expression of the cell type {} is {}'.format(column, np.median(geneExp[column])))\n",
    "    \n",
    "geneH1Exp = geneExp[ geneExp['H1_Cell_Line'] != 0 ]\n",
    "print('\\n\\n')\n",
    "\n",
    "for column in columnLis:\n",
    "    print('The median gene expression of genes with non-zero expression in H1 of the cell type {} is {},'.format(column, np.median(geneH1Exp[column])))"
   ]
  },
  {
   "cell_type": "markdown",
   "metadata": {},
   "source": [
    "### Visualizing differences of expression by grouping genes (3 points)\n",
    "\n",
    "Now that you understand a bit about the overall trends in the gene expression data, you want to make a comparison of expression for different groups of genes. \n",
    "  - The first group are genes whose expression in normal adult liver are smaller than or equal to 100\n",
    "  - The second group are genes whose expression in normal adult liver are bigger than 100.\n",
    "\n",
    "And you want to compare the expression levels in **HepG2** cells for these two groups of genes.\n",
    "\n",
    "To do this, **create a new column in the data frame. Each element in the new column should be a boolean (True/False) value, indicating whether the gene belongs to the _first group_ or not.**\n",
    "\n",
    "**Then make a boxplot comparing the distributions of HepG2 expression values for the 2 groups of genes, where the x-axis is gene group (True/False category) and the y-axis is gene expression for HepG2.**\n",
    "\n",
    "Your plot should:\n",
    "\n",
    "1. include axis labels\n",
    "2. have a title\n",
    "3. use the seaborn plot style (you need to import the package and then \"set\" the style)\n",
    "4. set the y-axis range between 0 and 500\n"
   ]
  },
  {
   "cell_type": "code",
   "execution_count": 35,
   "metadata": {},
   "outputs": [
    {
     "data": {
      "image/png": "[encoded data removed]",
      "text/plain": [
       "<Figure size 432x288 with 1 Axes>"
      ]
     },
     "metadata": {},
     "output_type": "display_data"
    }
   ],
   "source": [
    "# Put your code here\n",
    "\n",
    "import seaborn as sns\n",
    "sns.set()\n",
    "\n",
    "group1 = geneExp[ geneExp['Adult_Liver'] <= 100 ] \n",
    "group2 = geneExp[ geneExp['Adult_Liver'] > 100 ] \n",
    "\n",
    "geneGroupLabels = ['Below or Equal to 100', 'Above 100']\n",
    "\n",
    "plt.boxplot([group1['HepG2_Hepatocellular_Carcinoma'], group2['HepG2_Hepatocellular_Carcinoma']], labels = geneGroupLabels)\n",
    "plt.title('Expression in HepG2 based on Adult Liver Expression')\n",
    "plt.ylabel('Expression in HepG2 Cells')\n",
    "plt.xlabel('Expression in Adult Liver Cells')\n",
    "\n",
    "plt.ylim(0, 500)\n",
    "plt.show()\n"
   ]
  },
  {
   "cell_type": "markdown",
   "metadata": {},
   "source": [
    "**Question**: For a set of data points, what's the meaning of 75% quantile? And how is it visualized in the boxplot?"
   ]
  },
  {
   "cell_type": "markdown",
   "metadata": {},
   "source": [
    "The 75% quantile is the value at the 75% mark when the data is ordered from descending to ascending values. It is halfway between the median and max value. The box plot visualizes this with the highest horizontal bar. "
   ]
  },
  {
   "cell_type": "markdown",
   "metadata": {},
   "source": [
    "### Looking for correlation in gene expression between normal adult liver cells and HepG2 cancer cells (4 points)\n",
    "\n",
    "You wonder if the genes with high expression levels in normal liver cells still have high expression levels in liver cancer cells. More generally, you want to check whether gene expression in normal liver cells is **correlated** with the expression in liver cancer cells.\n",
    "\n",
    "Your task below is to:\n",
    "\n",
    "**1. Using masks, create a new data frame where you remove the rows (i.e. genes) whose Adult_Liver value is 0 *or* HepG2 value is 0. In order words, you only want to focus on the subset of genes whose expression is non-zero in both normal adult liver and HepG2 cancer cells.**\n",
    "\n",
    "**2. Using seaborn jointplot to visualize the relationship of gene expression between normal adult liver and cancer HepG2 cells,based on the new data frame.**\n",
    "\n",
    "**3. Do the same thing as in 2, but this time plot the `np.log2` value of the gene expressions for both x-axis and y-axis.**"
   ]
  },
  {
   "cell_type": "markdown",
   "metadata": {},
   "source": [
    "*Put your answer here.*"
   ]
  },
  {
   "cell_type": "code",
   "execution_count": 50,
   "metadata": {},
   "outputs": [
    {
     "data": {
      "image/png": "[encoded data removed]",
      "text/plain": [
       "<Figure size 432x432 with 3 Axes>"
      ]
     },
     "metadata": {},
     "output_type": "display_data"
    },
    {
     "data": {
      "image/png": "[encoded data removed]",
      "text/plain": [
       "<Figure size 432x432 with 3 Axes>"
      ]
     },
     "metadata": {},
     "output_type": "display_data"
    }
   ],
   "source": [
    "### Put your code here\n",
    "geneExpRemoved = geneExp[ geneExp['Adult_Liver'] != 0 ]\n",
    "\n",
    "geneExpRemoved = geneExpRemoved[ geneExpRemoved['HepG2_Hepatocellular_Carcinoma'] != 0 ] \n",
    "\n",
    "sns.jointplot(geneExpRemoved['Adult_Liver'], geneExpRemoved['HepG2_Hepatocellular_Carcinoma'] )\n",
    "\n",
    "plt.show()\n",
    "\n",
    "liverLogVal = np.log2(geneExpRemoved['Adult_Liver'])\n",
    "hepLogVal = np.log2(geneExpRemoved['HepG2_Hepatocellular_Carcinoma'])\n",
    "\n",
    "sns.jointplot(liverLogVal, hepLogVal)\n",
    "\n",
    "plt.show()\n",
    "\n"
   ]
  },
  {
   "cell_type": "markdown",
   "metadata": {},
   "source": [
    "**Question**: Correlation is the relationship between two variables: for example, when one variable increases in value, the other increases as well (positive correlation) or when one variable increases in value the other decreases (negative correlation). Variability is how spread the data is or how clustered.\n",
    "\n",
    "Do you think that gene expression between the two cell types is correlated? Positive or negative? How variable is the data?  What can you learn from your graph?"
   ]
  },
  {
   "cell_type": "markdown",
   "metadata": {},
   "source": [
    "Yes, positive correlation. The data is decently variable as it does not form a neat line when plotted against one another. There exists extreme gene expression in HepG2 cells of certain genes."
   ]
  },
  {
   "cell_type": "markdown",
   "metadata": {},
   "source": [
    "**Question**: What's the major difference between the `log2`-transformed plot and the plot based on the original values? "
   ]
  },
  {
   "cell_type": "markdown",
   "metadata": {},
   "source": [
    "The log2 graph is now in a logarithmic scale as compared to the raw data which is in a linear scale. Also, the log2 graph shows a stronger positive correlation as compared to the raw data graph. "
   ]
  },
  {
   "cell_type": "markdown",
   "metadata": {},
   "source": [
    "---\n",
    "## Part 2: Modeling gene expression across cell types (**18 points total**)\n",
    "\n",
    "In this part of the assignment, you'll practice fitting a model to data, much like we did in class with the presidential approval ratings data and the weather data. You will use both `curvefit` and  `polyfit` functions."
   ]
  },
  {
   "cell_type": "code",
   "execution_count": 51,
   "metadata": {},
   "outputs": [],
   "source": [
    "# RUN THIS CELL! You'll be using curve_fit for this section of the assignment\n",
    "from scipy.optimize import curve_fit"
   ]
  },
  {
   "cell_type": "markdown",
   "metadata": {},
   "source": [
    "### Modeling gene expression across different cell types by `curve_fit` (9 points)\n",
    "\n",
    "Based on the pattern you observed from previous sections in this homework, you wonder if gene expressions in one cell type can be modeled or predicted by expression values in another cell type. \n",
    "\n",
    "You set out to create a linear model predicting gene expression in HepG2 liver cancer cells as a function of gene expression in normal adult liver cells using `curve_fit`. Your first step is to define a linear function, called \"test_func\", that is a linear model. Recall that linear models take the form of $y = m*x + b$, where $y$ is HepG2 gene expression, $x$ is normal adult liver gene expression, $m$ is the slope, and $b$ the intercept.\n",
    "\n",
    "Define your function `test_func` so that the inputs are `expression`, `m`, and `b`. It should return `expression`*`m` + `b`"
   ]
  },
  {
   "cell_type": "code",
   "execution_count": 52,
   "metadata": {},
   "outputs": [],
   "source": [
    "# Define your linear function, \"test_func\", here:\n",
    "def test_func(expression, m, b):\n",
    "    return expression*m + b"
   ]
  },
  {
   "cell_type": "markdown",
   "metadata": {},
   "source": [
    "Our next step is to use Scipy's `curve_fit` function to estimate our parameter values. You should review the documentation for `curve_fit`, which you can find [here](https://docs.scipy.org/doc/scipy/reference/generated/scipy.optimize.curve_fit.html).\n",
    "\n",
    "We will use the **subset data frame from the previous section**, where each gene has non-zero expression values in both normal adult liver and HepG2 cancer cells. And we will use the **log2-transformed** values for normal adult liver and HepG2 cells.\n",
    "\n",
    "We can use the log2-transformed \"Adult_Liver\" column from our dataset as the \"x\" values for the function, and the log2-transformed \"HepG2_Hepatocellular_Carcinoma\" column as our \"y\" values. **Use curve_fit to estimate the values of the parameters in the model: $m$ and $b$; and print out the values!** Make sure you include the right import command so that you can use curve_fit!\n",
    "\n",
    "Once you have your estimated parameter values, **use them to compute the expected values of gene expression in HepG2 cancer cells (log2-transformed) for the range of gene expression spanned in the normal adult liver data (log2-transformed).**\n",
    "\n",
    "Note again, we will only use the **new subset dataframe** created in the previous section which only contain genes that have non-zero expression values in both normal adult livver and HepG2 cancer cells.\n"
   ]
  },
  {
   "cell_type": "code",
   "execution_count": 58,
   "metadata": {},
   "outputs": [
    {
     "name": "stdout",
     "output_type": "stream",
     "text": [
      "m: 0.488\n",
      "b: 1.959\n"
     ]
    }
   ],
   "source": [
    "# Call the curve_fit function here\n",
    "pCoeff, pCov = curve_fit(test_func, liverLogVal, hepLogVal)\n",
    "m = pCoeff[0]\n",
    "b = pCoeff[1]\n",
    "print('m: {:.3f}\\nb: {:.3f}'.format(m,b))\n",
    "# Use your function and fitted parameter values to get the expected values\n",
    "\n",
    "hepLogValExp = test_func(liverLogVal, m, b)\n"
   ]
  },
  {
   "cell_type": "markdown",
   "metadata": {},
   "source": [
    "Now that you've used curve_fit to estimate the parameter values and compute the expected values for HepG2 gene expression values, **plot the actual data and overplot the model values in the cell below.** Make sure you include appropriate labels! Additionally, be sure to plot the actual data and predicted data in contrasting colors that are visible! Remember to use `alpha` argument in the `scatter()` function to help with overplotting and visualization (`alpha=0.1` is a good place to start).\n",
    "\n",
    "Note: both the actual and the predicted values should be log2-transformed data.\n",
    "\n"
   ]
  },
  {
   "cell_type": "code",
   "execution_count": 72,
   "metadata": {},
   "outputs": [
    {
     "data": {
      "image/png": "[encoded data removed]",
      "text/plain": [
       "<Figure size 576x360 with 1 Axes>"
      ]
     },
     "metadata": {},
     "output_type": "display_data"
    }
   ],
   "source": [
    "plt.figure(figsize=(8,5))\n",
    "\n",
    "# Put your code here\n",
    "plt.scatter(liverLogVal, hepLogVal, label = 'Actual')\n",
    "plt.plot(liverLogVal, hepLogValExp, label = 'Expected', alpha = 0.3, linewidth = 5, color = 'orange')\n",
    "plt.legend()\n",
    "plt.ylabel('log2(HepG2 Cell Expression)')\n",
    "plt.xlabel('log2(Adult Liver Cell Expression)')\n",
    "plt.title('Correlation of Gene Expressions')\n",
    "plt.show()"
   ]
  },
  {
   "cell_type": "markdown",
   "metadata": {},
   "source": [
    "**Question**: Do you think a linear model is appropriate for this data? What do you think about the \"fit\" of the data to your model?"
   ]
  },
  {
   "cell_type": "markdown",
   "metadata": {},
   "source": [
    "It's pretty good considering how much noise the data has. The overall fit isn't the best but using a higher order polynomial may not be suitable either as the amount of noise could really affect how the curve is fitted. "
   ]
  },
  {
   "cell_type": "markdown",
   "metadata": {},
   "source": [
    "### Modeling gene expression across different cell types by `polyfit` (9 points)"
   ]
  },
  {
   "cell_type": "markdown",
   "metadata": {},
   "source": [
    "You doubt that a linear model is appropriate for modeling HepG2 gene expression as a function of normal liver gene expression. You decide that you'll fit a polynomial function, using the functions `polyfit` (to estimate parameters) and `poly1d` (to create a function to model predicted results).\n",
    "\n",
    "In the cell below: \n",
    "\n",
    "**1) estimate polynomial parameters (you must decide on the order of the polynomial function) using `polyfit` for log2-transformed HepG2 gene expression and Adult Liver gene expression**\n",
    "\n",
    "**2) create a function with these parameters using `poly1d` to create expected values for HepG2 gene expression for the range spanned by the minimum and maximum values of normal adult liver gene expression in the dataset**\n",
    "\n",
    "**3) plot out the actual data along with the modeled data values in contrasting colors.**\n",
    "\n",
    "**4) print out the parameter values**\n"
   ]
  },
  {
   "cell_type": "code",
   "execution_count": 99,
   "metadata": {},
   "outputs": [
    {
     "data": {
      "text/plain": [
       "<Figure size 432x288 with 0 Axes>"
      ]
     },
     "metadata": {},
     "output_type": "display_data"
    },
    {
     "data": {
      "image/png": "[encoded data removed]",
      "text/plain": [
       "<Figure size 576x360 with 1 Axes>"
      ]
     },
     "metadata": {},
     "output_type": "display_data"
    }
   ],
   "source": [
    "### Put your code here\n",
    "pfit = np.polyfit(liverLogVal, hepLogVal, 3)\n",
    "expFunc = np.poly1d(pfit)\n",
    "\n",
    "hepLogValExp = expFunc(liverLogVal)\n",
    "\n",
    "plt.clf()\n",
    "plt.figure(figsize=(8,5))\n",
    "\n",
    "plt.scatter(liverLogVal, hepLogVal, label = 'Actual')\n",
    "plt.scatter(liverLogVal, hepLogValExp, label = 'Expected', alpha = 0.1, linewidth = 5, color = 'orange')\n",
    "plt.legend()\n",
    "plt.ylabel('log2(HepG2 Cell Expression)')\n",
    "plt.xlabel('log2(Adult Liver Cell Expression)')\n",
    "plt.title('Correlation of Gene Expressions')\n",
    "plt.show()\n"
   ]
  },
  {
   "cell_type": "markdown",
   "metadata": {},
   "source": [
    "In the cell below, explain which model you'd prefer to predict HepG2 gene expression, linear vs. higher-order?"
   ]
  },
  {
   "cell_type": "markdown",
   "metadata": {},
   "source": [
    "Linear as the amount of noise and randomness in the data makes it difficult to implement a higher order function that is usable."
   ]
  },
  {
   "cell_type": "markdown",
   "metadata": {},
   "source": [
    "---\n",
    "## Assignment wrap-up\n",
    "\n",
    "Please fill out the form that appears when you run the code below.  "
   ]
  },
  {
   "cell_type": "code",
   "execution_count": 100,
   "metadata": {},
   "outputs": [
    {
     "data": {
      "text/html": [
       "\n",
       "<iframe \n",
       "\tsrc=\"https://forms.gle/N3CzCAyYKNE5s6rr6\" \n",
       "\twidth=\"800px\" \n",
       "\theight=\"600px\" \n",
       "\tframeborder=\"0\" \n",
       "\tmarginheight=\"0\" \n",
       "\tmarginwidth=\"0\">\n",
       "\tLoading...\n",
       "</iframe>\n"
      ],
      "text/plain": [
       "<IPython.core.display.HTML object>"
      ]
     },
     "execution_count": 100,
     "metadata": {},
     "output_type": "execute_result"
    }
   ],
   "source": [
    "from IPython.display import HTML\n",
    "HTML(\n",
    "\"\"\"\n",
    "<iframe \n",
    "\tsrc=\"https://forms.gle/N3CzCAyYKNE5s6rr6\" \n",
    "\twidth=\"800px\" \n",
    "\theight=\"600px\" \n",
    "\tframeborder=\"0\" \n",
    "\tmarginheight=\"0\" \n",
    "\tmarginwidth=\"0\">\n",
    "\tLoading...\n",
    "</iframe>\n",
    "\"\"\"\n",
    ")"
   ]
  },
  {
   "cell_type": "markdown",
   "metadata": {},
   "source": [
    "---\n",
    "\n",
    "### Congratulations, you're done!\n",
    "\n",
    "Submit this assignment by uploading it to the course Desire2Learn web page.  Go to the \"Homework Assignments\" folder, find the submission link for Homework #5, and upload it there."
   ]
  }
 ],
 "metadata": {
  "kernelspec": {
   "display_name": "Python 3",
   "language": "python",
   "name": "python3"
  },
  "language_info": {
   "codemirror_mode": {
    "name": "ipython",
    "version": 3
   },
   "file_extension": ".py",
   "mimetype": "text/x-python",
   "name": "python",
   "nbconvert_exporter": "python",
   "pygments_lexer": "ipython3",
   "version": "3.7.3"
  }
 },
 "nbformat": 4,
 "nbformat_minor": 4
}
