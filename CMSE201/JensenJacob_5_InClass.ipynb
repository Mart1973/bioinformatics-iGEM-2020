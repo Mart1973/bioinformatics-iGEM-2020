{
 "cells": [
  {
   "cell_type": "markdown",
   "metadata": {},
   "source": [
    "### <p style=\"text-align: right;\"> &#9989; Jacob Jensen\n",
    "<p style=\"text-align: right;\"> &#9989; Dave Yonkers, Adam Romund, John Romig, Luke Layman, Kyleigh Phillips"
   ]
  },
  {
   "cell_type": "markdown",
   "metadata": {},
   "source": [
    "# Day 5 In-class Assignment: Using functions for fun and profit!\n",
    "<img src=\"http://3p76s62sopuo2hcrwa1rxucp.wpengine.netdna-cdn.com/wp-content/uploads/uber-cover-car-hailing.png\" width=400px>\n",
    "\n",
    "As we've mentioned previously, writing functions in Python can be _very_ useful. In this assignment, you'll spend some more time writing functions so that it starts to become second nature. If you get into the habit of writing functions early on, you'll find that you start writing more efficient code as the problems you're trying to solve get more complicated!\n",
    "\n",
    "In this assignment, we'll use functions to compute distances and optimize rideshare routes."
   ]
  },
  {
   "cell_type": "markdown",
   "metadata": {},
   "source": [
    "## Learning Goals:\n",
    "\n",
    "By the end of this assignment you should be able to:\n",
    "\n",
    "* Confidently write and execute functions in Python using varying numbers of input parameters, default parameters, and returned values"
   ]
  },
  {
   "cell_type": "markdown",
   "metadata": {},
   "source": [
    "---\n",
    "## Part 1: Revisiting the last function from the pre-class assignment\n",
    "\n",
    "In your pre-class assignment, you were asked to do the following:\n",
    "\n",
    "1. Write a function called `x_squared`.\n",
    "2. The function should take in a list of $x$-values of any length, but should have a default of [1,2,3].\n",
    "3. The function should return a new list of values that are $x^2$ values of the original input values.\n",
    "4. Print the resulting new list.\n",
    "\n",
    "Hopefully you were able to figure this out, but if not here's one possible solution:"
   ]
  },
  {
   "cell_type": "code",
   "execution_count": 1,
   "metadata": {},
   "outputs": [],
   "source": [
    "def x_squared(x_values=[1,2,3]):\n",
    "    x_sq = []\n",
    "    for x in x_values:\n",
    "        x_sq.append(x**2)\n",
    "        \n",
    "    return x_sq"
   ]
  },
  {
   "cell_type": "code",
   "execution_count": 2,
   "metadata": {},
   "outputs": [
    {
     "name": "stdout",
     "output_type": "stream",
     "text": [
      "[1, 4, 9]\n"
     ]
    }
   ],
   "source": [
    "x2 = x_squared()\n",
    "print(x2)"
   ]
  },
  {
   "cell_type": "markdown",
   "metadata": {},
   "source": [
    "Notice that when the function is called, it doesn't take any input and yet produces an output. This is the upside to defining a default value for the input. Of course, I can also make the $x$-values to be anything I want. Like so:"
   ]
  },
  {
   "cell_type": "code",
   "execution_count": 4,
   "metadata": {},
   "outputs": [
    {
     "name": "stdout",
     "output_type": "stream",
     "text": [
      "[9, 25, 100, 36, 49, 4]\n"
     ]
    }
   ],
   "source": [
    "x = [3, -5, 10, -6, -7, 2]\n",
    "x2 = x_squared(x)\n",
    "print(x2)"
   ]
  },
  {
   "cell_type": "markdown",
   "metadata": {},
   "source": [
    "### Making your function more flexible\n",
    "\n",
    "Now, the above function is great for computing $x^2$, but what if I wanted a function that could more generally compute the values for a list of $x$-values raised to any power?\n",
    "\n",
    "**As a group**, design a small function called `compute_exponent` that satisfies the following:\n",
    "\n",
    "1. Given a __list__ of $x$-values, it computes the value of $x^a$ for each value, where $a$ is a parameter that is fed into your function.\n",
    "2. The default value of $a$ is \"2\".\n",
    "3. It returns the __list__ of all the $x^a$ values.\n",
    "\n",
    "*Make sure you print out the list of resulting values to confirm that your code is working*. **Run your function for a variety of input values.**"
   ]
  },
  {
   "cell_type": "code",
   "execution_count": 30,
   "metadata": {},
   "outputs": [
    {
     "name": "stdout",
     "output_type": "stream",
     "text": [
      "[1.0, (1.463089181126665+2.528027317730214j), (0.7221678559343838+1.2478118841552186j), (0.7947723563546361+1.373262993233348j), 1.709058826000847]\n"
     ]
    }
   ],
   "source": [
    "# Define a new list to return, loop through each value of x in the inputed list and put it to power a,\n",
    "# then append that to the new list, then return that list once the loop is finished\n",
    "\n",
    "\n",
    "def compute_exponent (x_list = [], a = 2):\n",
    "    x_power_list = []\n",
    "    for x in x_list:\n",
    "        x_power = x ** a\n",
    "        x_power_list.append(x_power)\n",
    "    return x_power_list\n",
    "\n",
    "print(compute_exponent([1,-25,-3,-4,5], 0.333))\n"
   ]
  },
  {
   "cell_type": "markdown",
   "metadata": {},
   "source": [
    "**Question**: What happens in your function if $a=0.5$ and your $x$-values are a combination of positive and negative numbers?"
   ]
  },
  {
   "cell_type": "markdown",
   "metadata": {},
   "source": [
    "You take the square root of the number and negative numbers return an imaginary number."
   ]
  },
  {
   "cell_type": "markdown",
   "metadata": {},
   "source": [
    "**Question**: What if you only wanted your function to return a list of new values if all of the values are non-imaginary numbers? Explain how you might re-write your code to accomplish this. You should brainstorms ideas with your group!\n",
    "\n",
    "In case you don't remember what imaginary numbers are: https://en.wikipedia.org/wiki/Imaginary_number"
   ]
  },
  {
   "cell_type": "markdown",
   "metadata": {},
   "source": [
    "You could test to see if the power is above one and if it isn't, make sure that if a is less than a, check all values of x to make sure they are positive."
   ]
  },
  {
   "cell_type": "markdown",
   "metadata": {},
   "source": [
    "---\n",
    "## Part 2: Computing distances with functions\n",
    "\n",
    "<img src=\"https://i.imgur.com/FrMebl0.png\" width=300px>\n",
    "<div style=\"text-align: center\"> Anything look familiar about this map? </div>\n",
    "<br>\n",
    "\n",
    "\n",
    "For the next part of this assignment, we're going to think about how we might be able to write functions that can be used to compute distances on a map.\n",
    "\n",
    "### Part 2.1: Computing the Euclidean distance\n",
    "\n",
    "\"Euclidean distance\" is simply the distance of the straight line that connects two points in Euclidean space. It's basically the distance \"as the crow flies\". On a map, it might look something like this:\n",
    "\n",
    "<img src=\"https://i.imgur.com/KSmguA5.png\" width=500px>\n",
    "<div style=\"text-align: center\"> </div>"
   ]
  },
  {
   "cell_type": "markdown",
   "metadata": {},
   "source": [
    "For this part of the assignment, **write a function** that takes in two points on an $x$-$y$ plane and **returns the Euclidean distance between these two points**. Define your function so that by default, the \"stop\" point is the point (0,0). Don't worry about the units of this distance for this problem.\n",
    "\n",
    "**Work with your group to figure this out!**"
   ]
  },
  {
   "cell_type": "code",
   "execution_count": 56,
   "metadata": {},
   "outputs": [
    {
     "data": {
      "text/plain": [
       "5.0"
      ]
     },
     "execution_count": 56,
     "metadata": {},
     "output_type": "execute_result"
    }
   ],
   "source": [
    "\n",
    "\n",
    "def eucl_dist(start_pos, stop_pos = (0,0)):\n",
    "    #Assigning elements of the list to stand alone variables\n",
    "    x1 = start_pos[0]\n",
    "    y1 = start_pos[1]\n",
    "    \n",
    "    x2 = stop_pos[0]\n",
    "    y2 = stop_pos[1]\n",
    "    \n",
    "    dist = ((x1 - x2)**2 + (y1 - y2)**2)**0.5\n",
    "    \n",
    "    return dist\n",
    "    \n",
    "start_pos = (3,4)\n",
    "eucl_dist(start_pos)\n",
    "    "
   ]
  },
  {
   "cell_type": "markdown",
   "metadata": {},
   "source": [
    "### Part 2.2: Computing the \"Lyft\" distance\n",
    "\n",
    "For this part of the assignment, let's say that you've been thinking about starting a new rideshare company similar to Uber or Lyft. You've started thinking about how you should go about estimating the amount you should charge for a given ride, but you've realized that computing the Euclidean distance between two points doesn't really make sense. Now you need to create a new function that computes an estimate for the total distance of the ride for your new \"Lyft-like\" service.\n",
    "\n",
    "When you're driving a car you can't just travel in a straight line between two points, you're forced to drive along the grid structure defined by where the streets are. Your path might look something like this:\n",
    "\n",
    "<img src=\"https://i.imgur.com/ieJ1Z4k.png\" width=500px>\n",
    "<div style=\"text-align: center\"> Another potentially familiar place... </div>\n",
    "<br>\n",
    "\n",
    "For the purposes of computing these new \"Lyft\"-like distances, you're going to assume that the drivers for your company are generally pretty good about taking the shortest possible route, and you're also going to assume that, most of the time, the streets will have a pretty standard grid-like structure. After all, it would be pretty hard to predict just how irregular the routes might end up being.\n",
    "\n",
    "**Write a function for computing a \"Lyft\" distance** based on the restriction that the car must travel on a grid of roads that run parallel to the $x$ and $y$ axes of an $x$-$y$ plane. Your function should take a **starting point and a stopping point as input variables** and **return** the distance estimate. Your estimate will essentially tell you how many blocks the driver will travel to get to the destination. *Use the white boards to plan out how to do this calculation!* **Hint**: you may want to use the absolute value function for this calculation."
   ]
  },
  {
   "cell_type": "code",
   "execution_count": 4,
   "metadata": {},
   "outputs": [
    {
     "name": "stdout",
     "output_type": "stream",
     "text": [
      "7\n"
     ]
    }
   ],
   "source": [
    "# Put your function here\n",
    "def lyft_dist (start_pos, stop_pos = (0,0)):\n",
    "    x1 = start_pos[0]\n",
    "    y1 = start_pos[1]\n",
    "    \n",
    "    x2 = stop_pos[0]\n",
    "    y2 = stop_pos[1]\n",
    "    \n",
    "    dist = abs((x1 - x2)) + abs((y1 - y2))\n",
    "    return dist\n",
    "    \n",
    "print(lyft_dist([0,0], [3,4]))"
   ]
  },
  {
   "cell_type": "markdown",
   "metadata": {},
   "source": [
    "### Creating a fare-computing function\n",
    "\n",
    "Let's assume that you want to be able to quickly calculate an estimate for the cost of the trip so that you can let your riders know roughly how much you'll charge them.  To start with, you're going to use a flat rate of **40 cents** per unit distance the driver travels.\n",
    "\n",
    "**Write another function** called `trip_cost` that **uses the function you just wrote** for computing the total distance of the ride to ***print* the cost of the trip** so that it reads \"The cost of the trip will be $< amount >\" where < amount > is the total in dollars that the trip will cost. Your function should take the starting point, the stopping point, and the rate (with a default value) as inputs."
   ]
  },
  {
   "cell_type": "code",
   "execution_count": 65,
   "metadata": {},
   "outputs": [
    {
     "name": "stdout",
     "output_type": "stream",
     "text": [
      "The cost of the trip will be $2.80\n"
     ]
    }
   ],
   "source": [
    "def trip_cost (start_pos, stop_pos, rate = 0.40):\n",
    "    dist = lyft_dist(start_pos, stop_pos)\n",
    "    fare = dist * rate\n",
    "    print('The cost of the trip will be ${:.2f}'.format(fare, fare))\n",
    "    \n",
    "trip_cost((0,0), (3,4))\n"
   ]
  },
  {
   "cell_type": "markdown",
   "metadata": {},
   "source": [
    "---\n",
    "## Part 3: Combining your functions\n",
    "\n",
    "Now that you've written two different functions for finding the distance, you're thinking that it would be more convenient if you could use the same function to compute both the Euclidean distance and the Lyft distance. It would also make it a lot easier to compare how much longer the Lyft distance is than the Euclidean distance.\n",
    "\n",
    "**Write a function** that is capable of computing the Euclidean distance **or** the Lyft distance based on a keyword argument call `path_type`. \n",
    "* If the `path_type` is 'Lyft', compute the Lyft distance, otherwise compute the standard Euclidean distance.\n",
    "* Make sure that the default stopping point is (0,0).\n",
    "\n",
    "As before, your function should **return** the distance."
   ]
  },
  {
   "cell_type": "code",
   "execution_count": 63,
   "metadata": {},
   "outputs": [
    {
     "data": {
      "text/plain": [
       "7"
      ]
     },
     "execution_count": 63,
     "metadata": {},
     "output_type": "execute_result"
    }
   ],
   "source": [
    "def compute_dist(start_pos, stop_pos = (0,0), path_type = \"Euclidean\"):\n",
    "    if path_type == \"Lyft\":\n",
    "        distance = lyft_dist(start_pos, stop_pos)\n",
    "    elif path_type == 'Euclidean':\n",
    "        distance = eucl_dist(start_pos, stop_pos)\n",
    "    else:\n",
    "        print(\"Invalid argument: path type\")\n",
    "    return distance\n",
    "compute_dist(start_pos, path_type = \"Lyft\")"
   ]
  },
  {
   "cell_type": "markdown",
   "metadata": {},
   "source": [
    "**Write another function** that **uses your previous function** to compute both the Euclidean distance and the Lyft distances and **prints**:\n",
    "\n",
    "\"The Lyft distance is < X > times longer than the Euclidean distance\"\n",
    "\n",
    "where < X > is the appropriate ratio of the two distances.\n",
    "\n",
    "**Compare the two distances** for a starting point of (-2, -6) and stopping point of (4,5)."
   ]
  },
  {
   "cell_type": "code",
   "execution_count": 69,
   "metadata": {},
   "outputs": [
    {
     "name": "stdout",
     "output_type": "stream",
     "text": [
      "The Lyft distance is 1.3567 times longer than the Euclidean distance\n"
     ]
    }
   ],
   "source": [
    "start_pos = (-2, -6)\n",
    "stop_pos = (4,5)\n",
    "\n",
    "def ratio_dist(start, stop):\n",
    "    \n",
    "    eucl = compute_dist(start, stop, \"Euclidean\")\n",
    "    lyft = compute_dist(start, stop, \"Lyft\")\n",
    "    \n",
    "    ratio_dist = lyft/eucl\n",
    "    \n",
    "    print(\"The Lyft distance is {:.4f} times longer than the Euclidean distance\".format(ratio_dist))\n",
    "\n",
    "ratio_dist(start_pos, stop_pos)"
   ]
  },
  {
   "cell_type": "markdown",
   "metadata": {},
   "source": [
    "---\n",
    "## Part 4: Planning your route\n",
    "\n",
    "Now that you've worked out a system for estimating travel distances and ride fares, you're ready to start testing your new rideshare service. You fire up your fancy new program and immediately get three simultaneous rider requests, but luckily they all are looking for a ride to the same place -- the airport!\n",
    "\n",
    "You plan on picking up all three passengers on the **same trip** so that you can drop them all off at the same time. You want to take the shortest possible route so that you minimize the cost of gas and, in turn, the amount of money the trip costs you!\n",
    "\n",
    "**The challenge**: You need to create a function that takes in a starting position, a list of three rider locations, and a stopping location and determines the order of rider pickups that will require the least amount of driving. You want to make the default stopping location be the airport, since you figure this is where people will be headed most often. You should be able to use your function for computing the Lyft distance to help solve this problem.\n",
    "\n",
    "### Work out a plan for your function on the whiteboards first! You may need to draw a diagram to figure out how to solve this.\n",
    "\n",
    "Once you've come up with a plan, try **writing the function**. The function should **return the list of rider locations in the appropriate pick-up order and the total distance of the trip**.\n",
    "\n",
    "Let's assume that:\n",
    "\n",
    "1. Your starting location is (-2,3).\n",
    "2. The ride locations are (-1, -2), (3,3), and (2, -1).\n",
    "3. The stopping location, the airport, is at (4,0).\n"
   ]
  },
  {
   "cell_type": "code",
   "execution_count": 9,
   "metadata": {},
   "outputs": [
    {
     "name": "stdout",
     "output_type": "stream",
     "text": [
      "Stop1: 1, Distance covered start to 1: 6\n",
      "Stop1: 2, Distance covered 1 to 2: 15\n",
      "Stop3: 3, Distance covered 2 to 3: 20\n",
      "Distance covered 3 to stop: 23\n",
      "Stop1: 2, Distance covered start to 1: 5\n",
      "Stop1: 1, Distance covered 1 to 2: 14\n",
      "Stop3: 3, Distance covered 2 to 3: 18\n",
      "Distance covered 3 to stop: 21\n",
      "Stop1: 3, Distance covered start to 1: 8\n",
      "Stop1: 1, Distance covered 1 to 2: 12\n",
      "Stop3: 2, Distance covered 2 to 3: 21\n",
      "Distance covered 3 to stop: 25\n",
      "[[[1, 2, 3], 23], [[2, 1, 3], 21], [[3, 1, 2], 25]]\n"
     ]
    }
   ],
   "source": [
    "#Given variables\n",
    "start_pos = (-2, 3)\n",
    "pas1_pos = (-1, -2)\n",
    "pas2_pos = (3,3)\n",
    "pas3_pos = (2, -1)\n",
    "stop_pos = (4,0)\n",
    "\n",
    "#Combination of values for better access\n",
    "driving_list = [start_pos, pas1_pos, pas2_pos, pas3_pos, stop_pos]\n",
    "\n",
    "\n",
    "def drive (drive_list):\n",
    "    #Allowing index values to be better referenced\n",
    "    start = drive_list[0]\n",
    "    pas1 = drive_list[1]\n",
    "    pas2 = drive_list[2]\n",
    "    pas3 = drive_list[3]\n",
    "    stop = drive_list[4]\n",
    "    \n",
    "    #List to store combinations of distances and the route taken.\n",
    "    routesPossible_list = []\n",
    "    \n",
    "    \n",
    "    #Go through all three first possible paths to take. ex. Go to pas1 first\n",
    "    for stop1 in range(1,4):\n",
    "        \n",
    "        #reset values after all pathways using stop1 have been executed and stored\n",
    "        distanceTotal = 0\n",
    "        stopsLeft = [1,2,3]\n",
    "        \n",
    "        #Signal that we have gone to 'stop1' and that passenger no longer needs pick up\n",
    "        stopsLeft.remove(stop1)\n",
    "        \n",
    "        #Calculate the lyft distance from the start position to the first chosen stop, add this to the total distance traveled\n",
    "        distanceTotal += lyft_dist(start, drive_list[stop1])\n",
    "        \n",
    "        #Keep the first chosen stop's distannce to \"fall back\" on\n",
    "        distanceStop1 = distanceTotal\n",
    "        print(\"Stop1: {}, Distance covered start to 1: {}\".format(stop1, distanceTotal))\n",
    "        \n",
    "        #Now go through each of the other two paths possible after choosing to go to 'stop1'\n",
    "        for stop2 in stopsLeft:\n",
    "            #reset value to distance traveled to get to 'stop1'\n",
    "            distanceTotal = distanceStop1\n",
    "            \n",
    "            #removes the next stop from the list of possible stops left. This leaves one stop left in the list\n",
    "            stopsLeft.remove(stop2)\n",
    "            \n",
    "            #Calculate the lyft distance from 'stop1' to 'stop2' and add to total distance\n",
    "            distanceTotal += lyft_dist(drive_list[stop1], drive_list[stop2])\n",
    "            print(\"Stop1: {}, Distance covered 1 to 2: {}\".format(stop2, distanceTotal))\n",
    "            \n",
    "            #Calculate lyft distance from 'stop2' to last remaining stop ('stop3') and add to total distance\n",
    "            distanceTotal += lyft_dist(drive_list[stop2], drive_list[stopsLeft[0]])\n",
    "            print(\"Stop3: {}, Distance covered 2 to 3: {}\".format(stopsLeft[0], distanceTotal))\n",
    "            \n",
    "            #Calculate lyft distance from 'stop3' to endpoint and add to total distance\n",
    "            distanceTotal += lyft_dist(drive_list[stopsLeft[0]], stop)\n",
    "            print('Distance covered 3 to stop: {}'.format(distanceTotal))\n",
    "            \n",
    "            #Stores route taken into list\n",
    "            routeTaken = [stop1, stop2, stopsLeft[0]]\n",
    "            \n",
    "            #Pairs route taken with distance total\n",
    "            routeWithDistance = [routeTaken, distanceTotal]\n",
    "            \n",
    "            #Adds this pair to a possible route list\n",
    "            routesPossible_list.append(routeWithDistance)\n",
    "    return routesPossible_list\n",
    "            \n",
    "print(drive(driving_list))\n",
    "            \n",
    "            \n",
    "            \n",
    "        \n",
    "        \n"
   ]
  },
  {
   "cell_type": "markdown",
   "metadata": {},
   "source": [
    "---\n",
    "## Time permitting:\n",
    "\n",
    "If you finish this assignment early, take a moment to go back to the end of Part 1 and try to code up your solution for dealing with imaginary numbers in your `compute_exponent` function."
   ]
  },
  {
   "cell_type": "markdown",
   "metadata": {},
   "source": [
    "---\n",
    "#### An aside, for those that are interested\n",
    "\n",
    "The maps in this assignment were made, in part, using the [OSMnx](http://geoffboeing.com/2016/11/osmnx-python-street-networks/) Python package. You can check out some example code [here](https://github.com/gboeing/osmnx-examples/blob/master/notebooks/09-example-figure-ground.ipynb)"
   ]
  },
  {
   "cell_type": "markdown",
   "metadata": {},
   "source": [
    "---"
   ]
  },
  {
   "cell_type": "markdown",
   "metadata": {},
   "source": [
    "## Congratulations, you're done!\n",
    "\n",
    "Submit this assignment by uploading it to the course Desire2Learn web page.  Go to the \"In-class assignments\" folder, find the dropbox link for Day 5, and upload it there.\n",
    "\n",
    "See you next class!"
   ]
  },
  {
   "cell_type": "markdown",
   "metadata": {},
   "source": [
    "&#169; Copyright 2018,  Michigan State University Board of Trustees"
   ]
  }
 ],
 "metadata": {
  "kernelspec": {
   "display_name": "Python 3",
   "language": "python",
   "name": "python3"
  },
  "language_info": {
   "codemirror_mode": {
    "name": "ipython",
    "version": 3
   },
   "file_extension": ".py",
   "mimetype": "text/x-python",
   "name": "python",
   "nbconvert_exporter": "python",
   "pygments_lexer": "ipython3",
   "version": "3.7.3"
  }
 },
 "nbformat": 4,
 "nbformat_minor": 4
}
