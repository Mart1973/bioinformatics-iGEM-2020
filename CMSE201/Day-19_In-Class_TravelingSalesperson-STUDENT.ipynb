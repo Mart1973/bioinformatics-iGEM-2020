{
 "cells": [
  {
   "cell_type": "markdown",
   "metadata": {},
   "source": [
    "### <p style=\"text-align: right;\"> &#9989; Put your name here.</p>\n",
    "\n",
    "#### <p style=\"text-align: right;\"> &#9989; Put your group member names here.</p>"
   ]
  },
  {
   "cell_type": "markdown",
   "metadata": {},
   "source": [
    "# Day 19 In-class Assignment: The Traveling Salesperson Problem - An Application of Monte Carlo\n",
    "\n",
    "<img src=\"http://2.bp.blogspot.com/-FRB8y7vdWqk/VQLeb7zYOHI/AAAAAAAAqD8/bz5XL4uo_NQ/s523/mapsmania.jpg\" width=500px>"
   ]
  },
  {
   "cell_type": "markdown",
   "metadata": {},
   "source": [
    "## Goals for today's in-class assignment:\n",
    "\n",
    "* Use Monte Carlo methods to find the shortest path between several cities - the Traveling Salesperson problem.\n",
    "* Explore how randomization can be used to optimize problems that would be incredibly computationally expensive (and sometimes impossible) to solve exactly.\n",
    "\n",
    "## Assignment instructions\n",
    "\n",
    "Work with your group to complete this assignment. Instructions for submitting this assignment are at the end of the notebook. The assignment is due at the end of class."
   ]
  },
  {
   "cell_type": "markdown",
   "metadata": {},
   "source": [
    "---\n",
    "## The Traveling Salesman Problem\n",
    "\n",
    "The [Traveling Salesperson Problem](https://simple.wikipedia.org/wiki/Travelling_salesman_problem) is a classic problem in computer science in the area of **optimization**.  The problem is as follows: Imagine there is a salesperson who has to travel to N cities.  The order is unimportant, as long as they only visit each city once on each trip, and finish where they started.  The salesperson wants to keep the distance traveled (and thus travel costs) as low as possible.  This problem is interesting for a variety of reasons - it applies to transportation (finding the most efficient bus routes), logistics (finding the best UPS or FedEx delivery routes for some number of packages), or in optimizing manufacturing processes to reduce cost.\n",
    "\n",
    "The Traveling Salesperson Problem is extremely difficult to solve for large numbers of cities - testing every possible combination of cities would take N! (N factorial) individual tests.  For 10 cities, this would require 3,628,800 separate tests.  For $20$ cities, this would require $2,432,902,008,176,640,000$ (approximately $2.4 \\times 10^{18}$) tests - if you could test one combination per microsecond ($10^{-6}$ s) it would take approximately 76,000 years!  For 30 cities, at the same rate testing every combination would take more than one billion times the age of the Universe.  As a result, this is the kind of problem where a \"good enough\" answer is sufficient, and where randomization comes in.\n",
    "\n",
    "A good local example of a solution to the Traveling Salesperson Problem is [an optimized Michigan road trip](http://www.randalolson.com/2015/03/18/pure-michigan-road-trip-optimized/) calculated by a former MSU graduate student (and [one across the US](http://nbviewer.jupyter.org/github/rhiever/Data-Analysis-and-Machine-Learning-Projects/blob/master/optimal-road-trip/Computing%20the%20optimal%20road%20trip%20across%20the%20U.S..ipynb)).  There's also a widely-used [software library for solving the Traveling Salesperson Problem](http://www.math.uwaterloo.ca/tsp/index.html); the website has some interesting applications of the problem!\n",
    "\n",
    "This project has many steps. Read through all of the steps in advance and discuss them with your group. You might want to divide and conquer by forming sub-teams within your group. Or, simply put as many brains on each task as you can to get through each step quickly and accurately. **Use the whiteboards and the monitors to facilitate communication with your group members.**\n",
    "\n",
    "## The Monte Carlo (MC) Algorithm We Will Use\n",
    "\n",
    "There are many ways to use MC to solve the Traveling Salesperson Problem. Here we will use this basic idea:\n",
    "* store an array that has a list of cities in the order that they are visited; these can be chosen randomly because we are going to search for many other orders\n",
    "* once we have that list, we will find the distance (you got a little practice with this in the pre-class assignment)\n",
    "* you will then choose randomly (this is why this is a MC method!) two cities in that list and switch them in the array, which changes the order the salesman will take, but make sure to store the old list! (you will see why)\n",
    "* now, with that new list, you find the new distance; if the new distance is less than the previous, this becomes the new order for the salesperson; if not, go back to the previous order (which is why you saved it!)\n",
    "* loop through this many times, and plot the path each time through\n",
    "* at each MC step, append to an array the current distance and plot this at the end so that you can see how the MC algorithm made progress\n",
    "\n",
    "The algorithm of choosing two cities in the list and swapping them is _only one_ way to do this. Below you will be asked to think of several other possibilites and try at least one of them. As you code this and think about what it is doing, you might think of better algorithms along the way.\n",
    "\n",
    "As you get shorter and shorter distances, post your best results with your random number seed on Slack. Let's see which group has the best algorithm? (And, let's see if we all agree with each other.)"
   ]
  },
  {
   "cell_type": "code",
   "execution_count": null,
   "metadata": {},
   "outputs": [],
   "source": [
    "# EXECUTE THIS CELL (this gets our important imports out of the way)\n",
    "import numpy as np\n",
    "%matplotlib inline\n",
    "import matplotlib.pyplot as plt\n",
    "from IPython.display import display, clear_output\n",
    "import time"
   ]
  },
  {
   "cell_type": "markdown",
   "metadata": {},
   "source": [
    "____\n",
    "#### A Word to the Wise....\n",
    "____\n",
    "\n",
    "This project has a lot of interconnected parts, which will lead to code that might get pretty complicated. Take time with your group to outline a step-by-step process for building each of the parts step by step. \n",
    "\n",
    "We have left little code ideas below. Feel free to use them, or ignore them if you have a better way or they just confuse you. This is a good time to use functions, which break up a larger problem into smaller, more manageable pieces. \n",
    "____"
   ]
  },
  {
   "cell_type": "markdown",
   "metadata": {},
   "source": [
    "Here are two functions that you might find useful. Feel free to use them, modify them, or if you're feeling ambitious and want to write your own functions, you can even ignore them."
   ]
  },
  {
   "cell_type": "code",
   "execution_count": null,
   "metadata": {},
   "outputs": [],
   "source": [
    "def calc_total_distance(table_of_distances, city_order):\n",
    "    '''\n",
    "    Calculates distances between a sequence of cities.\n",
    "    \n",
    "    Inputs: N x N array containing distances between each pair of the N\n",
    "    cities, as well as an array of length N+1 containing the city order,\n",
    "    which starts and ends with the same city (ensuring that the path is\n",
    "    closed)\n",
    "\n",
    "    Returns: total path length for the closed loop.\n",
    "    '''\n",
    "    total_distance = 0.0\n",
    "\n",
    "    # loop over cities and sum up the path length between successive pairs\n",
    "    for i in range(city_order.size-1):\n",
    "        total_distance += table_of_distances[city_order[i]][city_order[i+1]]\n",
    "\n",
    "    return total_distance\n",
    "\n",
    "\n",
    "def plot_cities(city_order, city_x, city_y):\n",
    "    '''\n",
    "    Plots cities and the path between them.\n",
    "    \n",
    "    Inputs:\n",
    "    \n",
    "    city_order : the order of cities\n",
    "    city_x : the x courdinates of each city\n",
    "    city_y : the y coordinates of each city.  \n",
    "    \n",
    "    Returns: a plot showing the cities and the path between them.\n",
    "    '''\n",
    "    \n",
    "    # first make x,y arrays\n",
    "    x = []\n",
    "    y = []\n",
    "\n",
    "    # put together arrays of x and y positions that show the order that the\n",
    "    # salesman traverses the cities\n",
    "    for i in range(0, city_order.size):\n",
    "        x.append(city_x[city_order[i]])\n",
    "        y.append(city_y[city_order[i]])\n",
    "\n",
    "    # append the first city onto the end so the loop is closed\n",
    "    x.append(city_x[city_order[0]])\n",
    "    y.append(city_y[city_order[0]])\n",
    "\n",
    "    time.sleep(0.1)  \n",
    "    clear_output(wait = True)\n",
    "    display(fig)            # Reset display\n",
    "    fig.clear()             # clear output for animation\n",
    "\n",
    "    plt.xlim(-0.4, 20.4)    # give a little space around the edges of the plot\n",
    "    plt.ylim(-0.4, 20.4)\n",
    "    \n",
    "    # plot city positions in blue, and path in red.\n",
    "    plt.plot(city_x, city_y, 'bo', x, y, 'r-')"
   ]
  },
  {
   "cell_type": "markdown",
   "metadata": {},
   "source": [
    "## Setting everything up\n",
    "\n",
    "The following code does much of the setup work for you, so that you can focus on finding the \"best\" route for your salesperson.  The code does the following:\n",
    "\n",
    "* Given a number of cities, sets up random x and y positions\n",
    "* Calculates a table of distances between pairs of cities, which can be used for calculating the total trip distance. (this is what you tried to do in the pre-class assignment)\n",
    "* Sets up an array that controls the order that the salesperson travels between cities\n",
    "* Plots out the initial path.\n",
    "\n",
    "This code sets things up to get the MC process started. You might have a better way to do this, so feel free to make changes...or not. Either way, walk through and discuss this with your group members.\n",
    "\n",
    "**Make sure you understand what all of this code is doing!**"
   ]
  },
  {
   "cell_type": "code",
   "execution_count": null,
   "metadata": {},
   "outputs": [],
   "source": [
    "# number of cities we'll use.\n",
    "number_of_cities = 30\n",
    "\n",
    "# seed for random number generator so we get the same value every time!\n",
    "# There is a really nice feature of using seeds here: your classmates can also use the same\n",
    "# seed. As you get results post them on Slack with your seed. Let's see who gets the shortest\n",
    "# distance! (Or, the same distance when that is appropriate.)\n",
    "np.random.seed(123456789)\n",
    "\n",
    "# create random x,y positions for our current number of cities.  (Distance scaling is arbitrary.)\n",
    "city_x = np.random.random(size = number_of_cities) * 20.0\n",
    "city_y = np.random.random(size = number_of_cities) * 20.0\n",
    "\n",
    "# table of city distances - empty for the moment\n",
    "city_distances = np.zeros((number_of_cities,number_of_cities))\n",
    "\n",
    "# Calculate distance between each pair of cities and store it in the table.\n",
    "# Technically we're calculating 2x as many things as we need (as well as the\n",
    "# diagonal, which should all be zeros).\n",
    "for a in range(number_of_cities):\n",
    "    for b in range(number_of_cities):\n",
    "        city_distances[a][b] = ((city_x[a] - city_x[b])**2 + (city_y[a]-city_y[b])**2 )**0.5\n",
    "\n",
    "# create the array of cities in the order we're going to go through them\n",
    "city_order = np.arange(city_distances.shape[0])\n",
    "\n",
    "# tack on the first city to the end of the array, since that ensures a closed loop\n",
    "city_order = np.append(city_order, city_order[0])\n",
    "\n",
    "fig = plt.figure(figsize=(6,6))\n",
    "plot_cities(city_order, city_x, city_y)"
   ]
  },
  {
   "cell_type": "markdown",
   "metadata": {},
   "source": [
    "## Put your code below this!\n",
    "\n",
    "Now it is your turn!\n",
    "\n",
    "As a reminder of the plan from above, our code should take some number of steps, doing the following at each step:\n",
    "\n",
    "1. Randomly swap two cities in the array of cities (except for the first/last city)\n",
    "2. Check the total distance traversed by the salesman\n",
    "3. If the new ordering results in a shorter path, keep it.  If not, throw it away.\n",
    "4. Plot the shorter of the two paths (the original one or the new one)\n",
    "\n",
    "Also, you keep track of the steps and the minimum distance traveled as a function of number of steps so that you can plot out the minimum distance as a function of step later on!\n",
    "\n",
    "**Task**: Two skeleton functions, `swap_city` and `find_path`, have been included below that you should try to use for solving this problem. The `find_path` function should call the `swap_city` function to change the path and the `plot_cities` function to display the current path as you hunt for a better path. If you can get both functions working, you can just execute the cells for visualizing the results near the end of the assignment"
   ]
  },
  {
   "cell_type": "code",
   "execution_count": null,
   "metadata": {},
   "outputs": [],
   "source": [
    "# Put your code here!\n",
    "\n",
    "# Some ideas are given below:\n",
    "\n",
    "def swap_city(city_order):\n",
    "    '''\n",
    "    This function randomly swaps two cities in the current path defined by city_order.\n",
    "    Args:\n",
    "       city_order: a path for the salesperson.\n",
    "    Returns:\n",
    "       new_order: new path with two cities swapped.\n",
    "    '''\n",
    "    # This step is important! What is \".copy()\" doing? What if we didn't include that?\n",
    "    new_order = city_order.copy()\n",
    "    \n",
    "    # Put your swapping code here\n",
    "    \n",
    "    \n",
    "    return new_order\n",
    "\n",
    "def find_path(city_order, dist_table, city_x, city_y, N):\n",
    "    '''\n",
    "    This function finds the shortest path covering all cities using MC method. \n",
    "    Args:\n",
    "       city_order: a path for the salesperson.\n",
    "       dist_table: array containing mutual distance between cities.\n",
    "       city_x: the x coordinate of the cities.\n",
    "       city_y: the y coordinate of the cities.\n",
    "       N: the number of iterations for the search.\n",
    "    Returns:\n",
    "       best_order: a solution for \"best\" path.\n",
    "       dist: list of distances for each iteration\n",
    "    '''\n",
    "    # Put your path-finding code here, make sure you plot the cities so that you can see the path change\n",
    "    \n",
    "\n",
    "    return dist, best_order"
   ]
  },
  {
   "cell_type": "markdown",
   "metadata": {},
   "source": [
    "#### Testing your code\n",
    "\n",
    "Test out your `swap_city` code here. Make sure that the code doesn't inadvertently change your original city order! It should return a new order array. This is important for making sure your `find_path` code works correctly."
   ]
  },
  {
   "cell_type": "code",
   "execution_count": null,
   "metadata": {},
   "outputs": [],
   "source": [
    "# Test your swap_city code here\n"
   ]
  },
  {
   "cell_type": "markdown",
   "metadata": {},
   "source": [
    "___\n",
    "### Visualizing your results\n",
    "\n",
    "This is where you will output your results. The main two outputs are an animation with the increasingly shorter path, and a plot of the distances versus trial number. Also, make a point to keep track of the shortest distance for a given seed and number of trials so that you can compare with people on Slack to see if your code is working. If you use the same seed, your results should be the same as other groups."
   ]
  },
  {
   "cell_type": "markdown",
   "metadata": {},
   "source": [
    "This cell should produce the animation of ever-shortening paths, if your code is set up correctly. It should also return a list of distances and the \"best\" order. You can use the list of distances for the plot in the next cell."
   ]
  },
  {
   "cell_type": "code",
   "execution_count": null,
   "metadata": {},
   "outputs": [],
   "source": [
    "fig = plt.figure(figsize=(6,6))\n",
    "np.random.seed(8675309) # Feel free to change this to see how the results change!\n",
    "dist, best_order = find_path(city_order, city_distances, city_x, city_y, N = 100)"
   ]
  },
  {
   "cell_type": "markdown",
   "metadata": {},
   "source": [
    "This cell should plot the distance as a function of the number of iterations. You should find that the total distance of the route gets shorter with time."
   ]
  },
  {
   "cell_type": "code",
   "execution_count": null,
   "metadata": {},
   "outputs": [],
   "source": [
    "plt.plot(dist)\n",
    "plt.xlabel(\"Iteration number\")\n",
    "plt.ylabel(\"Total distance\")\n",
    "print(\"Final distance:\",dist[-1])"
   ]
  },
  {
   "cell_type": "markdown",
   "metadata": {},
   "source": [
    "___\n",
    "### Brainstorming and testing other algorithms\n",
    "\n",
    "It is possible that the algorithm used here is not the best. Discuss with your group other possible algorithms and write three ideas here. If you have time, try coding one of them. \n",
    "\n",
    "Our group's new ideas for algorithms:\n",
    "\n",
    "1. \n",
    "2. \n",
    "3. \n",
    "\n",
    "Our code:"
   ]
  },
  {
   "cell_type": "code",
   "execution_count": null,
   "metadata": {},
   "outputs": [],
   "source": []
  },
  {
   "cell_type": "markdown",
   "metadata": {},
   "source": [
    "----\n"
   ]
  },
  {
   "cell_type": "markdown",
   "metadata": {},
   "source": [
    "-----\n",
    "### Congratulations, we're done!\n",
    "\n",
    "Now, you just need to submit this assignment by uploading it to the course <a href=\"https://d2l.msu.edu/\">Desire2Learn</a> web page for today's submission folder (Don't forget to add your names in the first cell).\n"
   ]
  },
  {
   "cell_type": "markdown",
   "metadata": {},
   "source": [
    "&#169; Copyright 2018,  Michigan State University Board of Trustees"
   ]
  }
 ],
 "metadata": {
  "anaconda-cloud": {},
  "kernelspec": {
   "display_name": "Python 3",
   "language": "python",
   "name": "python3"
  },
  "language_info": {
   "codemirror_mode": {
    "name": "ipython",
    "version": 3
   },
   "file_extension": ".py",
   "mimetype": "text/x-python",
   "name": "python",
   "nbconvert_exporter": "python",
   "pygments_lexer": "ipython3",
   "version": "3.7.3"
  }
 },
 "nbformat": 4,
 "nbformat_minor": 4
}
