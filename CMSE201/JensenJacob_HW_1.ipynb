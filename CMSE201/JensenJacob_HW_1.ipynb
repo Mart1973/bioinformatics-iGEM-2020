{
 "cells": [
  {
   "cell_type": "markdown",
   "metadata": {},
   "source": [
    "# __CMSE  201 &ndash; Fall 2019__\n",
    "\n",
    "<img src=\"https://cmse.msu.edu/sites/_cmse/assets/Image/image002.jpg\"\n",
    "     alt=\"CMSE Logo\"\n",
    "     align=\"right\" \n",
    "     height=\"100\" \n",
    "     width=\"100\" />\n",
    "\n",
    "# Homework 1: Introduction to Python Programming\n",
    "\n",
    "In this homework you will practice some fundamental progamming techniques and skills using the Python programming language. This should serve as a good assessment of what you understand at this point in the course. Make sure to use Slack and help room hours if you run into issues!\n",
    "\n",
    "___"
   ]
  },
  {
   "cell_type": "markdown",
   "metadata": {},
   "source": [
    "## Goals\n",
    "\n",
    "### By the end of the homework assignment you will have practiced:\n",
    "\n",
    "1. Using lists and other Python data types\n",
    "2. Understanding the difference between lists and dictionaries\n",
    "3. Defining functions\n",
    "4. Using `for` and `while` loops to repeat a specified task\n",
    "5. How to use Boolean operators in if-elif-else statements\n"
   ]
  },
  {
   "cell_type": "markdown",
   "metadata": {},
   "source": [
    "## Assignment instructions\n",
    "\n",
    "Work through the following assignment, making sure to follow all the directions and answer all the questions.\n",
    "\n",
    "**This assignment is due at 11:59pm on Friday, September 13.** It should be uploaded into the \"Homework Assignments\" submission folder for Homework #1.  Submission instructions can be found at the end of the notebook."
   ]
  },
  {
   "cell_type": "markdown",
   "metadata": {},
   "source": [
    "## Version check\n",
    "\n",
    "Before you begin, make sure your Jupyter kernel is Python3. There are significant differences between Python2 and Python3, and we will use Python3 in this course. The kernel type at the upper-right corner should say \"Python3\" and the following code should show a version 3.x.y.\n",
    "\n",
    "If your kernel is Python2, try selecting Python3 from the Kernel menu above under the submenu \"Change kernel\". If that does not work, consult the helproom for assistance."
   ]
  },
  {
   "cell_type": "code",
   "execution_count": 1,
   "metadata": {},
   "outputs": [
    {
     "name": "stdout",
     "output_type": "stream",
     "text": [
      "3.7.3 (default, Mar 27 2019, 22:11:17) \n",
      "[GCC 7.3.0]\n"
     ]
    }
   ],
   "source": [
    "import sys\n",
    "print(sys.version)"
   ]
  },
  {
   "cell_type": "markdown",
   "metadata": {},
   "source": [
    "## Grading\n",
    "\n",
    "* Question 1: Working with lists and dictionaries (5 points)\n",
    "* Question 2: Justification through calculation (3 points)\n",
    "* Question 3: Finding the nucleon mass (3 points)\n",
    "* Question 4: Carbon dating (3 points)\n",
    "* Question 5: Finding divisors (3 points)\n",
    "* Question 6: Finding beer for a beginning-of-the-semester party (5 points)\n",
    "\n",
    "Total points possible: **22**\n",
    "___"
   ]
  },
  {
   "cell_type": "markdown",
   "metadata": {},
   "source": [
    "## Question 1: Working with lists and dictionaries (5 points)\n",
    "\n",
    "For this question, you will be working with some fundamental datatypes in Python. Namely, we will be working with lists, strings, dictionaries, and integer and floating-point numbers.\n",
    "\n"
   ]
  },
  {
   "cell_type": "markdown",
   "metadata": {},
   "source": [
    "### Part 1: Lists (4 points)\n",
    "This part will have multiple steps. Please write each new step in a new cell to facilitate grading.\n",
    "\n",
    "* Create a **list** called `grab_bag` that contains the **strings**: `\"phone\"`, `\"laptop\"`, `\"jacket\"`, `\"pencil box\"` and `\"notepad\"`, in that order.\n",
    "* Using a **for loop**, **print** all of the elements that are in the list `grab_bag`.\n",
    "* Replace the string `\"notepad\"` with the string `\"CMSE\"`. Then, replace the string `\"jacket\"` with the integer `42`. Then, print the new list. After you print the list, set the integer `42` to be the string `'q'`.\n",
    "* Replace the string \"phone\" with the list of integers `[5,1,7,8,8,4]`, and print the new list.\n",
    "* Use a command to find the length of the list `grab_bag`. Then, write a loop that finds the length of __*each element*__ in the list. Include print statements to specify what you are finding the length of. For example, `\"The length of backpack is: 8\"` or `\"The length of grab_bag is: 5\"`.\n"
   ]
  },
  {
   "cell_type": "code",
   "execution_count": 6,
   "metadata": {},
   "outputs": [],
   "source": [
    "# Write your solution for the first bullet point here\n",
    "grab_bag = ['phone', 'laptop', 'jacket', 'pencil box', 'notepad']"
   ]
  },
  {
   "cell_type": "code",
   "execution_count": 7,
   "metadata": {},
   "outputs": [
    {
     "name": "stdout",
     "output_type": "stream",
     "text": [
      "phone\n",
      "laptop\n",
      "jacket\n",
      "pencil box\n",
      "notepad\n"
     ]
    }
   ],
   "source": [
    "# Write your solution to the second bullet point here\n",
    "for i in grab_bag:\n",
    "    print(i)"
   ]
  },
  {
   "cell_type": "code",
   "execution_count": 8,
   "metadata": {},
   "outputs": [
    {
     "name": "stdout",
     "output_type": "stream",
     "text": [
      "['phone', 'laptop', 42, 'pencil box', 'CMSE']\n"
     ]
    }
   ],
   "source": [
    "# Write your solution for the third bullet point here\n",
    "grab_bag[4] = 'CMSE'\n",
    "grab_bag[2] = 42\n",
    "print(grab_bag)\n",
    "grab_bag[2] = 'q'"
   ]
  },
  {
   "cell_type": "code",
   "execution_count": 9,
   "metadata": {},
   "outputs": [
    {
     "name": "stdout",
     "output_type": "stream",
     "text": [
      "[[5, 1, 7, 8, 8, 4], 'laptop', 'q', 'pencil box', 'CMSE']\n"
     ]
    }
   ],
   "source": [
    "# Write your solution for the fourth bullet point here\n",
    "grab_bag[0] = [5,1,7,8,8,4]\n",
    "print(grab_bag)"
   ]
  },
  {
   "cell_type": "code",
   "execution_count": 11,
   "metadata": {},
   "outputs": [
    {
     "name": "stdout",
     "output_type": "stream",
     "text": [
      "The length of grab bag is: 5\n",
      "The length of [5, 1, 7, 8, 8, 4] is: 6\n",
      "The length of laptop is: 6\n",
      "The length of q is: 1\n",
      "The length of pencil box is: 10\n",
      "The length of CMSE is: 4\n"
     ]
    }
   ],
   "source": [
    "# Write your solution for the fifth bullet point here\n",
    "print('The length of grab bag is: {}'.format(len(grab_bag)))\n",
    "\n",
    "for j in grab_bag:\n",
    "    print('The length of {} is: {}'.format(j, len(j)))"
   ]
  },
  {
   "cell_type": "markdown",
   "metadata": {},
   "source": [
    "### Part 2: Dictionaries (1 point)\n",
    "\n",
    "Dictionaries are like lists in the sense that we have some object (e.g. integer, string, etc.) occupying a position in the dictionary. However, dictionaries are differ in that we refer to each element by a **key** rather than an integer index. For example, in the dictionary `example_dict` in the cell below, the key string `\"red\"` corresponds to the **value** integer `-2`, the key string `\"green\"` corresponds to the value string `\"beach_ball\"`. We can include values of different types in the same dictionary, just as we did with lists above.\n",
    "\n",
    "__*IMPORTANT:*__ Keys may be of any type, but an element can only be accessed by its specific key. Even though `\"red\"` is the first key, `example_dict[0]` is not a valid way to access it. Also note that dictionaries are written using **curly braces `{}`**; lists use **square brackets `[]`**. The key and value pairs are separated by a **colon `:`**."
   ]
  },
  {
   "cell_type": "code",
   "execution_count": 15,
   "metadata": {},
   "outputs": [
    {
     "data": {
      "text/plain": [
       "-2"
      ]
     },
     "execution_count": 15,
     "metadata": {},
     "output_type": "execute_result"
    }
   ],
   "source": [
    "# Here is how to define a dictionary in Python with strings as keys\n",
    "example_dict = {\"red\": -2, \"orange\": \"Cata\", \"green\": \"beach_ball\", \"blue\": 25}\n",
    "\n",
    "# This outputs the value that corresponds to the key \"red\"\n",
    "example_dict[\"red\"]\n",
    "\n",
    "# The following line will error, because integer 1 is not a valid key for this dictionary\n",
    "# Uncomment the code below to see the error message\n",
    "\n",
    "# example_dict[1]\n"
   ]
  },
  {
   "cell_type": "markdown",
   "metadata": {},
   "source": [
    "For this question part, define a dictionary called `cmse_201`. There will be 4 elements in your dictionary. The keys of each element should be the strings `\"Instructor\"`, `\"TA\"`, `\"LA\"`, and `\"Section\"`. The values assigned to each key should be your respective instructor, LA, TA(s), and section number (e.g. 1, 2, 3, or 5). If your section has more than one LA, put each of their names in a list. If your section only has one LA, add a hilarious joke name to the list. Then, print your dictionary.\n"
   ]
  },
  {
   "cell_type": "code",
   "execution_count": 24,
   "metadata": {},
   "outputs": [
    {
     "name": "stdout",
     "output_type": "stream",
     "text": [
      "{'Instructor': 'Dr. Wang', 'TA': 'Katrina', 'LA': ['Renee', 'Gavin'], 'Section': 2}\n"
     ]
    }
   ],
   "source": [
    "# Write your solution to part 2 here\n",
    "cmse_201 = {'Instructor':'Dr. Wang', 'TA':'Katrina', 'LA':['Renee','Gavin'], 'Section':2}\n",
    "print(cmse_201)"
   ]
  },
  {
   "cell_type": "markdown",
   "metadata": {},
   "source": [
    "The following table is a reference for how to create and manipulate dictionaries \n",
    "(you may need to scroll sideways).\n",
    " \n",
    "|Container Type $\\hspace{0.5in}$|Mutable or Immutable $\\hspace{0.5in}$|Initialization *Without* Values $\\hspace{0.9in}$|Initializtion *With* Values $\\hspace{2.5in}$|Adding Values to Container $\\hspace{3.5in}$|Removing Values from Container $\\hspace{2.0in}$|Modifying Values $\\hspace{2.0in}$|Access Method $\\hspace{1.0in}$|Notable Operations and Additional Information $\\hspace{2.5in}$|\n",
    "|:---|:---|:---|:---|:---|:---|:---|:---|:---|\n",
    "|**Dictionary**|Mutable| `student={}` | `>>> student={'name': 'John Doe', 'age': 22, 'college': 'MSU'}` | `>>> student['major']='Computer Science'` <br> `>>> student` <br> `{'name': 'John Doe', 'age': 22, 'college': 'MSU', 'major': 'Computer Science'}` | `del dictName[keyName] #This method removes all entries associated with the given key` | `>>> student['age'] = 23` <br> `>>> student` <br> `{'name': 'John Doe', 'age': 23, 'college': 'MSU', 'major': 'Computer Science'}`| Access by key word. Note that this key **must** be a string. <br> `>>>student['college']` <br> `MSU`| The 'in' keyword can be very helpful with dictionaries. Ex: <br><ul><li>`'k' in dict #Returns true if key 'k' is in dictionary dict`</li><li>`'k' not in dict #Returns true if key 'k' is not in dicitonary dict`</li><li>`for key in dict #This will iterate over all keys in dictionary dict`</li></ul> <br>See webpage [here](http://www.python-course.eu/python3_dictionaries.php) for additional helpful methods and operations|"
   ]
  },
  {
   "cell_type": "markdown",
   "metadata": {},
   "source": [
    "___"
   ]
  },
  {
   "cell_type": "markdown",
   "metadata": {},
   "source": [
    "## Question 2: Finding the nucleon mass (3 points)\n",
    "\n",
    "Nucleons (that is, protons and neutrons) are the building blocks of the nuclei, which sit at the heart of every atom composing all ordinary matter. One of the frontiers of research in particle and nuclear physics is to understand how fundamental particles, the gluons and quarks, determine the properties of nucleons, which are composite particles made up of quarks and gluons.\n",
    "\n",
    "In the Standard Model of particle physics, quantum chromodynamics (QCD), describes how gluons strongly interact with themselves and with quarks, binding both nucleons and nuclei. Using a sufficiently large supercomputer, we can use lattice QCD to simulate a tiny volume of spacetime containing a nucleon. One output of such a simulation is a nucleon *correlator* $C_N(t)$, a real-valued function over time $t$ that asymptotically goes to the form $A e^{-M_N t}$ at large $t$. As a result, we can easily calculate the mass of the nucleon $M_N$ within our simulated universe!\n",
    "\n",
    "An easy way to extract the mass is to use the *effective mass*:\n",
    "$$ M_\\text{eff}(t) = \\ln \\frac{C_N(t) }{C_N(t+1)}$$\n",
    "\n",
    "Take the nucleon correlator `CN` given below, where the list position indexes over discrete time. That is, `CN[t]`$ = C_N(t)$. Use a loop to find the effective mass for each time and print it. Average the last 5 effective masses to get a final result; round to 5 decimals and print.\n",
    "\n",
    "**Hints**: You can get a logarithm function from the math library using `import math`; the natural logarithm is called `math.log`. Use *slicing* to get the last 5 values: `list[start:stop]`; remember `list[stop]` is not included in the slice."
   ]
  },
  {
   "cell_type": "code",
   "execution_count": 54,
   "metadata": {},
   "outputs": [
    {
     "name": "stdout",
     "output_type": "stream",
     "text": [
      "The effective mass at t = 0 is 1.1072654292480801\n",
      "The effective mass at t = 1 is 1.0417427208901597\n",
      "The effective mass at t = 2 is 1.0003352266001666\n",
      "The effective mass at t = 3 is 0.9753796482441617\n",
      "The effective mass at t = 4 is 0.9606254600952736\n",
      "The effective mass at t = 5 is 0.9520025278946765\n",
      "The effective mass at t = 6 is 0.946909937926891\n",
      "The effective mass at t = 7 is 0.9439542161181547\n",
      "The effective mass at t = 8 is 0.9421893306870349\n",
      "The effective mass at t = 9 is 0.9411233233390731\n",
      "The effective mass at t = 10 is 0.9405001635038599\n",
      "The effective mass at t = 11 is 0.9401302824197804\n",
      "The effective mass at t = 12 is 0.9399140344905066\n",
      "The effective mass at t = 13 is 0.9397734808451922\n",
      "The effective mass at t = 14 is 0.9396858244721131\n",
      "The effective mass at t = 15 is 0.939658262669279\n",
      "The effective mass at t = 16 is 0.9395843606622815\n",
      "The effective mass at t = 17 is 0.9395999756604185\n",
      "The effective mass at t = 18 is 0.939612663552207\n",
      "The average of the 5 final effective masses is 0.9396282174\n"
     ]
    }
   ],
   "source": [
    "# Write your solution to question 2 in this cell\n",
    "import math\n",
    "CN = [15193,5020.7,1771.5,651.48,245.64,\n",
    "      93.995,36.279,14.074,5.476,2.1344,\n",
    "      0.83282,0.32516,0.127,0.049614,0.019385,\n",
    "      0.0075747,0.0029599,0.0011567,0.00045202,0.00017664]\n",
    "M_eff = []\n",
    "sum_M_eff = 0\n",
    "#Goes through each value of CN besides the last value\n",
    "\n",
    "for t in range(len(CN)-1):\n",
    "    #Finds the effective mass of each value, using indexes to get the value ahead of the current t\n",
    "    M_eff_t = math.log(CN[t]/CN[t+1])\n",
    "    \n",
    "    #Pairs the time to the effective mass at that time\n",
    "    pairing = [t, M_eff_t]\n",
    "    \n",
    "    #Appends the pairing to the list. The index is the time for the list\n",
    "    M_eff.append(pairing)\n",
    "\n",
    "#Reads out the effective mass with its time pairing\n",
    "for m in M_eff:\n",
    "    print('The effective mass at t = {} is {}'.format(m[0], m[1]))\n",
    "\n",
    "#Finds the average of the final 5 values of the list\n",
    "for z in M_eff[len(M_eff)-5: len(M_eff)]:\n",
    "    #Adds the effective mass to the total\n",
    "    sum_M_eff += z[1]\n",
    "\n",
    "print('The average of the 5 final effective masses is {:.10f}'.format(sum_M_eff/5))\n",
    "\n",
    "    \n"
   ]
  },
  {
   "cell_type": "markdown",
   "metadata": {},
   "source": [
    "___"
   ]
  },
  {
   "cell_type": "markdown",
   "metadata": {},
   "source": [
    "## Question 3: Fibonacci numbers (3 points)\n",
    "\n",
    "Why is it that the number of petals in a flower is often one of the following numbers: 3, 5, 8, 13, 21, 34 or 55? For example, the lily has three petals, buttercups have five, the chicory has 21, the daisy has often 34 or 55 petals, etc. https://thefibonaccisequence.weebly.com/flowers.html\n",
    "\n",
    "Are these numbers the product of chance? No! They all belong to the Fibonacci sequence: 1, 1, 2, 3, 5, 8, 13, 21, 34, 55, 89, 144, ..., where each number is obtained from the sum of the two preceding.  The $n$th Fibonacci number $f_n$ can be derived by $f_n = f_{n-1} + f_{n-2}$. For a long time, it had been noticed that these numbers were important in nature, but only relatively recently did we understand that this is related to efficiency during the growth process of plants. \n",
    "\n",
    "In this exercise, you are given a numerical sequence that has the form $1, 1, 2, 3, 5, \\ldots$. Your goal is to write a __*loop*__ that computes 50 terms of the Fibonacci sequence. Store this sequence as a __*list*__ and then **print the list**. \n",
    "\n",
    "\n",
    "```\n",
    "[1, 2, 3, 5, 8, 13, 21, 34, 55, 89, 144, 233, 377, 610, 987, 1597, 2584, 4181, 6765, 10946, 17711, 28657, 46368, 75025, 121393, 196418, 317811, 514229, 832040, 1346269, 2178309, 3524578, 5702887, 9227465, 14930352, 24157817, 39088169, 63245986, 102334155, 165580141, 267914296, 433494437, 701408733, 1134903170, 1836311903, 2971215073, 4807526976, 7778742049, 12586269025, 20365011074]\n",
    "```\n",
    "\n",
    "Once you have you list of Fibonacci numbers, use this list to **calcaulate a new list** of the ratios $R_n = f_{n}/f_{n+1}$, and write down what you found out about the ratios of these magic numbers in a newly created Markdown cell. Your loop should include a print statement that prints the ratios."
   ]
  },
  {
   "cell_type": "code",
   "execution_count": 105,
   "metadata": {},
   "outputs": [
    {
     "name": "stdout",
     "output_type": "stream",
     "text": [
      "[1, 2, 3, 5, 8, 13, 21, 34, 55, 89, 144, 233, 377, 610, 987, 1597, 2584, 4181, 6765, 10946, 17711, 28657, 46368, 75025, 121393, 196418, 317811, 514229, 832040, 1346269, 2178309, 3524578, 5702887, 9227465, 14930352, 24157817, 39088169, 63245986, 102334155, 165580141, 267914296, 433494437, 701408733, 1134903170, 1836311903, 2971215073, 4807526976, 7778742049, 12586269025, 20365011074]\n",
      "The fibonacci number at position 0 has a ratio of 0.50000000000000000000\n",
      "The fibonacci number at position 1 has a ratio of 0.66666666666666662966\n",
      "The fibonacci number at position 2 has a ratio of 0.59999999999999997780\n",
      "The fibonacci number at position 3 has a ratio of 0.62500000000000000000\n",
      "The fibonacci number at position 4 has a ratio of 0.61538461538461541878\n",
      "The fibonacci number at position 5 has a ratio of 0.61904761904761906877\n",
      "The fibonacci number at position 6 has a ratio of 0.61764705882352943789\n",
      "The fibonacci number at position 7 has a ratio of 0.61818181818181816567\n",
      "The fibonacci number at position 8 has a ratio of 0.61797752808988759554\n",
      "The fibonacci number at position 9 has a ratio of 0.61805555555555558023\n",
      "The fibonacci number at position 10 has a ratio of 0.61802575107296142676\n",
      "The fibonacci number at position 11 has a ratio of 0.61803713527851456000\n",
      "The fibonacci number at position 12 has a ratio of 0.61803278688524587725\n",
      "The fibonacci number at position 13 has a ratio of 0.61803444782168182048\n",
      "The fibonacci number at position 14 has a ratio of 0.61803381340012519818\n",
      "The fibonacci number at position 15 has a ratio of 0.61803405572755421016\n",
      "The fibonacci number at position 16 has a ratio of 0.61803396316670655697\n",
      "The fibonacci number at position 17 has a ratio of 0.61803399852180340712\n",
      "The fibonacci number at position 18 has a ratio of 0.61803398501735795634\n",
      "The fibonacci number at position 19 has a ratio of 0.61803399017559712547\n",
      "The fibonacci number at position 20 has a ratio of 0.61803398820532506885\n",
      "The fibonacci number at position 21 has a ratio of 0.61803398895790195855\n",
      "The fibonacci number at position 22 has a ratio of 0.61803398867044323506\n",
      "The fibonacci number at position 23 has a ratio of 0.61803398878024273788\n",
      "The fibonacci number at position 24 has a ratio of 0.61803398873830295290\n",
      "The fibonacci number at position 25 has a ratio of 0.61803398875432258297\n",
      "The fibonacci number at position 26 has a ratio of 0.61803398874820358877\n",
      "The fibonacci number at position 27 has a ratio of 0.61803398875054083028\n",
      "The fibonacci number at position 28 has a ratio of 0.61803398874964809995\n",
      "The fibonacci number at position 29 has a ratio of 0.61803398874998904944\n",
      "The fibonacci number at position 30 has a ratio of 0.61803398874985882028\n",
      "The fibonacci number at position 31 has a ratio of 0.61803398874990855827\n",
      "The fibonacci number at position 32 has a ratio of 0.61803398874988957346\n",
      "The fibonacci number at position 33 has a ratio of 0.61803398874989690093\n",
      "The fibonacci number at position 34 has a ratio of 0.61803398874989412537\n",
      "The fibonacci number at position 35 has a ratio of 0.61803398874989512457\n",
      "The fibonacci number at position 36 has a ratio of 0.61803398874989479150\n",
      "The fibonacci number at position 37 has a ratio of 0.61803398874989490253\n",
      "The fibonacci number at position 38 has a ratio of 0.61803398874989479150\n",
      "The fibonacci number at position 39 has a ratio of 0.61803398874989490253\n",
      "The fibonacci number at position 40 has a ratio of 0.61803398874989479150\n",
      "The fibonacci number at position 41 has a ratio of 0.61803398874989490253\n",
      "The fibonacci number at position 42 has a ratio of 0.61803398874989490253\n",
      "The fibonacci number at position 43 has a ratio of 0.61803398874989490253\n",
      "The fibonacci number at position 44 has a ratio of 0.61803398874989490253\n",
      "The fibonacci number at position 45 has a ratio of 0.61803398874989490253\n",
      "The fibonacci number at position 46 has a ratio of 0.61803398874989490253\n",
      "The fibonacci number at position 47 has a ratio of 0.61803398874989490253\n",
      "The fibonacci number at position 48 has a ratio of 0.61803398874989490253\n"
     ]
    }
   ],
   "source": [
    "#Goal: Get 50 terms of the fibonacci sequence\n",
    "fib_amount_max = 50\n",
    "\n",
    "fib_current = 1\n",
    "fib_prev = 0\n",
    "temp = 999\n",
    "\n",
    "fib_list = []\n",
    "\n",
    "#Finds the first 'fib_amount_max' fib numbers and stores in a list\n",
    "while len(fib_list) < fib_amount_max:\n",
    "    #Saves current fib number we are on\n",
    "    temp = fib_current\n",
    "    #Adds the previous fib to the current number to get the next fib\n",
    "    fib_current += fib_prev\n",
    "    #Sets the fib-1 to the current fib to be used for next time\n",
    "    fib_prev = temp\n",
    "    fib_list.append(fib_current)\n",
    "\n",
    "print(fib_list)\n",
    "\n",
    "#Goal: Find out the ratio in position n for each number\n",
    "r_list = []\n",
    "\n",
    "#Calculation of ratio fn / fn+1\n",
    "#Goes through numbers of index of fib_list besides the last as there is no value after it\n",
    "for n in range(len(fib_list)-1):\n",
    "    ratio_n = fib_list[n]/fib_list[n+1]\n",
    "    #Pairs together the ratio at the position with the position in the fib sequence\n",
    "    pairing = [n, ratio_n]\n",
    "    r_list.append(pairing)\n",
    "for x in r_list:\n",
    "    print('The fibonacci number at position {} has a ratio of {:.20f}'.format(x[0], x[1]))\n"
   ]
  },
  {
   "cell_type": "markdown",
   "metadata": {},
   "source": [
    "The ratios begin to approach a value of 0.618034. With more research, this is the inverse of the golden ratio, which is interesting."
   ]
  },
  {
   "cell_type": "markdown",
   "metadata": {},
   "source": [
    "___"
   ]
  },
  {
   "cell_type": "markdown",
   "metadata": {},
   "source": [
    "## Question 4: Carbon dating (3 points)\n",
    "\n",
    "Archaeologists use the exponential, radioactive decay of carbon-14 to estimate the death dates of organic material. The stable form of carbon is carbon-12, and the radioactive isotope carbon-14 decays over time into nitrogen-14 and other particles. Carbon is naturally in all living organisms, and the carbon-14 that forms in the upper atmosphere enters into living things as long as they are taking in material (food, air, etc.) that contains carbon.\n",
    "\n",
    "We can estimated how old a fossil is by comparing the content of carbon-14 in the fossil to an equivalent living sample, through the equation below:\n",
    "\n",
    "$$ N(t) = N_0 \\left(\\frac{1}{2}\\right)^{\\frac{\\large t}{\\large t_{1/2}}} $$\n",
    "\n",
    "where $N(t)$ is the amount of carbon-14 as a function of time, $N_0$ is the base carbon-14 amount at $t=0$, and $t_{1/2}$ is the \"half-life\", which is the time after which half of the original amount of a radioactive substance remains. The half-life is a known physical property of the isotope and cannot be changed by the environment. The half-life of carbon-14 is 5,730 years.\n",
    "\n",
    "Your goal is to write a __*while loop*__ to simulate the decay of carbon-14 over time. When the amount matches the target fraction, halt the simulation and **print _when_** in years after its death the fossil was found. The target fraction for your fossil is 35% of the carbon-14 of a living sample."
   ]
  },
  {
   "cell_type": "code",
   "execution_count": 29,
   "metadata": {},
   "outputs": [
    {
     "name": "stdout",
     "output_type": "stream",
     "text": [
      "With a target fraction of 0.35, the sample is 8678.60 years old.\n"
     ]
    }
   ],
   "source": [
    "# Write your solution to question 4 in this cell\n",
    "\n",
    "#Initiation of variables\n",
    "N_t_flt = 1\n",
    "N_0_flt = 1\n",
    "targetFraction = 0.35\n",
    "\n",
    "halfLifeTime_flt = 5730.0\n",
    "t_int = 0\n",
    "\n",
    "#While the fraction of carbon-14 is greater than the target fraction, keep scaling up the time \n",
    "while (N_t_flt/N_0_flt) > targetFraction:\n",
    "    t_int += 0.1\n",
    "    N_t_flt = (N_0_flt * (0.5**(t_int / halfLifeTime_flt)))\n",
    "    \n",
    "print('With a target fraction of {}, the sample is {:.2f} years old.'.format(targetFraction, t_int))\n",
    "    "
   ]
  },
  {
   "cell_type": "markdown",
   "metadata": {},
   "source": [
    "___"
   ]
  },
  {
   "cell_type": "markdown",
   "metadata": {},
   "source": [
    "## Question 5: Finding common divisors (3 points)\n",
    "\n",
    "For this question you should write code using the tools you learned so far. The code will find all the integers in the interval from 1 to 12000 that are **divisible by both 3 and 14**. **Print** all the numbers that satisfy this criterion and also print a statement saying how many such number exist in the range.\n",
    "\n",
    "**Hint**: The \"modulo\" operator is denoted by a **percent sign `%`** in Python. It returns the remainder when two integers are divided. For example, `5%2` (read: \"5 mod 2\") returns a value of `1`, because 5 divided by 2 is 2 with the remainder 1. The result of a modulo `x%d` is always between `0` and `d-1`. Use the modulo operator to help determine if one integer is _divisible_ by another.\n",
    "\n",
    "**Second Hint**: Remember the logical operators `and`, `or` and `not` are available in Python."
   ]
  },
  {
   "cell_type": "code",
   "execution_count": 9,
   "metadata": {},
   "outputs": [
    {
     "name": "stdout",
     "output_type": "stream",
     "text": [
      "[42, 84, 126, 168, 210, 252, 294, 336, 378, 420, 462, 504, 546, 588, 630, 672, 714, 756, 798, 840, 882, 924, 966, 1008, 1050, 1092, 1134, 1176, 1218, 1260, 1302, 1344, 1386, 1428, 1470, 1512, 1554, 1596, 1638, 1680, 1722, 1764, 1806, 1848, 1890, 1932, 1974, 2016, 2058, 2100, 2142, 2184, 2226, 2268, 2310, 2352, 2394, 2436, 2478, 2520, 2562, 2604, 2646, 2688, 2730, 2772, 2814, 2856, 2898, 2940, 2982, 3024, 3066, 3108, 3150, 3192, 3234, 3276, 3318, 3360, 3402, 3444, 3486, 3528, 3570, 3612, 3654, 3696, 3738, 3780, 3822, 3864, 3906, 3948, 3990, 4032, 4074, 4116, 4158, 4200, 4242, 4284, 4326, 4368, 4410, 4452, 4494, 4536, 4578, 4620, 4662, 4704, 4746, 4788, 4830, 4872, 4914, 4956, 4998, 5040, 5082, 5124, 5166, 5208, 5250, 5292, 5334, 5376, 5418, 5460, 5502, 5544, 5586, 5628, 5670, 5712, 5754, 5796, 5838, 5880, 5922, 5964, 6006, 6048, 6090, 6132, 6174, 6216, 6258, 6300, 6342, 6384, 6426, 6468, 6510, 6552, 6594, 6636, 6678, 6720, 6762, 6804, 6846, 6888, 6930, 6972, 7014, 7056, 7098, 7140, 7182, 7224, 7266, 7308, 7350, 7392, 7434, 7476, 7518, 7560, 7602, 7644, 7686, 7728, 7770, 7812, 7854, 7896, 7938, 7980, 8022, 8064, 8106, 8148, 8190, 8232, 8274, 8316, 8358, 8400, 8442, 8484, 8526, 8568, 8610, 8652, 8694, 8736, 8778, 8820, 8862, 8904, 8946, 8988, 9030, 9072, 9114, 9156, 9198, 9240, 9282, 9324, 9366, 9408, 9450, 9492, 9534, 9576, 9618, 9660, 9702, 9744, 9786, 9828, 9870, 9912, 9954, 9996, 10038, 10080, 10122, 10164, 10206, 10248, 10290, 10332, 10374, 10416, 10458, 10500, 10542, 10584, 10626, 10668, 10710, 10752, 10794, 10836, 10878, 10920, 10962, 11004, 11046, 11088, 11130, 11172, 11214, 11256, 11298, 11340, 11382, 11424, 11466, 11508, 11550, 11592, 11634, 11676, 11718, 11760, 11802, 11844, 11886, 11928, 11970]\n",
      "There are 285 numbers divisible by 3 and 14 in the range 1 to 12000.\n"
     ]
    }
   ],
   "source": [
    "answer_list = []\n",
    "upperBound = 12000\n",
    "lowerBound = 1\n",
    "#checks numbers from lower to upper bound to see if they are divisible by 3 and 14\n",
    "for i in range(lowerBound,upperBound + 1):\n",
    "    if i%3 == 0 and i%14 == 0:\n",
    "        #If the number is divisible by 3 and 14, add it to the list\n",
    "        answer_list.append(i)\n",
    "print(answer_list)\n",
    "print('There are {} numbers divisible by 3 and 14 in the range {} to {}.'.format(len(answer_list), lowerBound, upperBound))\n"
   ]
  },
  {
   "cell_type": "markdown",
   "metadata": {},
   "source": [
    "---"
   ]
  },
  {
   "cell_type": "markdown",
   "metadata": {},
   "source": [
    "## Question 6: Finding beer for a beginning-of-the-semester party (5 points)\n",
    "\n",
    "Two students are organizing a beginning-of-the-semester party using beer from a new local brewery. There are 3 varieties of beer in their price range, but after tasting each variety, the students were still not sure what to bring to the party. As good former CMSE201 students, they turn to numbers to make the final call. Although taste may be subjective, stronger beer is obviously better<sup>[citation needed]</sup>, so the students agree to bring the boldest, strongest varieties available.\n",
    "\n",
    "They collected some data from the brewery to determine the ABV [alcohol by volume](https://en.wikipedia.org/wiki/Alcohol_by_volume#Prediction_of_alcohol_content) of the different beers.\n",
    "Using the measurements from the brewer of the [specific gravity](https://en.wikipedia.org/wiki/Specific_gravity) (SG) of the beers before and after they brewed, the students can calculate the ABV \n",
    "using the following formula:\n",
    "$$ \\text{ABV} = \\frac{1.05}{0.79} \\left(\\frac{\\text{SG}_\\text{start} - \\text{SG}_\\text{final}}{\\text{SG}_\\text{final}}\\right) \\times 100 $$\n",
    "\n",
    "In the following cell, you're going to write a function to calculate the ABV\n",
    "for a given beer sample, rounding to 3 decimal places. Then, you're going to calculate the average ABV of each variety of beer, and pick the 2 highest-average ABV beers to bring to the party. \n",
    "\n",
    "All of the data are stored in the dictionary below called `beers`.\n",
    "\n",
    "First, write a _**function**_ that takes in a list of starting SG (SSG) and final SG (FSG) values and computes the ABV values to each of the beers and prints out the ABV list for each sample. \n",
    "\n",
    "Then, write another function that calculates the average ABV for each variety and **returns** that average ABV. \n",
    "\n",
    "Then, **write a loop** that loops over each beer variety in the list of lists of samples and uses your function to compute the average ABV for each variety. Your loop should include a **print statement** that prints the average ABV rounded to 3 decimals for that section, like so:\n",
    "\n",
    "`The average ABV of beer variety <variety number> is <ABV>`\n",
    "\n",
    "The variety number is the position of that variety in the list of lists, starting from the first variety being `1`.\n",
    "\n",
    "The students also want to assign a category to each variety, which you should also **print out**:\n",
    "\n",
    "`This variety is <category description>`\n",
    "\n",
    "The categories are as follow:\n",
    "\n",
    "* If the average ABV is greater than or equal to 6, the beer is `\"strong\"`.\n",
    "* If the average ABV is greater than or equal to 5 and less than 6, the beer is `\"medium\"`.\n",
    "* If the average ABV is less than 5, the beer is `\"weak\"`.\n",
    "\n",
    "**IMPORTANT NOTE**: If you cannot figure out how to solve this problem using functions, do you best to complete the question without functions and you can still get the majority of the points for this problem since functions are still very new in the course."
   ]
  },
  {
   "cell_type": "code",
   "execution_count": 40,
   "metadata": {},
   "outputs": [
    {
     "name": "stdout",
     "output_type": "stream",
     "text": [
      "\n",
      "The average ABV of beer variety 1 is 4.490\n",
      "This variety is weak.\n",
      "\n",
      "The average ABV of beer variety 2 is 8.444\n",
      "This variety is strong.\n",
      "\n",
      "The average ABV of beer variety 3 is 5.624\n",
      "This variety is medium.\n"
     ]
    }
   ],
   "source": [
    "# Write your solution to question 6 in this cell\n",
    "# beer list #1 has SSG1 for starting SG and FSG1 for final SG, etc... \n",
    "beers = {\"SSG\":[[1.050, 1.031, 1.047, 1.032], [1.067, 1.062, 1.065, 1.075], [1.049, 1.045, 1.045, 1.042, 1.042]], \n",
    "         \"FSG\":[[1.010, 1.001, 1.010, 1.003], [1.005, 1.003, 1.003, 1.003], [1.002, 1.000, 1.006, 1.000, 1.003]]}\n",
    "\n",
    "ABV_listOverall = []\n",
    "\n",
    "# Write your function to determine the ABV for one sample\n",
    "def computeABV_list (SSG_list, FSG_list):\n",
    "    ABV_list = []\n",
    "    #Loops through all beers in the list\n",
    "    for beerNumber in range(0,len(SSG_list)):\n",
    "        #Uses beer at index 'beerNumber' to compute ABV and stores into a new list at the same number index as the original\n",
    "        ABV_beerNumber = 100 * (1.05/0.79) * ((SSG_list[beerNumber] - FSG_list[beerNumber]) / FSG_list[beerNumber])\n",
    "        #Places ABV of the individual beer into the same index as the original\n",
    "        ABV_list.append(ABV_beerNumber)\n",
    "    return ABV_list\n",
    "\n",
    "# Write your function to determine the average ABV for one variety in the ABV list\n",
    "def avg(ABV_list):\n",
    "    #Resets 'sum' variable\n",
    "    sum = 0\n",
    "    #Go through each element in ABV_list\n",
    "    for i in ABV_list:\n",
    "        #Add that individual value to the running total\n",
    "        sum += i\n",
    "    #Take the average of the sum over the length of the list\n",
    "    average = sum / len(ABV_list)\n",
    "    return average\n",
    "# Write a loop to determine the category for each beer variety\n",
    "# and print out the average ABV with the corresponding category as described above\n",
    "\n",
    "#Goes through each variety list\n",
    "for varietyNumber in range(0, len(beers['SSG'])):\n",
    "    #For each variety list, take the SSG and FSG of that variety and compute the ABV for each individual beer.\n",
    "    ABV_listOverall.append(computeABV_list(beers['SSG'][varietyNumber], beers['FSG'][varietyNumber]))\n",
    "    \n",
    "#Stores ABV values per beer into the overall info list\n",
    "beers['ABV'] = ABV_listOverall\n",
    "\n",
    "for varietyNumber in range(0, len(beers['ABV'])):\n",
    "    #Find avg ABV and prints value\n",
    "    avgABV_n = avg(beers['ABV'][varietyNumber])\n",
    "    print('\\nThe average ABV of beer variety {} is {:.3f}'.format(varietyNumber+1, avgABV_n))\n",
    "    \n",
    "    #Classifies variety based on average ABV\n",
    "    if avgABV_n > 6:\n",
    "        print('This variety is strong.')\n",
    "    elif avgABV_n < 5:\n",
    "        print('This variety is weak.')\n",
    "    else:\n",
    "        print('This variety is medium.')\n",
    "\n"
   ]
  },
  {
   "cell_type": "markdown",
   "metadata": {},
   "source": [
    "---\n",
    "## Assignment Wrap-up\n",
    "\n",
    "Fill out the following Google Form before you submit your assignment."
   ]
  },
  {
   "cell_type": "code",
   "execution_count": 41,
   "metadata": {},
   "outputs": [
    {
     "data": {
      "text/html": [
       "\n",
       "<iframe \n",
       "\tsrc=\"https://forms.gle/QhAavgMam9NJhpE4A\" \n",
       "\twidth=\"800px\" \n",
       "\theight=\"600px\" \n",
       "\tframeborder=\"0\" \n",
       "\tmarginheight=\"0\" \n",
       "\tmarginwidth=\"0\">\n",
       "\tLoading...\n",
       "</iframe>\n"
      ],
      "text/plain": [
       "<IPython.core.display.HTML object>"
      ]
     },
     "execution_count": 41,
     "metadata": {},
     "output_type": "execute_result"
    }
   ],
   "source": [
    "from IPython.display import HTML\n",
    "HTML(\n",
    "\"\"\"\n",
    "<iframe \n",
    "\tsrc=\"https://forms.gle/QhAavgMam9NJhpE4A\" \n",
    "\twidth=\"800px\" \n",
    "\theight=\"600px\" \n",
    "\tframeborder=\"0\" \n",
    "\tmarginheight=\"0\" \n",
    "\tmarginwidth=\"0\">\n",
    "\tLoading...\n",
    "</iframe>\n",
    "\"\"\"\n",
    ")"
   ]
  },
  {
   "cell_type": "markdown",
   "metadata": {},
   "source": [
    "---\n",
    "\n",
    "### Congratulations, you're done!\n",
    "\n",
    "Submit this assignment by uploading it to the course Desire2Learn web page.  Go to the \"Homework Assignments\" section, find the submission folder link for Homework #1, and upload it there."
   ]
  },
  {
   "cell_type": "markdown",
   "metadata": {},
   "source": [
    "&#169; Copyright 2019,  Michigan State University Board of Trustees"
   ]
  }
 ],
 "metadata": {
  "kernelspec": {
   "display_name": "Python 3",
   "language": "python",
   "name": "python3"
  },
  "language_info": {
   "codemirror_mode": {
    "name": "ipython",
    "version": 3
   },
   "file_extension": ".py",
   "mimetype": "text/x-python",
   "name": "python",
   "nbconvert_exporter": "python",
   "pygments_lexer": "ipython3",
   "version": "3.7.3"
  }
 },
 "nbformat": 4,
 "nbformat_minor": 4
}
