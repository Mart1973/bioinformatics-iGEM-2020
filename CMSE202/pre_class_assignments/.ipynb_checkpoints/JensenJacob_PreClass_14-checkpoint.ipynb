{
 "cells": [
  {
   "cell_type": "markdown",
   "metadata": {},
   "source": [
    "## <p style=\"text-align: right;\"> &#9989; Jacob Jensen"
   ]
  },
  {
   "cell_type": "markdown",
   "metadata": {},
   "source": [
    "# Day 14 Pre-Class Assignment: Reviewing Project Ideas"
   ]
  },
  {
   "cell_type": "markdown",
   "metadata": {},
   "source": [
    "In this pre-class assignment we are going to explore your project ideas for class.  The ideas are pulled from the project brainstorming you did previously. The instructional staff did their best to interpret the concept of your ideas based on what you submitted to the Google survey. In some cases we had to try to put vagues thoughts into concrete categories and we may have misconstrued the original intent -- sorry if your idea was mangled!\n",
    "\n",
    "Please think about what would make a good and interesting project and complete the following:\n",
    "\n",
    "**&#9989; Do This:** \n",
    "\n",
    "1. Read though the following project ideas and put notes in the `comments` slot provided on any that you find interesting.\n",
    "2. Having read through them all, write dow your top 3 in the list below using names like \"Social 1\" or \"Sports 2\" (the category and the number). Consider the following factors as you are investigating for your top 3.\n",
    "    * Is the project something you are interested in?\n",
    "    * How hard will the project be for a group to complete? \n",
    "    * Can you find any python libraries or datasets that would help with the project?\n",
    "    * Is this just a toy project or is the project scientifically motivated. I.e. what broad scientific questions would this project be able to answer?\n",
    "3. Having selected three, add some details in your `Top Three List` with information like:\n",
    "    * Any links to new information or datasets.\n",
    "    * Scientific questions that this project would be able to explore.\n",
    "    * Computational methods you might use for the project.\n",
    "    * Additional thoughts or ideas you want to tell the instructors. \n",
    "\n",
    "**Note:** You are welcome to also combine two or more project ideas into one bigger project. Or you can come up with a new project idea.  Reference the projects based on their project numbers. Do not change the numbers. "
   ]
  },
  {
   "cell_type": "markdown",
   "metadata": {},
   "source": [
    "## Top Three List (with details):\n",
    "1. Tech/Science 2 - ABM with Evolution and Simple Traits\n",
    " - OOP - Each individual in the population and the board itself are classes.\n",
    " - Possibly expand to include the concept of natural disasters with evolution\n",
    " - How does mutation rate affect evolutionary progress?\n",
    " - How long does it take for an unfavorable gene to be eradicated from an intitial population?\n",
    " - Does allele amount per individual affect evolutionary progress?\n",
    " - How does environrmntal boundaries affect evolutionary progress?\n",
    " \n",
    "2. Tech/Science 3 - \"Goldilock\" zone prediction with planets\n",
    " - OOP - Each planet is an object of the parental planet class. Each solar system could also be a class.\n",
    " - What kinds of solar system attributes do we see with goldilock zones? (ex. Type of star, planet material, etc.)\n",
    " - What is the size of the average goldilock zone in terms of the entire solar system size?\n",
    " - Is it possible to have two distinct goldilock zones from a star system?\n",
    " - What is the distance from one planet to the other?\n",
    " \n",
    "3. Tech/Science 8 - ABM of Traffic\n",
    " - OOP - Each road is a object as well as each vehicle on the road.\n",
    " - How often do traffic jams occur?\n",
    " - In what road layout does the least amount of congestion of traffic take place?\n",
    " - In what scenario do we see \"total gridlock\" or does it even occur?"
   ]
  },
  {
   "cell_type": "markdown",
   "metadata": {},
   "source": [
    "---\n",
    "\n",
    "# Project Ideas From Brainstorming:"
   ]
  },
  {
   "cell_type": "markdown",
   "metadata": {},
   "source": [
    "## Social\n",
    "\n",
    "1. Predicting the housing market (in general, for specific groups, maybe rentals) based on various factors (economy, population, etc.)\n",
    "\n",
    "comments:\n",
    "\n",
    "2. Compartmental model of political influence (money, influencers). Perhaps predict polls during some interesting epoch (primaries, elections).\n",
    "\n",
    "comments:\n",
    "\n",
    "3. Track wealth over time based on starting factors and other influencers (do the rich stay rich, how hard to move up from poor, etc.)\n",
    "\n",
    "comments:\n",
    "\n",
    "4. spread of disease and the effect of intervention (vaccinations, antibody effectiveness, weather, geography, etc.)\n",
    "\n",
    "comments:\n",
    "\n",
    "5. Prediction of wealth/success based on gpa and major (and any other factors)\n",
    "\n",
    "comments:\n",
    "\n",
    "6. Models for social prediction (recipe picker, movie picker, etc.)\n",
    "\n",
    "comments:"
   ]
  },
  {
   "cell_type": "markdown",
   "metadata": {},
   "source": [
    "## Environmental\n",
    "\n",
    "1. Model Urban forest canopy resilience\n",
    "\n",
    "comments:\n",
    "\n",
    "2. Affect of forestation (reforestation or denuding) on CO2 changes. \n",
    "\n",
    "comments:"
   ]
  },
  {
   "cell_type": "markdown",
   "metadata": {},
   "source": [
    "## Financial\n",
    "\n",
    "1. Stock market prediction, factors. Frankly overdone so what could be done that is original?\n",
    "\n",
    "comments:\n",
    "\n",
    "2. Predicting economic inflection points (collapses, rises) and predisposing factors\n",
    "\n",
    "comments:"
   ]
  },
  {
   "cell_type": "markdown",
   "metadata": {},
   "source": [
    "## Tech/Science\n",
    "\n",
    "1. The economy of air crash and safety (what are the risk/benefits to various problems).\n",
    "\n",
    "comments:\n",
    "\n",
    "2. ABM for the study of evolution (simple trait generation, model results)\n",
    "\n",
    "comments: Very similar to the antibiotic resistance of bacteria\n",
    "\n",
    "3. Prediction of so called \"goldilocks zones\" for planet habitation using things like solar radiation, radiation in general, planet type, distance from sun, etc.)\n",
    "\n",
    "comments: Interesting theory, would need a good amount of data to understand\n",
    "\n",
    "4. Various parameters affecting health (sugar intake, pet presence, monetary stress, etc.)\n",
    "\n",
    "comments:\n",
    "\n",
    "5. How fashion trends affect consumerism (other factors affect consumer buying habits)\n",
    "\n",
    "comments:\n",
    "\n",
    "6. Compartmental model for physical systems (climate change, world trade)\n",
    "\n",
    "comments:\n",
    "\n",
    "7. Predicting animal population (fish, predator-prey, etc.) based on enviornmental factors. ABM model?\n",
    "\n",
    "comments:\n",
    "\n",
    "8. Traffic modeling as an ABM (what factors, etc.)\n",
    "\n",
    "comments: Would be cool since it affects everyday life.\n",
    "\n",
    "9. Modeling email flow (spam vs ham, model of spam, etc.)\n",
    "\n",
    "comments:"
   ]
  },
  {
   "cell_type": "markdown",
   "metadata": {},
   "source": [
    "## Sports\n",
    "\n",
    "1. For a sport team, how much of a difference does \"home field advantage\" actually look like. What are the confounding factors\n",
    "\n",
    "comments:\n",
    "\n",
    "2. Difference in the performance of a veteran vs. rookie (make a model)\n",
    "\n",
    "comments:\n",
    "\n",
    "3. Predicted change in performance of sports figure after injury (various sports, various injuries)\n",
    "\n",
    "comments:"
   ]
  },
  {
   "cell_type": "markdown",
   "metadata": {},
   "source": [
    "------\n",
    "\n",
    "# New project ideas\n",
    "\n",
    "If you've come up with new project ideas since our brainstorming session, feel free to add them here. Make sure to include the same sort of information you put together for your \"top 3\" models from above. Make a note in assignment wrap-up survey if any of your new ideas are your new favorite idea."
   ]
  },
  {
   "cell_type": "markdown",
   "metadata": {},
   "source": [
    "## ABM of MSU Campus Activity\n",
    "\n",
    "Very similar to the ABM of traffic expect have a student class, each with a schedule for the day. Have the day cycle through and have the students traverse campus. Possibly include public transport? It may be a little difficult but possibly doable. We could also use the layout of campus and draw up the road plans and sidewalks equivalent to make it more accurate. \n"
   ]
  },
  {
   "cell_type": "markdown",
   "metadata": {},
   "source": [
    "----\n",
    "# Assignment wrap-up\n",
    "\n",
    "Please fill out the form that appears when you run the code below.  **You must completely fill this out in order to receive credit for the assignment!**"
   ]
  },
  {
   "cell_type": "code",
   "execution_count": 1,
   "metadata": {},
   "outputs": [
    {
     "data": {
      "text/html": [
       "\n",
       "<iframe \n",
       "\tsrc=\"https://cmse.msu.edu/cmse202-pc-survey\" \n",
       "\twidth=\"800px\" \n",
       "\theight=\"600px\" \n",
       "\tframeborder=\"0\" \n",
       "\tmarginheight=\"0\" \n",
       "\tmarginwidth=\"0\">\n",
       "\tLoading...\n",
       "</iframe>\n"
      ],
      "text/plain": [
       "<IPython.core.display.HTML object>"
      ]
     },
     "execution_count": 1,
     "metadata": {},
     "output_type": "execute_result"
    }
   ],
   "source": [
    "from IPython.display import HTML\n",
    "HTML(\n",
    "\"\"\"\n",
    "<iframe \n",
    "\tsrc=\"https://cmse.msu.edu/cmse202-pc-survey\" \n",
    "\twidth=\"800px\" \n",
    "\theight=\"600px\" \n",
    "\tframeborder=\"0\" \n",
    "\tmarginheight=\"0\" \n",
    "\tmarginwidth=\"0\">\n",
    "\tLoading...\n",
    "</iframe>\n",
    "\"\"\"\n",
    ")"
   ]
  },
  {
   "cell_type": "markdown",
   "metadata": {},
   "source": [
    "---------\n",
    "### Congratulations, you're done with your pre-class assignment!\n",
    "\n",
    "Now, you just need to submit this assignment by uploading it to the course <a href=\"https://d2l.msu.edu/\">Desire2Learn</a> web page for today's submission folder (Don't forget to add your name in the first cell)."
   ]
  },
  {
   "cell_type": "markdown",
   "metadata": {},
   "source": [
    "&#169; Copyright 2018,  Michigan State University Board of Trustees"
   ]
  }
 ],
 "metadata": {
  "kernelspec": {
   "display_name": "Python 3",
   "language": "python",
   "name": "python3"
  },
  "language_info": {
   "codemirror_mode": {
    "name": "ipython",
    "version": 3
   },
   "file_extension": ".py",
   "mimetype": "text/x-python",
   "name": "python",
   "nbconvert_exporter": "python",
   "pygments_lexer": "ipython3",
   "version": "3.7.3"
  }
 },
 "nbformat": 4,
 "nbformat_minor": 4
}
