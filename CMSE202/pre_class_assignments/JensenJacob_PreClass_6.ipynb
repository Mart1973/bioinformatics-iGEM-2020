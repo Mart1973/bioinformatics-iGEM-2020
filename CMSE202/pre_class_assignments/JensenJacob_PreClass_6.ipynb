{
 "cells": [
  {
   "cell_type": "markdown",
   "metadata": {
    "slideshow": {
     "slide_type": "-"
    }
   },
   "source": [
    "## <p style=\"text-align: right;\"> &#9989; Jacob Jensen\n"
   ]
  },
  {
   "cell_type": "markdown",
   "metadata": {
    "slideshow": {
     "slide_type": "-"
    }
   },
   "source": [
    "# Day 6 Pre-class Assignment: Python Packages"
   ]
  },
  {
   "cell_type": "markdown",
   "metadata": {
    "slideshow": {
     "slide_type": "-"
    }
   },
   "source": [
    "## Goals for today's pre-class assignment\n",
    "\n",
    "</p>\n",
    "\n",
    "1. New Terminal Command (`curl`)\n",
    "1. Installing Third Party Packages"
   ]
  },
  {
   "cell_type": "markdown",
   "metadata": {},
   "source": [
    "## Assignment instructions\n",
    "**This assignment is due by 11:59 p.m. the day before class** and should be uploaded into the appropriate \"Pre-class assignments\" submission folder in the Desire2Learn website. "
   ]
  },
  {
   "cell_type": "markdown",
   "metadata": {},
   "source": [
    "----\n",
    "# 1. New Terminal Command (`curl`)\n",
    "\n",
    "In the in-class assignment we are going to use a tool called `curl` using the Command Line Interface.  Use the internet to answer the questions below:"
   ]
  },
  {
   "cell_type": "markdown",
   "metadata": {},
   "source": [
    "**Question 1:** What does the `curl` command do?"
   ]
  },
  {
   "cell_type": "markdown",
   "metadata": {},
   "source": [
    "<font size=8 color=\"#009600\">&#9998;</font> Transfers data to and from servers."
   ]
  },
  {
   "cell_type": "markdown",
   "metadata": {},
   "source": [
    "**Question 2:** There is a file called `US_Unemployment_Oct2012.csv` that can be accessed using the following link:\n",
    "\n",
    "https://raw.githubusercontent.com/wrobstory/vincent/master/examples/data/US_Unemployment_Oct2012.csv\n",
    "\n",
    "How would you use `curl` to download this file to your computer? **Important**: By default, `curl` will simply output the contents of the file to your screen. There is a command flag that ensures that the remote file is actually saved as a file on your computer. You should figure out which flag this is and how it works."
   ]
  },
  {
   "cell_type": "markdown",
   "metadata": {},
   "source": [
    "<font size=8 color=\"#009600\">&#9998;</font> $ curl -o US_Unemployment_Oct2012.csv https://raw.githubusercontent.com/wrobstory/vincent/master/examples/data/US_Unemployment_Oct2012.csv"
   ]
  },
  {
   "cell_type": "markdown",
   "metadata": {},
   "source": [
    "**Question 3**: What other command line commands can be used to download files onto your computer from a remote location? There is another very common command out there besides `curl`, but your computer might not have it. Can you figure out what that command is?"
   ]
  },
  {
   "cell_type": "markdown",
   "metadata": {},
   "source": [
    "<font size=8 color=\"#009600\">&#9998;</font> wget is also another option"
   ]
  },
  {
   "cell_type": "markdown",
   "metadata": {},
   "source": [
    "----\n",
    "# 2. Installing Third Party Packages\n",
    "\n",
    "How do we go about installing new third party packages that aren't already a part of our Python installation?\n",
    "\n",
    "If the package you want to use is available as a \"conda\" package or from the Python Package Index (PyPI), installation is generally pretty straight forward.\n",
    "\n",
    "Let's test out installing a package using `conda` and a package using `pip`, which installs packages from PyPI."
   ]
  },
  {
   "cell_type": "markdown",
   "metadata": {},
   "source": [
    "## Conda installation\n",
    "\n",
    "The anaconda distribution we are working with maintains its own package installation system called `conda`. When you install anaconda it also installs the `conda` package manager. A package manager allows you to:\n",
    "* install new python packages along with **all the required dependency packages**. This last point is very important as it can be difficult to know what other python packages you need for the package you are loading.\n",
    "* update packages you already have with new versions\n",
    "\n",
    "When you installed anaconda, you got a lot of packages already installed. You can look at [anaconda windows 64 packages](https://docs.anaconda.com/anaconda/packages/py3.7_win-64/) or [anaconda mac packages](https://docs.anaconda.com/anaconda/packages/py3.7_osx-64/) to see a list\n",
    "\n",
    "However, even anaconda doesn't provide every package. Take a look at [https://pypi.org/](https://pypi.org/), the Python Package Index (often called PyPi). There are many there that are not in the anaconda set that you downloaded. You can use `conda` to load a package you like as shown below"
   ]
  },
  {
   "cell_type": "markdown",
   "metadata": {},
   "source": [
    "### Prettytable\n",
    "\n",
    "Occasionally there are times when you're looking at simple datasets in Python and it would be handy to be able to manipulate and visualize the data in simple ASCII formats without dealing with all of the Pandas dataframe overhead. Or perhaps you need to output the a data table in an HTML format so that you can render the table on the web. To achieve these sorts of tasks, you can install a package called `prettytable` using `conda` like so:\n",
    "\n",
    "`conda install -c conda-forge prettytable`\n",
    "\n",
    "This uses conda to install the package by locating it on Conda-Forge, which is a community maintained set of conda packages. When you run the command, you'll see that conda finds the packages and also checks if it should update any other packages at the same time and will let you know everything it plans to do before you confirm that you want it to happen. Once you've installed the package, you should be able to import it. Some documentation for `prettytable` can be found here: [https://code.google.com/archive/p/prettytable/](https://code.google.com/archive/p/prettytable/)\n",
    "\n",
    "If you were able to get `prettytable` installed, test it out and make sure it's working by trying to run some of the examples from this tutorial page:\n",
    "\n",
    "[http://zetcode.com/python/prettytable/](http://zetcode.com/python/prettytable/)\n",
    "\n",
    "**Important note:** If you're trying to do this on JupyterHub, rather than on your personal computer, you will get a error that you don't have permissions to install new packages. There are ways to work around this, but we don't address this for now. If this applies to you, please include a note that you're using JupyterHub in your end-of-assignment survey and do not worry about getting this working for now."
   ]
  },
  {
   "cell_type": "code",
   "execution_count": 1,
   "metadata": {},
   "outputs": [
    {
     "name": "stdout",
     "output_type": "stream",
     "text": [
      "+-----------+------+------------+-----------------+\n",
      "| City name | Area | Population | Annual Rainfall |\n",
      "+-----------+------+------------+-----------------+\n",
      "|  Adelaide | 1295 |  1158259   |      600.5      |\n",
      "|  Brisbane | 5905 |  1857594   |      1146.4     |\n",
      "|   Darwin  | 112  |   120900   |      1714.7     |\n",
      "|   Hobart  | 1357 |   205556   |      619.5      |\n",
      "|   Sydney  | 2058 |  4336374   |      1214.8     |\n",
      "| Melbourne | 1566 |  3806092   |      646.9      |\n",
      "|   Perth   | 5386 |  1554769   |      869.4      |\n",
      "+-----------+------+------------+-----------------+\n"
     ]
    }
   ],
   "source": [
    "# Put your prettytable testing code here\n",
    "import prettytable as pt\n",
    "x = pt.PrettyTable()\n",
    "x.field_names = [\"City name\", \"Area\", \"Population\", \"Annual Rainfall\"]\n",
    "\n",
    "x.add_row([\"Adelaide\", 1295, 1158259, 600.5])\n",
    "x.add_row([\"Brisbane\", 5905, 1857594, 1146.4])\n",
    "x.add_row([\"Darwin\", 112, 120900, 1714.7])\n",
    "x.add_row([\"Hobart\", 1357, 205556, 619.5])\n",
    "x.add_row([\"Sydney\", 2058, 4336374, 1214.8])\n",
    "x.add_row([\"Melbourne\", 1566, 3806092, 646.9])\n",
    "x.add_row([\"Perth\", 5386, 1554769, 869.4])\n",
    "print(x)"
   ]
  },
  {
   "cell_type": "markdown",
   "metadata": {},
   "source": [
    "## Pip installation\n",
    "\n",
    "The more general Python package manager is called `pip`. It works for any Python install, not just an anaconda install. Generally speaking, if you can use `conda` then you should, but it is worth looking at the more general `pip` which is available anywhere\n",
    "\n",
    "### cmocean\n",
    "\n",
    "There is a great package called [`cmocean`](http://matplotlib.org/cmocean/) that contains several colormaps that are commonly using for plotting oceanography data. One of the awesome things about the colormaps is that they are designed to be color-blind friendly, meaning that even if you're colorblind you can still extract information from the colormap.\n",
    "\n",
    "Try installing the package by doing the following on the command line:\n",
    "\n",
    "`pip install \"cmocean[plots]\"`\n",
    "    \n",
    "This not only installs the main cmocean module, but also installs the \"plots\" submodule, which is necessary to get some of the examples from the cmocean documentation page to work. When you run the command, you'll see that pip finds the packages and also checks if it should install or update any other packages at the same time. Once you've installed the package, you should be able to import it. Test it out in this notebook! Try making a plot using one of the new colormaps you have available. **You also have to include `import cmocean.plots` if you try to run any of the examples that use `cmocean.plots`.**\n",
    "\n",
    "**Important note:** If you're doing this on JupyterHub, you'll need to modify the command a bit in order to make sure you don't run into permission issues with the installation process. If you're not install pip packaged on your local machine, you need to use the `--user` flag, like so:\n",
    "\n",
    "`pip install --user \"cmocean[plots]\"`"
   ]
  },
  {
   "cell_type": "code",
   "execution_count": 20,
   "metadata": {},
   "outputs": [
    {
     "data": {
      "image/png": "[encoded data removed]",
      "text/plain": [
       "<Figure size 576x216 with 3 Axes>"
      ]
     },
     "metadata": {
      "needs_background": "light"
     },
     "output_type": "display_data"
    }
   ],
   "source": [
    "import cmocean\n",
    "import cmocean.plots\n",
    "import matplotlib.pyplot as plt\n",
    "\n",
    "fig = plt.figure(figsize=(8, 3))\n",
    "ax = fig.add_subplot(1, 2, 1)\n",
    "cmocean.plots.test(cmocean.cm.thermal, ax=ax)\n",
    "ax = fig.add_subplot(1, 2, 2)\n",
    "cmocean.plots.quick_plot(cmocean.cm.algae, ax=ax)"
   ]
  },
  {
   "cell_type": "markdown",
   "metadata": {},
   "source": [
    "----\n",
    "# Assignment Wrap-up\n",
    "\n",
    "Please fill out the form that appears when you run the code below.  **You must completely fill this out in order to receive credit for the assignment!**"
   ]
  },
  {
   "cell_type": "code",
   "execution_count": 21,
   "metadata": {},
   "outputs": [
    {
     "data": {
      "text/html": [
       "\n",
       "<iframe \n",
       "\tsrc=\"https://cmse.msu.edu/cmse202-pc-survey\" \n",
       "\twidth=\"800px\" \n",
       "\theight=\"600px\" \n",
       "\tframeborder=\"0\" \n",
       "\tmarginheight=\"0\" \n",
       "\tmarginwidth=\"0\">\n",
       "\tLoading...\n",
       "</iframe>\n"
      ],
      "text/plain": [
       "<IPython.core.display.HTML object>"
      ]
     },
     "execution_count": 21,
     "metadata": {},
     "output_type": "execute_result"
    }
   ],
   "source": [
    "from IPython.display import HTML\n",
    "HTML(\n",
    "\"\"\"\n",
    "<iframe \n",
    "\tsrc=\"https://cmse.msu.edu/cmse202-pc-survey\" \n",
    "\twidth=\"800px\" \n",
    "\theight=\"600px\" \n",
    "\tframeborder=\"0\" \n",
    "\tmarginheight=\"0\" \n",
    "\tmarginwidth=\"0\">\n",
    "\tLoading...\n",
    "</iframe>\n",
    "\"\"\"\n",
    ")"
   ]
  },
  {
   "cell_type": "markdown",
   "metadata": {},
   "source": [
    "---------\n",
    "### Congratulations, you're done with your pre-class assignment!\n",
    "\n",
    "Now, you just need to submit this assignment by uploading it to the course <a href=\"https://d2l.msu.edu/\">Desire2Learn</a> web page for this assignment's dropbox (Don't forget to add your names in the first cell)."
   ]
  },
  {
   "cell_type": "markdown",
   "metadata": {},
   "source": [
    "&#169; Copyright 2018,  Michigan State University Board of Trustees"
   ]
  }
 ],
 "metadata": {
  "anaconda-cloud": {},
  "kernelspec": {
   "display_name": "Python 3",
   "language": "python",
   "name": "python3"
  },
  "language_info": {
   "codemirror_mode": {
    "name": "ipython",
    "version": 3
   },
   "file_extension": ".py",
   "mimetype": "text/x-python",
   "name": "python",
   "nbconvert_exporter": "python",
   "pygments_lexer": "ipython3",
   "version": "3.7.3"
  }
 },
 "nbformat": 4,
 "nbformat_minor": 4
}
