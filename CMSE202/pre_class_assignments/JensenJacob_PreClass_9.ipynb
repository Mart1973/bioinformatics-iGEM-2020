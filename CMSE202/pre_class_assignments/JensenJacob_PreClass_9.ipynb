{
 "cells": [
  {
   "cell_type": "markdown",
   "metadata": {
    "slideshow": {
     "slide_type": "-"
    }
   },
   "source": [
    "### <p style=\"text-align: right;\"> &#9989; Jacob Jensen\n"
   ]
  },
  {
   "cell_type": "markdown",
   "metadata": {
    "slideshow": {
     "slide_type": "-"
    }
   },
   "source": [
    "# Day 9 Pre-Class Assignment: Working with the IPython command interpreter and Graph Theory\n",
    "\n",
    "<img src=\"https://cdn-images-1.medium.com/max/800/1*Q9n58avTamrRmY66Ne0Hug.png\" width=\"400px\">"
   ]
  },
  {
   "cell_type": "markdown",
   "metadata": {
    "slideshow": {
     "slide_type": "-"
    }
   },
   "source": [
    "## Goals for today's pre-class assignment \n",
    "\n",
    "</p>\n",
    "\n",
    "1. The IPython command line\n",
    "1. Quick introduction to Graph Theory"
   ]
  },
  {
   "cell_type": "markdown",
   "metadata": {},
   "source": [
    "## Assignment instructions\n",
    "**This assignment is due by 11:59 p.m. the day before class** and should be uploaded into the appropriate \"Pre-class assignments\" submission folder in the Desire2Learn website. "
   ]
  },
  {
   "cell_type": "markdown",
   "metadata": {},
   "source": [
    "-------------\n",
    "# 1. IPython\n",
    "\n",
    "You have been working with jupyter notebooks for some time. But did you know you can use the interpreter that notebooks use on the command line? You can and it is very helpful.\n",
    "\n",
    "That interpreter is called `ipython`, where `i` is for \"interactive\". We can open an ipython interepreter on our command line and get many of the advantages of both python and command line at the same time."
   ]
  },
  {
   "cell_type": "markdown",
   "metadata": {},
   "source": [
    "## Starting ipython\n",
    "\n",
    "When you get anaconda, you get an ipython command console as well. Two ways to open it:\n",
    "\n",
    "- On Windows, go to your `start` menu and under `Anaconda 3 (64bit)` there should be an `Anaconda Prompt`. Open that.\n",
    "   - It's possible that, if we got everything properly setup on Gitbash, things will work from there as well\n",
    "- On Mac, if you got your `Terminal` to work with python, open that now\n",
    "\n",
    "Having opened a command line/prompt, type `ipython`. You should get a window that looks something like the one below\n",
    "\n",
    "<img src=\"https://drive.google.com/uc?id=1XKduBRwtRBjhusIRzFFY5j_j3Qdb9G9g\">\n",
    "\n",
    "If it doesn't say \"Python 3.7.\" at the top of that window, kill the session with `Ctrl-D` (while holding the try `Ctrl` key press `d`). Start again with `ipython3`"
   ]
  },
  {
   "cell_type": "markdown",
   "metadata": {},
   "source": [
    "## What can I do?\n",
    "\n",
    "There are three \"kinds\" of things you can do in ipython\n",
    "- regular python stuff\n",
    "- ipython specific things\n",
    "- command line stuff (ls, cd, etc.)\n",
    "\n",
    "Let's take a quick look at each"
   ]
  },
  {
   "cell_type": "markdown",
   "metadata": {},
   "source": [
    "### Regular python\n",
    "\n",
    "Anything you have done before in python you can do here: set variables, import packages, draw graphs. Take a look at the window below.\n",
    "\n",
    "- note that you should be able to pop up a window of a graph. If not you can always save it as a file.\n",
    "\n",
    "<img src=\"https://drive.google.com/uc?id=1zN8k-mv-mJHM-uUr9PRP9QquEuNS9lxe\" width=\"700px\">"
   ]
  },
  {
   "cell_type": "markdown",
   "metadata": {},
   "source": [
    "<font size=8 color=\"#009600\">&#9998;</font> Yep, can absolutely do that :)."
   ]
  },
  {
   "cell_type": "markdown",
   "metadata": {},
   "source": [
    "### ipython history things\n",
    "\n",
    "ipython has a large number of \"helper\" abilities to aid in your console use. Some simple things:\n",
    "\n",
    "ipython has an `In[n]` and `Out[n]` at the front of each line. The `n` is a history number that remembers the input provide or the output produced.\n",
    "\n",
    "- `up-arrow` key or `down-arrow` key on your keyboard moves through the history of what you have typed and presents a line that you can edit/change and then rerun\n",
    "- the `history -n` command gives you a list of inputs, with a \"history number\" of all that you have typed\n",
    "- the `rerun x` where `x` is a history number will rerun that command\n",
    "- the `run` command will load a script file and run it\n",
    "   - the `reload` will reload an updated file\n",
    "- the special characters `_`, `__` and `___` are the **outputs** from the previous, before that and before that operation.\n",
    "\n",
    "Look at the window below. \n",
    "- history:5, I used the up-arrow key to give me the `arange` line again and changed the increment value. I then hit enter and reran it.\n",
    "- history:6 I reploted by using up-arrow and re-running the plt line\n",
    "- history:7-9 I looked at my input history and found that history:3 had the 0.1 increment. I used `rerun 3` to rerun that line\n",
    "- history:11 I wanted to remember what `ary` was before I reset it so I got the 2nd previous output and printed it with `__`\n",
    "\n",
    "<img src=\"https://drive.google.com/uc?id=1ygF1ZxymbkFEec_UOU-etULaRPKs7hrG\" width=\"500px\">"
   ]
  },
  {
   "cell_type": "markdown",
   "metadata": {},
   "source": [
    "<font size=8 color=\"#009600\">&#9998;</font> Woot, did that too!"
   ]
  },
  {
   "cell_type": "markdown",
   "metadata": {},
   "source": [
    "### Querying elements\n",
    "\n",
    "You can ask questions about an element using ipython and get a lot of good information\n",
    "\n",
    "- follow any variable or other object with a `?` and ipython will print out information about the object. I created a `rng` range element on history:15. Typing `rng?` followed by enter tells me something about the object\n",
    "- if the object can take a method (and most can), then I can type a . and a tab and get a list of possible operations. For example, typing `rng.` followd by a tab gives me a list of operations and another tab moves through that list providing a brief description. In the image below I have selected (via a tab> `rng.count` and it is described below the method.\n",
    "\n",
    "<img src=\"https://drive.google.com/uc?id=10Iaje9ro3pWHteiXlfBeSx8YHx16xAJu\" width=\"500px\">"
   ]
  },
  {
   "cell_type": "markdown",
   "metadata": {},
   "source": [
    "<font size=8 color=\"#009600\">&#9998;</font> Did the listing of methods with a 2DLine, a decent amount of methods came up."
   ]
  },
  {
   "cell_type": "markdown",
   "metadata": {},
   "source": [
    "### Command line operations\n",
    "\n",
    "Most of the shell commands we have used will work in ipython. For example\n",
    "- `ls` will list the files in the currently connected directory\n",
    "- `pwd` will tell you your current directory\n",
    "- `cd` will allow you to change what the current directory is.\n",
    "\n",
    "If you want to type a more complicated shell command, you preced it with a `!`"
   ]
  },
  {
   "cell_type": "markdown",
   "metadata": {},
   "source": [
    "<font size=8 color=\"#009600\">&#9998;</font> \n",
    "Current:\n",
    "01/31/2020  03:36 PM    <DIR>          .\n",
    "01/31/2020  03:36 PM    <DIR>          ..\n",
    "04/15/2019  09:21 PM    <DIR>          .anaconda\n",
    "01/31/2020  03:36 PM             8,703 .bash_history\n",
    "01/22/2020  07:26 PM                99 .bash_profile\n",
    "01/22/2020  07:41 PM               118 .bashrc\n",
    "11/29/2019  07:12 PM    <DIR>          .conda\n",
    "02/05/2020  11:01 AM                60 .condarc\n",
    "01/28/2020  11:02 AM    <DIR>          .config\n",
    "04/15/2019  09:24 PM    <DIR>          .continuum\n",
    "08/07/2018  09:34 PM    <DIR>          .EVE\n",
    "01/14/2020  11:27 AM                84 .gitconfig\n",
    "09/02/2019  11:43 AM    <DIR>          .ipynb_checkpoints\n",
    "04/15/2019  09:27 PM    <DIR>          .ipython\n",
    "08/25/2019  06:39 PM    <DIR>          .jupyter\n",
    "01/31/2020  03:31 PM                28 .lesshst\n",
    "08/25/2019  06:39 PM    <DIR>          .matplotlib\n",
    "01/23/2020  10:32 AM                35 .minttyrc\n",
    "09/24/2018  05:26 PM    <DIR>          .mputils\n",
    "02/16/2019  03:27 PM    <DIR>          .Origin\n",
    "01/23/2020  10:50 AM               264 .python_history\n",
    "08/07/2018  09:34 PM    <DIR>          .QtWebEngineProcess\n",
    "04/18/2019  06:20 PM                 0 .Rhistory\n",
    "08/25/2019  06:39 PM    <DIR>          .spyder-py3\n",
    "12/14/2019  07:27 PM    <DIR>          3D Objects\n",
    "07/30/2018  09:34 PM    <DIR>          ansel\n",
    "12/14/2019  07:27 PM    <DIR>          Contacts\n",
    "02/03/2020  07:47 PM    <DIR>          Desktop\n",
    "01/27/2020  10:10 PM    <DIR>          Documents\n",
    "02/05/2020  11:01 AM    <DIR>          Downloads\n",
    "12/14/2019  07:27 PM    <DIR>          Favorites\n",
    "01/08/2020  07:21 PM    <DIR>          fifteen\n",
    "01/08/2020  07:21 PM    <DIR>          five\n",
    "01/08/2020  07:20 PM    <DIR>          getced()\n",
    "07/31/2018  11:55 PM    <DIR>          HP\n",
    "12/14/2019  07:27 PM    <DIR>          Links\n",
    "12/14/2019  07:27 PM    <DIR>          Music\n",
    "08/25/2019  06:20 PM    <DIR>          New folder\n",
    "01/19/2020  02:57 PM    <DIR>          OneDrive\n",
    "12/14/2019  07:27 PM    <DIR>          Pictures\n",
    "07/11/2018  02:50 PM    <DIR>          Roaming\n",
    "12/14/2019  07:27 PM    <DIR>          Saved Games\n",
    "12/14/2019  07:27 PM    <DIR>          Searches\n",
    "01/08/2020  07:21 PM    <DIR>          ten\n",
    "01/08/2020  07:21 PM    <DIR>          twenty\n",
    "12/14/2019  07:27 PM    <DIR>          Videos\n",
    "    \n",
    "Desktop:\n",
    "02/03/2020  07:47 PM    <DIR>          .\n",
    "02/03/2020  07:47 PM    <DIR>          ..\n",
    "12/02/2019  11:38 PM    <DIR>          .ipynb_checkpoints\n",
    "02/03/2020  10:14 AM            17,020 Academic Plan.xlsx\n",
    "12/25/2019  12:08 PM               252 Ape Out.url\n",
    "01/13/2019  10:48 PM             2,698 Autodesk Fusion 360.lnk\n",
    "10/08/2019  08:54 PM               222 Awesomenauts.url\n",
    "01/31/2020  03:18 PM    <DIR>          BRAG\n",
    "09/03/2019  07:27 PM               964 Classes.lnk\n",
    "11/23/2019  02:45 PM               259 Dauntless.url\n",
    "01/01/2020  06:42 PM               223 Destiny 2.url\n",
    "03/12/2019  03:09 PM             2,275 Discord.lnk\n",
    "09/11/2019  11:58 PM             2,993 discord.txt\n",
    "12/18/2019  04:47 PM               222 Don't Starve Together.url\n",
    "10/15/2019  07:39 PM             1,326 DoS2.lnk\n",
    "02/03/2020  10:49 AM        36,359,808 EIA930_BALANCE_2019_Jan_Jun.csv\n",
    "02/03/2020  10:50 AM        36,992,390 EIA930_BALANCE_2019_Jul_Dec.csv\n",
    "02/03/2020  10:44 AM         6,465,370 EIA930_BALANCE_2020_Jan_Jun.csv\n",
    "01/07/2020  05:20 PM               222 Endless Space 2.url\n",
    "01/31/2020  08:48 PM               281 Farming Simulator 19.url\n",
    "12/26/2019  03:55 PM               265 Faster Than Light.url\n",
    "08/06/2018  10:51 PM    <DIR>          GPUCache\n",
    "12/07/2019  05:04 PM               251 Jotun Valhalla Edition.url\n",
    "09/04/2018  09:24 AM             2,334 Kindle.lnk\n",
    "01/22/2020  10:41 PM    <DIR>          Lab Protocols\n",
    "09/04/2018  08:35 AM               995 Logitech Gaming Software 9.02.lnk\n",
    "10/15/2019  05:12 PM             1,153 MEGAsync.lnk\n",
    "07/31/2018  10:11 AM             1,417 Microsoft Edge.lnk\n",
    "03/26/2019  06:36 PM             2,398 Microsoft Teams.lnk\n",
    "01/23/2020  08:07 PM               222 MINDNIGHT.url\n",
    "01/06/2020  08:41 PM        73,161,013 MMG409_Book.pdf\n",
    "09/09/2018  05:59 PM             1,290 MSU.lnk\n",
    "05/02/2019  02:43 PM               816 nativelog.txt\n",
    "05/19/2019  07:41 PM               222 Path of Exile.url\n",
    "12/07/2019  12:52 PM               219 Portal 2.url\n",
    "02/11/2019  10:26 PM             1,175 RL.lnk\n",
    "12/07/2019  03:46 PM               220 Sid Meier's Civilization V.url\n",
    "01/23/2020  05:30 PM             2,239 Slack.lnk\n",
    "08/20/2018  02:58 PM             1,892 Spotify.lnk\n",
    "12/15/2019  11:09 PM               222 Starbound.url\n",
    "12/21/2019  12:43 PM               255 SUPERHOT.url\n",
    "07/31/2018  07:41 PM               222 Tabletop Simulator.url\n",
    "01/25/2020  12:40 AM               261 The Bridge.url\n",
    "01/01/2020  06:30 PM               222 The Witcher 3 Wild Hunt.url\n",
    "12/16/2019  02:35 PM               270 The Wolf Among Us.url\n",
    "12/25/2019  12:08 PM               278 Totally Accurate Battle Simulator.url\n",
    "08/01/2018  09:59 AM               637 Twitch.lnk\n",
    "09/14/2018  06:29 PM               222 Warframe.url"
   ]
  },
  {
   "cell_type": "markdown",
   "metadata": {},
   "source": [
    "## Read the quick tutorial\n",
    "\n",
    "The folks at ipython have a quick tutorial. You should take a look as it might give you some more useful details.\n",
    "\n",
    "<a href=\"https://ipython.readthedocs.io/en/stable/interactive/tutorial.html\"> Link to the official Ipython Tutorial>"
   ]
  },
  {
   "cell_type": "markdown",
   "metadata": {},
   "source": [
    "-----\n",
    "## 2. Very quick introduction to Graph Theory\n",
    "\n",
    "Note the video below is literally as *very quick* introduction to graphy theory.  You might need to watch it more than once to make sure you understand the concepts."
   ]
  },
  {
   "cell_type": "code",
   "execution_count": 1,
   "metadata": {},
   "outputs": [
    {
     "data": {
      "image/jpeg": "[encoded data removed]",
      "text/html": [
       "\n",
       "        <iframe\n",
       "            width=\"640\"\n",
       "            height=\"360\"\n",
       "            src=\"https://www.youtube.com/embed/m-KUiibR4Xs\"\n",
       "            frameborder=\"0\"\n",
       "            allowfullscreen\n",
       "        ></iframe>\n",
       "        "
      ],
      "text/plain": [
       "<IPython.lib.display.YouTubeVideo at 0x1fd8cea5908>"
      ]
     },
     "execution_count": 1,
     "metadata": {},
     "output_type": "execute_result"
    }
   ],
   "source": [
    "from IPython.display import YouTubeVideo\n",
    "YouTubeVideo(\"m-KUiibR4Xs\",width=640,height=360)"
   ]
  },
  {
   "cell_type": "markdown",
   "metadata": {},
   "source": [
    "Now that you understand a bit about what as \"graph\" is in this context, which might also sometimes just be referred to as a \"network\", here is another short video that walks through the details a little slower and highlights some more examples of how a graph might be used to represent the real world."
   ]
  },
  {
   "cell_type": "code",
   "execution_count": null,
   "metadata": {},
   "outputs": [],
   "source": [
    "from IPython.display import YouTubeVideo\n",
    "YouTubeVideo(\"82zlRaRUsaY\",width=640,height=360)"
   ]
  },
  {
   "cell_type": "markdown",
   "metadata": {},
   "source": [
    "**Question 5:** Consider the following graph. How would you represent this graph in python.  Write some python code to represent this graph as either adjacency list (maybe using a dictionary or tuple?) or an adjacency matrix (maybe using 2D list?) \n",
    "\n",
    "\n",
    "<img src=\"http://www.algolist.net/img/graphs/graph-ir-1.png\">\n",
    "<p style=\"text-align: right;\">\n",
    "<a href=\"http://www.algolist.net/\">Image from: http://www.algolist.net/</p></a>\n"
   ]
  },
  {
   "cell_type": "code",
   "execution_count": 4,
   "metadata": {},
   "outputs": [],
   "source": [
    "x = [[0, 0, 0, 1, 0], [0, 0, 0, 1, 1], [0, 0, 0, 0, 1], [1, 1, 0, 0, 1], [0, 1, 1, 1, 0]]"
   ]
  },
  {
   "cell_type": "markdown",
   "metadata": {},
   "source": [
    "**Question 6:** Now consider the following graph. Describe how you would change your format to account for directed edges.  How about labels that are not numbers?  Feel free to include an example in python (not required). \n",
    "\n",
    "\n",
    "\n",
    "<img src=\"http://www.cs.amherst.edu/ccm/cs31/augraph.jpg\">\n",
    "<p style=\"text-align: right;\">\n",
    "<a href=\"http://www.cs.amherst.edu/ccm/cs31\">Image from: http://www.cs.amherst.edu/ccm/cs3</p></a>\n",
    "\n",
    "\n",
    "\n"
   ]
  },
  {
   "cell_type": "markdown",
   "metadata": {},
   "source": [
    "<font size=8 color=\"#009600\">&#9998;</font> I would probably set any directed edge values to either -1 or 2 to distinguish them from just a general connection."
   ]
  },
  {
   "cell_type": "markdown",
   "metadata": {},
   "source": [
    "**Find this stuff interesting?** If you want to learn more about graph theory here is a great set of videos by Dr. Sarada Herke. They are longer videos and are not required for the course, but if this is something you'd like to learn more about, I encourage you to check them out.\n",
    "\n",
    "https://www.youtube.com/user/DrSaradaHerke"
   ]
  },
  {
   "cell_type": "markdown",
   "metadata": {},
   "source": [
    "----\n",
    "# 3. Assignment wrap-up\n",
    "\n",
    "Please fill out the form that appears when you run the code below.  **You must completely fill this out in order to receive credit for the assignment!**"
   ]
  },
  {
   "cell_type": "code",
   "execution_count": 5,
   "metadata": {},
   "outputs": [
    {
     "data": {
      "text/html": [
       "\n",
       "<iframe \n",
       "\tsrc=\"https://cmse.msu.edu/cmse202-pc-survey\" \n",
       "\twidth=\"800px\" \n",
       "\theight=\"600px\" \n",
       "\tframeborder=\"0\" \n",
       "\tmarginheight=\"0\" \n",
       "\tmarginwidth=\"0\">\n",
       "\tLoading...\n",
       "</iframe>\n"
      ],
      "text/plain": [
       "<IPython.core.display.HTML object>"
      ]
     },
     "execution_count": 5,
     "metadata": {},
     "output_type": "execute_result"
    }
   ],
   "source": [
    "from IPython.display import HTML\n",
    "HTML(\n",
    "\"\"\"\n",
    "<iframe \n",
    "\tsrc=\"https://cmse.msu.edu/cmse202-pc-survey\" \n",
    "\twidth=\"800px\" \n",
    "\theight=\"600px\" \n",
    "\tframeborder=\"0\" \n",
    "\tmarginheight=\"0\" \n",
    "\tmarginwidth=\"0\">\n",
    "\tLoading...\n",
    "</iframe>\n",
    "\"\"\"\n",
    ")"
   ]
  },
  {
   "cell_type": "markdown",
   "metadata": {},
   "source": [
    "---------\n",
    "### Congratulations, you're done with your pre-class assignment!\n",
    "\n",
    "Now, you just need to submit this assignment by uploading it to the course <a href=\"https://d2l.msu.edu/\">Desire2Learn</a> web page for today's submission folder. (Don't forget to add your name in the first cell.)"
   ]
  },
  {
   "cell_type": "markdown",
   "metadata": {},
   "source": [
    "&#169; Copyright 2018,  Michigan State University Board of Trustees"
   ]
  }
 ],
 "metadata": {
  "anaconda-cloud": {},
  "kernelspec": {
   "display_name": "Python 3",
   "language": "python",
   "name": "python3"
  },
  "language_info": {
   "codemirror_mode": {
    "name": "ipython",
    "version": 3
   },
   "file_extension": ".py",
   "mimetype": "text/x-python",
   "name": "python",
   "nbconvert_exporter": "python",
   "pygments_lexer": "ipython3",
   "version": "3.7.3"
  }
 },
 "nbformat": 4,
 "nbformat_minor": 4
}
