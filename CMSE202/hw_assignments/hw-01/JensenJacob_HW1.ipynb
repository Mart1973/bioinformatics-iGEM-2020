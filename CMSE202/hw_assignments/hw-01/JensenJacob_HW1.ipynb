{
 "cells": [
  {
   "cell_type": "markdown",
   "metadata": {},
   "source": [
    "### <p style=\"text-align: right;\"> &#9989; Jacob Jensen"
   ]
  },
  {
   "cell_type": "markdown",
   "metadata": {},
   "source": [
    "# Homework Assignment #1 (Individual)\n",
    "## Git Practice, Debugging Practice, Modeling World Population, and Writing Python Scripts\n"
   ]
  },
  {
   "cell_type": "markdown",
   "metadata": {},
   "source": [
    "### Goals for this homework assignment\n",
    "By the end of this assignment, you should be able to:\n",
    "* Use Git to create a repository, track changes to the files within the repository, and push those changes to a remote repository.\n",
    "* Debug Python code.\n",
    "* Get more experience with Pandas using excel spread sheets.\n",
    "* Make plots of your model using <code>matplotlib</code>.\n",
    "* Practice writing and executing a Python script.\n",
    "\n",
    "### Assignment instructions\n",
    "\n",
    "Work through the following assignment, making sure to follow all of the directions and answer all of the questions.\n",
    "\n",
    "There are **25 points** possible on this assignment. Point values for each part are included in the section headers.\n",
    "\n",
    "**This assignment is due roughly two weeks from now at 11:59 pm on Friday, January 24.** It should be uploaded into the \"Homework Assignments\" submission folder for Homework #1 in your D2L webpage.  Submission instructions can be found at the end of the notebook."
   ]
  },
  {
   "cell_type": "markdown",
   "metadata": {},
   "source": [
    "---\n",
    "## Part 1: Setting up a git repository to track your progress on your assignment (5 points)\n",
    "\n",
    "For this assignment, you're going to add it to the `cmse202-s20-turnin` repository you created in class so that you can track your progress on the assignment and preserve the final version that you turn in. In order to do this you need to:\n",
    "\n",
    "1. Navigate to your `cmse202-s20-turnin` repository and create a new directory called `hw-01`.\n",
    "2. Move this notebook into that **new directory** in your repository, then **add it and commit it to your repository**.\n",
    "1. Finally, to test that everything is working, \"git push\" the file so that it ends up in your GitHub repository.\n",
    "\n",
    "**Important**: Make sure you've added your PTA as a collaborators\\ to your \"turnin\" respository with \"Read\" access so that we can see your assignment. \n",
    "* Section 001: nchamusah14\n",
    "* Section 002: nchamusah14\n",
    "* Section 003: genster6\n",
    "\n",
    "**Also important**: Make sure that the version of this notebook that you are working on is the same one that you just added to your repository! If you are working on a different copy of the noteobok, **none of your changes will be tracked**.\n",
    "\n",
    "If everything went as intended, the file should now show up on your GitHub account in the \"`cmse202-s20-turnin`\" repository inside the `hw-01` directory that you just created.  Periodically, **you'll be asked to commit your changes to the repository and push them to the remote GitHub location**. Of course, you can always commit your changes more often than that, if you wish.  It can be good to get into a habit of committing your changes any time you make a significant modification, or when you stop working on the project for a bit."
   ]
  },
  {
   "cell_type": "markdown",
   "metadata": {},
   "source": [
    "---\n",
    "\n",
    "---\n",
    "\n",
    "## Part 2: Debugging code: understanding error messages (6 points)\n",
    "\n",
    "For the next part of this assignment, you're going to presented with a variety of code bugs and your job is to fix them."
   ]
  },
  {
   "cell_type": "markdown",
   "metadata": {},
   "source": [
    "### Fixing errors\n",
    "\n",
    "<p style=\"text-align: left;\"> &#9989; To Do</p> \n",
    "For each piece of code, rewrite it in the cell below and fix the error so that the code runs. If it is a runtime error, fix it with a message to avoid running the incorrect code. In the code you write, provide a comment as to what was wrong."
   ]
  },
  {
   "cell_type": "code",
   "execution_count": 1,
   "metadata": {
    "scrolled": true
   },
   "outputs": [
    {
     "ename": "SyntaxError",
     "evalue": "invalid syntax (<ipython-input-1-61a3c4ac4a0a>, line 1)",
     "output_type": "error",
     "traceback": [
      "\u001b[1;36m  File \u001b[1;32m\"<ipython-input-1-61a3c4ac4a0a>\"\u001b[1;36m, line \u001b[1;32m1\u001b[0m\n\u001b[1;33m    for i in range(10)\u001b[0m\n\u001b[1;37m                      ^\u001b[0m\n\u001b[1;31mSyntaxError\u001b[0m\u001b[1;31m:\u001b[0m invalid syntax\n"
     ]
    }
   ],
   "source": [
    "for i in range(10)\n",
    "    print(\"The value of i is {}\".format(i))"
   ]
  },
  {
   "cell_type": "code",
   "execution_count": 2,
   "metadata": {},
   "outputs": [
    {
     "name": "stdout",
     "output_type": "stream",
     "text": [
      "The value of i is 0\n",
      "The value of i is 1\n",
      "The value of i is 2\n",
      "The value of i is 3\n",
      "The value of i is 4\n",
      "The value of i is 5\n",
      "The value of i is 6\n",
      "The value of i is 7\n",
      "The value of i is 8\n",
      "The value of i is 9\n"
     ]
    }
   ],
   "source": [
    "# your answer here\n",
    "for i in range(10): #Forgot : with for loop\n",
    "    print(\"The value of i is {}\".format(i))"
   ]
  },
  {
   "cell_type": "code",
   "execution_count": 3,
   "metadata": {},
   "outputs": [
    {
     "ename": "IndentationError",
     "evalue": "expected an indented block (<ipython-input-3-aa008b543fa3>, line 5)",
     "output_type": "error",
     "traceback": [
      "\u001b[1;36m  File \u001b[1;32m\"<ipython-input-3-aa008b543fa3>\"\u001b[1;36m, line \u001b[1;32m5\u001b[0m\n\u001b[1;33m    the_sum += i\u001b[0m\n\u001b[1;37m          ^\u001b[0m\n\u001b[1;31mIndentationError\u001b[0m\u001b[1;31m:\u001b[0m expected an indented block\n"
     ]
    }
   ],
   "source": [
    "cnt = 10\n",
    "the_sum = 0\n",
    "for i in range(cnt):\n",
    "    if i%2 == 0:\n",
    "    the_sum += i\n",
    "print(\"The sum of the even number from {} to {} is {}\".format(0,cnt,the_sum))"
   ]
  },
  {
   "cell_type": "code",
   "execution_count": 4,
   "metadata": {},
   "outputs": [
    {
     "name": "stdout",
     "output_type": "stream",
     "text": [
      "The sum of the even number from 0 to 10 is 30\n"
     ]
    }
   ],
   "source": [
    "# your answer here\n",
    "cnt = 10\n",
    "the_sum = 0\n",
    "for i in range(cnt + 1): #Included endpoint\n",
    "    if i%2 == 0:\n",
    "        the_sum += i #Indention\n",
    "print(\"The sum of the even number from {} to {} is {}\".format(0,cnt,the_sum))"
   ]
  },
  {
   "cell_type": "code",
   "execution_count": 5,
   "metadata": {},
   "outputs": [
    {
     "name": "stdout",
     "output_type": "stream",
     "text": [
      "The value of the fraction is 5.0\n",
      "The value of the fraction is 0.2\n"
     ]
    },
    {
     "ename": "ZeroDivisionError",
     "evalue": "division by zero",
     "output_type": "error",
     "traceback": [
      "\u001b[1;31m---------------------------------------------------------------------------\u001b[0m",
      "\u001b[1;31mZeroDivisionError\u001b[0m                         Traceback (most recent call last)",
      "\u001b[1;32m<ipython-input-5-37ca300de653>\u001b[0m in \u001b[0;36m<module>\u001b[1;34m\u001b[0m\n\u001b[0;32m      5\u001b[0m \u001b[0mcompute_fraction\u001b[0m\u001b[1;33m(\u001b[0m\u001b[1;36m25\u001b[0m\u001b[1;33m,\u001b[0m\u001b[1;36m5\u001b[0m\u001b[1;33m)\u001b[0m\u001b[1;33m\u001b[0m\u001b[1;33m\u001b[0m\u001b[0m\n\u001b[0;32m      6\u001b[0m \u001b[0mcompute_fraction\u001b[0m\u001b[1;33m(\u001b[0m\u001b[1;36m5\u001b[0m\u001b[1;33m,\u001b[0m\u001b[1;36m25\u001b[0m\u001b[1;33m)\u001b[0m\u001b[1;33m\u001b[0m\u001b[1;33m\u001b[0m\u001b[0m\n\u001b[1;32m----> 7\u001b[1;33m \u001b[0mcompute_fraction\u001b[0m\u001b[1;33m(\u001b[0m\u001b[1;36m5\u001b[0m\u001b[1;33m,\u001b[0m \u001b[1;36m0\u001b[0m\u001b[1;33m)\u001b[0m\u001b[1;33m\u001b[0m\u001b[1;33m\u001b[0m\u001b[0m\n\u001b[0m",
      "\u001b[1;32m<ipython-input-5-37ca300de653>\u001b[0m in \u001b[0;36mcompute_fraction\u001b[1;34m(numerator, denominator)\u001b[0m\n\u001b[0;32m      1\u001b[0m \u001b[1;32mdef\u001b[0m \u001b[0mcompute_fraction\u001b[0m\u001b[1;33m(\u001b[0m\u001b[0mnumerator\u001b[0m\u001b[1;33m,\u001b[0m \u001b[0mdenominator\u001b[0m\u001b[1;33m)\u001b[0m\u001b[1;33m:\u001b[0m\u001b[1;33m\u001b[0m\u001b[1;33m\u001b[0m\u001b[0m\n\u001b[1;32m----> 2\u001b[1;33m     \u001b[0mfraction\u001b[0m \u001b[1;33m=\u001b[0m \u001b[0mnumerator\u001b[0m\u001b[1;33m/\u001b[0m\u001b[0mdenominator\u001b[0m\u001b[1;33m\u001b[0m\u001b[1;33m\u001b[0m\u001b[0m\n\u001b[0m\u001b[0;32m      3\u001b[0m     \u001b[0mprint\u001b[0m\u001b[1;33m(\u001b[0m\u001b[1;34m\"The value of the fraction is {}\"\u001b[0m\u001b[1;33m.\u001b[0m\u001b[0mformat\u001b[0m\u001b[1;33m(\u001b[0m\u001b[0mfraction\u001b[0m\u001b[1;33m)\u001b[0m\u001b[1;33m)\u001b[0m\u001b[1;33m\u001b[0m\u001b[1;33m\u001b[0m\u001b[0m\n\u001b[0;32m      4\u001b[0m \u001b[1;33m\u001b[0m\u001b[0m\n\u001b[0;32m      5\u001b[0m \u001b[0mcompute_fraction\u001b[0m\u001b[1;33m(\u001b[0m\u001b[1;36m25\u001b[0m\u001b[1;33m,\u001b[0m\u001b[1;36m5\u001b[0m\u001b[1;33m)\u001b[0m\u001b[1;33m\u001b[0m\u001b[1;33m\u001b[0m\u001b[0m\n",
      "\u001b[1;31mZeroDivisionError\u001b[0m: division by zero"
     ]
    }
   ],
   "source": [
    "def compute_fraction(numerator, denominator):\n",
    "    fraction = numerator/denominator\n",
    "    print(\"The value of the fraction is {}\".format(fraction))\n",
    "\n",
    "compute_fraction(25,5)\n",
    "compute_fraction(5,25)\n",
    "compute_fraction(5, 0)"
   ]
  },
  {
   "cell_type": "code",
   "execution_count": 6,
   "metadata": {},
   "outputs": [
    {
     "name": "stdout",
     "output_type": "stream",
     "text": [
      "The value of the fraction is 5.0\n",
      "The value of the fraction is 0.2\n",
      "Undefined: Divide by 0\n"
     ]
    }
   ],
   "source": [
    "# your answer here\n",
    "def compute_fraction(numerator, denominator):\n",
    "    if denominator != 0: #Included check to see if dividing by 0\n",
    "        fraction = numerator/denominator\n",
    "        print(\"The value of the fraction is {}\".format(fraction))\n",
    "    else:\n",
    "        print(\"Undefined: Divide by 0\")\n",
    "\n",
    "compute_fraction(25,5)\n",
    "compute_fraction(5,25)\n",
    "compute_fraction(5, 0)"
   ]
  },
  {
   "cell_type": "code",
   "execution_count": 7,
   "metadata": {},
   "outputs": [
    {
     "name": "stdout",
     "output_type": "stream",
     "text": [
      "9\n"
     ]
    },
    {
     "ename": "IndexError",
     "evalue": "index 10 is out of bounds for axis 0 with size 10",
     "output_type": "error",
     "traceback": [
      "\u001b[1;31m---------------------------------------------------------------------------\u001b[0m",
      "\u001b[1;31mIndexError\u001b[0m                                Traceback (most recent call last)",
      "\u001b[1;32m<ipython-input-7-67838716a22b>\u001b[0m in \u001b[0;36m<module>\u001b[1;34m\u001b[0m\n\u001b[0;32m      7\u001b[0m     \u001b[0mn\u001b[0m\u001b[1;33m[\u001b[0m\u001b[0mi\u001b[0m\u001b[1;33m]\u001b[0m \u001b[1;33m=\u001b[0m \u001b[0mrandom\u001b[0m\u001b[1;33m.\u001b[0m\u001b[0mrandint\u001b[0m\u001b[1;33m(\u001b[0m\u001b[1;36m100\u001b[0m\u001b[1;33m,\u001b[0m\u001b[1;36m1000\u001b[0m\u001b[1;33m)\u001b[0m\u001b[1;33m\u001b[0m\u001b[1;33m\u001b[0m\u001b[0m\n\u001b[0;32m      8\u001b[0m \u001b[0mprint\u001b[0m\u001b[1;33m(\u001b[0m\u001b[0mi\u001b[0m\u001b[1;33m)\u001b[0m\u001b[1;33m\u001b[0m\u001b[1;33m\u001b[0m\u001b[0m\n\u001b[1;32m----> 9\u001b[1;33m \u001b[0mprint\u001b[0m\u001b[1;33m(\u001b[0m\u001b[1;34m\"The value of the 10th element is {}\"\u001b[0m\u001b[1;33m.\u001b[0m\u001b[0mformat\u001b[0m\u001b[1;33m(\u001b[0m\u001b[0mn\u001b[0m\u001b[1;33m[\u001b[0m\u001b[0mcnt\u001b[0m\u001b[1;33m]\u001b[0m\u001b[1;33m)\u001b[0m\u001b[1;33m)\u001b[0m\u001b[1;33m\u001b[0m\u001b[1;33m\u001b[0m\u001b[0m\n\u001b[0m",
      "\u001b[1;31mIndexError\u001b[0m: index 10 is out of bounds for axis 0 with size 10"
     ]
    }
   ],
   "source": [
    "import numpy as np\n",
    "import random\n",
    "\n",
    "cnt = 10\n",
    "n = np.arange(cnt)\n",
    "for i in range(cnt):\n",
    "    n[i] = random.randint(100,1000)\n",
    "print(i)\n",
    "print(\"The value of the 10th element is {}\".format(n[cnt]))"
   ]
  },
  {
   "cell_type": "code",
   "execution_count": 8,
   "metadata": {},
   "outputs": [
    {
     "name": "stdout",
     "output_type": "stream",
     "text": [
      "9\n",
      "The value of the 10th element is 526\n"
     ]
    }
   ],
   "source": [
    "# your answer here\n",
    "import numpy as np\n",
    "import random\n",
    "\n",
    "cnt = 10\n",
    "n = np.arange(cnt)\n",
    "for i in range(cnt):\n",
    "    n[i] = random.randint(100,1000)\n",
    "print(i)\n",
    "print(\"The value of the 10th element is {}\".format(n[-1])) #Changed to print last defined index"
   ]
  },
  {
   "cell_type": "code",
   "execution_count": 9,
   "metadata": {},
   "outputs": [
    {
     "name": "stdout",
     "output_type": "stream",
     "text": [
      "The largest even number in the range 0 to 100 is 99\n"
     ]
    }
   ],
   "source": [
    "cnt = 100\n",
    "even = [ i for i in range(cnt) if i%2 ]\n",
    "\n",
    "print(\"The largest even number in the range {} to {} is {}\".format(0,cnt,max(even)))"
   ]
  },
  {
   "cell_type": "code",
   "execution_count": 10,
   "metadata": {},
   "outputs": [
    {
     "name": "stdout",
     "output_type": "stream",
     "text": [
      "The largest even number in the range 0 to 100 is 98\n"
     ]
    }
   ],
   "source": [
    "# your answer here\n",
    "cnt = 100\n",
    "even = [ i for i in range(cnt) if not(i%2) ] #Included not() so that mod 0 is true\n",
    "\n",
    "print(\"The largest even number in the range {} to {} is {}\".format(0,cnt,max(even)))"
   ]
  },
  {
   "cell_type": "code",
   "execution_count": 11,
   "metadata": {},
   "outputs": [
    {
     "ename": "SyntaxError",
     "evalue": "invalid syntax (<ipython-input-11-ee367ed0573f>, line 4)",
     "output_type": "error",
     "traceback": [
      "\u001b[1;36m  File \u001b[1;32m\"<ipython-input-11-ee367ed0573f>\"\u001b[1;36m, line \u001b[1;32m4\u001b[0m\n\u001b[1;33m    'one':'uno'\u001b[0m\n\u001b[1;37m         ^\u001b[0m\n\u001b[1;31mSyntaxError\u001b[0m\u001b[1;31m:\u001b[0m invalid syntax\n"
     ]
    }
   ],
   "source": [
    "spanish = { \n",
    "'hello':'hola',\n",
    "'yes':'si'\n",
    "'one':'uno'\n",
    "}\n",
    "\n",
    "print(\"'Hello' in spanish is {}\".format(spanish['Hello']))"
   ]
  },
  {
   "cell_type": "code",
   "execution_count": 12,
   "metadata": {},
   "outputs": [
    {
     "name": "stdout",
     "output_type": "stream",
     "text": [
      "Hello in spanish is hola\n"
     ]
    }
   ],
   "source": [
    "# your answer here\n",
    "spanish = { \n",
    "'hello':'hola',\n",
    "'yes':'si', #Added ,\n",
    "'one':'uno'\n",
    "}\n",
    "\n",
    "print(\"Hello in spanish is {}\".format(spanish['hello'])) #Removed ' ' on Hello and changed H to h"
   ]
  },
  {
   "cell_type": "markdown",
   "metadata": {},
   "source": [
    "---\n",
    "### STOP\n",
    "Take a moment to save your notebook, commit the changes to your Git repository using the commit message \"Finished Part 2\", and push the changes to GitHub.\n",
    "\n",
    "---"
   ]
  },
  {
   "cell_type": "markdown",
   "metadata": {},
   "source": [
    "## Part 3: Reading in the Migrant Flow Data (7 points)\n",
    "\n",
    "Before we go too far, let's pull in all the imports we need. If we have to, we can come back here and do it again in one cell."
   ]
  },
  {
   "cell_type": "code",
   "execution_count": 13,
   "metadata": {},
   "outputs": [],
   "source": [
    "import pandas as pd\n",
    "import matplotlib.pyplot as plt\n",
    "import numpy as np"
   ]
  },
  {
   "cell_type": "markdown",
   "metadata": {},
   "source": [
    "OK, let's get started. One of the things you have to do as a Data Scientist is work with what you are given. The data below is not perfect but we are going to work our way through to make it work for us. \n",
    "\n",
    "Take a look a the web page below:\n",
    "\n",
    "[\"Visualizing Migrant Flows\"](https://download.gsb.bund.de/BIB/global_flow/)\n",
    "\n",
    "It is a very well thought out way to visualize the movement of migrants to and from the various countries of the world from 1990 to 2010. Some of the movement may surprise you. The data was collected originally for a paper in 2014 titled [\"Quantifying Global International Migration Flows\"](https://science.sciencemag.org/content/343/6178/1520/tab-figures-data). The database S2 in the link is the source of the data, an excel spread sheet. That spread sheet is in the D2L location for this homework and called `migrant_flows.xlsx`.\n",
    "\n",
    "You read the sheet in the following way (in Excel):\n",
    "* you select a sheet at the bottom representing a 5 year period\n",
    "* the rows indicate the origin/source country\n",
    "* the columns represent the destination country\n",
    "\n",
    "Thus the totals at the end of a row represent how many people left the country during that 5 year span and the column totals represent how many people entered the country during that 5 year span. Any particular cell indicates: row: leaving , col: entering. For example, on the sheet tab `1990-95`, `Australia` (row) had 67 people leave for `Aruba` (col).\n",
    "\n",
    "We are going to work on gathering and manipulating some of that data using pandas. We are going to stretch our understanding a bit about what we can do with pandas to deal with data that doesn't quite fit the norm.\n",
    "\n",
    "We are going to go over some issues this particular spreadsheet has that you may not have seen before. Having gotten through those issues, we can do some analysis and potentially some model building. \n",
    "\n",
    "## Important Note:\n",
    "You **cannot** modify the original spreadsheet provided. We will test your code using the original spread sheet!"
   ]
  },
  {
   "cell_type": "markdown",
   "metadata": {},
   "source": [
    "### 3.1 Pandas and excel spread sheets (1 point)\n",
    "Let's start easy with some simple example spread sheets. Pandas has a function `read_excel` ([\"manual page\"](https://pandas.pydata.org/pandas-docs/stable/reference/api/pandas.read_excel.html) ) that has a lot of details. Let's try to break it down a bit.\n",
    "\n",
    "There is a spreadsheet in D2L called `sheet1.xlsx`. You can read in this simple sheet using `read_excel` as you would `read_csv`. There is only 1 sheet (tab at the bottom when you open the sheet in Excel) named `ClassGrades`. If there is only one sheet, `read_excel` reads in that sheet"
   ]
  },
  {
   "cell_type": "markdown",
   "metadata": {},
   "source": [
    "<p style=\"text-align: left;\"> &#9989; To Do</p>\n",
    "\n",
    "Read in that data sheet and print out the names of every person whose `Grade` is strictly less than a 3.0. Write that code in the cell below. Do as you wish but two possible approaches are:\n",
    "* iterate through the rows of the data frame, see `iterrrows`\n",
    "* print the `Names` of people whose `Grades` are less than 3"
   ]
  },
  {
   "cell_type": "code",
   "execution_count": 14,
   "metadata": {},
   "outputs": [
    {
     "name": "stdout",
     "output_type": "stream",
     "text": [
      "['Jane', 'Larry']\n"
     ]
    }
   ],
   "source": [
    "# your code here\n",
    "sheet1DF = pd.read_excel(\"sheet1.xlsx\")\n",
    "lowGrade = sheet1DF[ sheet1DF[\"Grade\"] < 3.0 ]\n",
    "lowGradeName = list(lowGrade[\"Names\"])\n",
    "print(lowGradeName)"
   ]
  },
  {
   "cell_type": "markdown",
   "metadata": {},
   "source": [
    "---\n",
    "### STOP\n",
    "Take a moment to save your notebook, commit the changes to your Git repository using the commit message \"Finished Part 3.1\", and push the changes to GitHub.\n",
    "\n",
    "---"
   ]
  },
  {
   "cell_type": "markdown",
   "metadata": {},
   "source": [
    "### 3.2 Multiple Sheets (1 point)\n",
    "\n",
    "Take a look at `sheet2.xlsx` in the D2L directory. It has two sheets (tabs at the bottom when you look at it with Excel) labeled `J_names` and `M_names`. If you just load the sheet as before, you only get the first sheet (in this case the `J_names`). However, there is an optional argument called `sheet_names` (note the underline). \n",
    "* if you do not provide this argument, you get only the first sheet\n",
    "* if you provide the actual sheet name as an argument, you get that sheet as a data frame\n",
    "* if you provide an integer, you can the sheet the integer represents (first sheet is 0, left to right numbering)\n",
    "* if you provide as an argument to `sheet_name` the value `None`, you get a dictionary back where the key is the sheet name and the value is the data frame associated with the sheet name\n",
    "\n",
    "<p style=\"text-align: left;\"> &#9989; To Do</p>\n",
    "\n",
    "Write the code below that looks at **all** sheets and reports **all** `Names` whose `Grade` is  less than 3. "
   ]
  },
  {
   "cell_type": "code",
   "execution_count": 15,
   "metadata": {},
   "outputs": [
    {
     "name": "stdout",
     "output_type": "stream",
     "text": [
      "['Jamie', 'Josie', 'Madhur', 'Madison', 'Makena']\n"
     ]
    }
   ],
   "source": [
    "# your code here\n",
    "sheet2DF_J = pd.read_excel(\"sheet2.xlsx\", sheet_name = \"J_names\")\n",
    "sheet2DF_M = pd.read_excel(\"sheet2.xlsx\", sheet_name = \"M_names\")\n",
    "sheet2DF = sheet2DF_J.append(sheet2DF_M)\n",
    "\n",
    "lowGrade = sheet2DF[ sheet2DF[\"Grade\"] < 3.0 ]\n",
    "lowGradeName = list(lowGrade[\"Names\"])\n",
    "print(lowGradeName)"
   ]
  },
  {
   "cell_type": "markdown",
   "metadata": {},
   "source": [
    "Again, there are choices here and you are free to do as you like but some possibilities include:\n",
    "\n",
    "* iterate through the sheets, then the rows in the data frame of each sheet\n",
    "* again, iterate through the sheets, subset each data frame and collect the results\n",
    "\n",
    "It is useful to note that the result of an expression that produces a panda data series (play with this, use the python command `type` to examine return values) can be coerced to a `list` data type with the `list` command."
   ]
  },
  {
   "cell_type": "markdown",
   "metadata": {},
   "source": [
    "---\n",
    "### STOP\n",
    "Take a moment to save your notebook, commit the changes to your Git repository using the commit message \"Finished Part 3.2\", and push the changes to GitHub.\n",
    "\n",
    "---"
   ]
  },
  {
   "cell_type": "markdown",
   "metadata": {},
   "source": [
    "### 3.3 Dealing with weird headers (1 point)\n",
    "\n",
    "Pandas really likes it if it has headers for the rows and columns of the sheet you read in. Unfortunately, sometimes people decorate a spreadsheet with all kinds of helpful information for people which basically prevents you from getting the right headers setup in pandas. Take a look at `sheet3.xlsx`. It is a single sheet but I put in some header stuff which gets in pandas way. Nonethless, let's try reading it in directly and see what we get."
   ]
  },
  {
   "cell_type": "code",
   "execution_count": 16,
   "metadata": {},
   "outputs": [
    {
     "data": {
      "text/html": [
       "<div>\n",
       "<style scoped>\n",
       "    .dataframe tbody tr th:only-of-type {\n",
       "        vertical-align: middle;\n",
       "    }\n",
       "\n",
       "    .dataframe tbody tr th {\n",
       "        vertical-align: top;\n",
       "    }\n",
       "\n",
       "    .dataframe thead th {\n",
       "        text-align: right;\n",
       "    }\n",
       "</style>\n",
       "<table border=\"1\" class=\"dataframe\">\n",
       "  <thead>\n",
       "    <tr style=\"text-align: right;\">\n",
       "      <th></th>\n",
       "      <th>Unnamed: 0</th>\n",
       "      <th>Bad Row</th>\n",
       "      <th>Unnamed: 2</th>\n",
       "      <th>Unnamed: 3</th>\n",
       "      <th>Unnamed: 4</th>\n",
       "    </tr>\n",
       "  </thead>\n",
       "  <tbody>\n",
       "    <tr>\n",
       "      <th>0</th>\n",
       "      <td>Bad Column</td>\n",
       "      <td>Names</td>\n",
       "      <td>Percentage</td>\n",
       "      <td>Grade</td>\n",
       "      <td>NaN</td>\n",
       "    </tr>\n",
       "    <tr>\n",
       "      <th>1</th>\n",
       "      <td>NaN</td>\n",
       "      <td>Frankie</td>\n",
       "      <td>89</td>\n",
       "      <td>3.5</td>\n",
       "      <td>1.0</td>\n",
       "    </tr>\n",
       "    <tr>\n",
       "      <th>2</th>\n",
       "      <td>NaN</td>\n",
       "      <td>Fergie</td>\n",
       "      <td>25</td>\n",
       "      <td>0</td>\n",
       "      <td>0.0</td>\n",
       "    </tr>\n",
       "    <tr>\n",
       "      <th>3</th>\n",
       "      <td>NaN</td>\n",
       "      <td>Felicia</td>\n",
       "      <td>92</td>\n",
       "      <td>4</td>\n",
       "      <td>1.0</td>\n",
       "    </tr>\n",
       "    <tr>\n",
       "      <th>4</th>\n",
       "      <td>NaN</td>\n",
       "      <td>Felix</td>\n",
       "      <td>70</td>\n",
       "      <td>2</td>\n",
       "      <td>0.0</td>\n",
       "    </tr>\n",
       "    <tr>\n",
       "      <th>5</th>\n",
       "      <td>NaN</td>\n",
       "      <td>NaN</td>\n",
       "      <td>69</td>\n",
       "      <td>2.375</td>\n",
       "      <td>0.0</td>\n",
       "    </tr>\n",
       "  </tbody>\n",
       "</table>\n",
       "</div>"
      ],
      "text/plain": [
       "   Unnamed: 0  Bad Row  Unnamed: 2 Unnamed: 3  Unnamed: 4\n",
       "0  Bad Column    Names  Percentage      Grade         NaN\n",
       "1         NaN  Frankie          89        3.5         1.0\n",
       "2         NaN   Fergie          25          0         0.0\n",
       "3         NaN  Felicia          92          4         1.0\n",
       "4         NaN    Felix          70          2         0.0\n",
       "5         NaN      NaN          69      2.375         0.0"
      ]
     },
     "execution_count": 16,
     "metadata": {},
     "output_type": "execute_result"
    }
   ],
   "source": [
    "df3 = pd.read_excel(\"sheet3.xlsx\")\n",
    "df3"
   ]
  },
  {
   "cell_type": "markdown",
   "metadata": {},
   "source": [
    "That's pretty wrong I would say. Weird headers, lot of NaN, etc. But we can change what we read in with two other parameters of `read_excel`\n",
    "* `skiprows` takes an integer list of rows (starting with the first row as 0) to *exclude* from the data frame\n",
    "* `usecols` takes a bit of the opposited approach. It has a few more options, but one of them is a list of integers indicating the columns to *include* \n",
    "\n",
    "By using these two arguments we can get back to making a sane data frame."
   ]
  },
  {
   "cell_type": "code",
   "execution_count": 17,
   "metadata": {
    "scrolled": true
   },
   "outputs": [
    {
     "data": {
      "text/html": [
       "<div>\n",
       "<style scoped>\n",
       "    .dataframe tbody tr th:only-of-type {\n",
       "        vertical-align: middle;\n",
       "    }\n",
       "\n",
       "    .dataframe tbody tr th {\n",
       "        vertical-align: top;\n",
       "    }\n",
       "\n",
       "    .dataframe thead th {\n",
       "        text-align: right;\n",
       "    }\n",
       "</style>\n",
       "<table border=\"1\" class=\"dataframe\">\n",
       "  <thead>\n",
       "    <tr style=\"text-align: right;\">\n",
       "      <th></th>\n",
       "      <th>Names</th>\n",
       "      <th>Percentage</th>\n",
       "      <th>Grade</th>\n",
       "      <th>Unnamed: 4</th>\n",
       "    </tr>\n",
       "  </thead>\n",
       "  <tbody>\n",
       "    <tr>\n",
       "      <th>0</th>\n",
       "      <td>Frankie</td>\n",
       "      <td>89</td>\n",
       "      <td>3.500</td>\n",
       "      <td>1</td>\n",
       "    </tr>\n",
       "    <tr>\n",
       "      <th>1</th>\n",
       "      <td>Fergie</td>\n",
       "      <td>25</td>\n",
       "      <td>0.000</td>\n",
       "      <td>0</td>\n",
       "    </tr>\n",
       "    <tr>\n",
       "      <th>2</th>\n",
       "      <td>Felicia</td>\n",
       "      <td>92</td>\n",
       "      <td>4.000</td>\n",
       "      <td>1</td>\n",
       "    </tr>\n",
       "    <tr>\n",
       "      <th>3</th>\n",
       "      <td>Felix</td>\n",
       "      <td>70</td>\n",
       "      <td>2.000</td>\n",
       "      <td>0</td>\n",
       "    </tr>\n",
       "    <tr>\n",
       "      <th>4</th>\n",
       "      <td>NaN</td>\n",
       "      <td>69</td>\n",
       "      <td>2.375</td>\n",
       "      <td>0</td>\n",
       "    </tr>\n",
       "  </tbody>\n",
       "</table>\n",
       "</div>"
      ],
      "text/plain": [
       "     Names  Percentage  Grade  Unnamed: 4\n",
       "0  Frankie          89  3.500           1\n",
       "1   Fergie          25  0.000           0\n",
       "2  Felicia          92  4.000           1\n",
       "3    Felix          70  2.000           0\n",
       "4      NaN          69  2.375           0"
      ]
     },
     "execution_count": 17,
     "metadata": {},
     "output_type": "execute_result"
    }
   ],
   "source": [
    "df = pd.read_excel('sheet3.xlsx', skiprows=[0], usecols=[1,2,3,4])\n",
    "df"
   ]
  },
  {
   "cell_type": "markdown",
   "metadata": {},
   "source": [
    "We still have a bit of a problem. Because of our manipulation (or because someone just forgot) a label might be missing. Here, the label of the 4th column is missing so the system names it `Unnamed: 4`. Pandas will name anything it *thinks* should have a label in this way. You can rename anything you like, and that might things better for running the system. Note als0 that the last value in `Names` was missing and, since pandas assumes that should be a value, it sets it to `NaN`, meaning \"Not a Number\". Accurate but not particularly informative.\n",
    "\n",
    "You can rename a column with the `.rename` method. It takes a dictionary of `\"old_name\":\"new_name\"` pairs for the columns. The call looks like\n",
    "\n",
    "`df.rename(columns={\"old1\":\"new1\", \"old2\":\"new2\"}, inplace=True)` \n",
    "\n",
    "Works for as many columns as you wish to rename. Normally `.rename` returns a new data frame but `inplace=True` changes the called data frame. \n",
    "\n",
    "For a data frame with an index, you can also use `index` in place of `columns` above and change a value in the index list, as in\n",
    "\n",
    "`df.rename(index={\"old1\":\"new1\", \"old2\":\"new2\"}, inplace=True)`. \n",
    "\n",
    "If the value is listed as `NaN`, then that is actually `numpy.nan` as a value. "
   ]
  },
  {
   "cell_type": "markdown",
   "metadata": {},
   "source": [
    "<p style=\"text-align: left;\"> &#9989; To Do</p>\n",
    "\n",
    "Read in the same `sheet3.xlsx` using the `skiprows` and `usecols` as shown above and rename the last column to be \"Pass/NonPass\". Show the sheet."
   ]
  },
  {
   "cell_type": "code",
   "execution_count": 18,
   "metadata": {},
   "outputs": [
    {
     "name": "stdout",
     "output_type": "stream",
     "text": [
      "     Names  Percentage  Grade  Pass/NonPass\n",
      "0  Frankie          89  3.500             1\n",
      "1   Fergie          25  0.000             0\n",
      "2  Felicia          92  4.000             1\n",
      "3    Felix          70  2.000             0\n",
      "4      NaN          69  2.375             0\n"
     ]
    }
   ],
   "source": [
    "# your code here\n",
    "sheet3 = pd.read_excel(\"sheet3.xlsx\", usecols = [1,2,3,4], skiprows = [0])\n",
    "sheet3.rename(columns = {\"Unnamed: 4\" : \"Pass/NonPass\"}, inplace = True)\n",
    "print(sheet3)"
   ]
  },
  {
   "cell_type": "markdown",
   "metadata": {},
   "source": [
    "---\n",
    "### STOP\n",
    "Take a moment to save your notebook, commit the changes to your Git repository using the commit message \"Finished Part 3.3\", and push the changes to GitHub.\n",
    "\n",
    "---"
   ]
  },
  {
   "cell_type": "markdown",
   "metadata": {},
   "source": [
    "### 3.4 The real work (4 points)\n",
    "We are ready to read in our spread sheet. Here are some things to remind you how pandas works:\n",
    "* the `.set_index` method allows you to establish a particular column as an index for the sheet such that the row values can be used as indicies. That is very helpful.\n",
    "   * note that `.set_index` typically does not update the data frame itself but returns a new one. **However**, you can provide an argument called `inplace=True` which will in fact update the called frame. That is important to remember\n",
    "* for a particular cell, you can index a cell with the `.loc` method, using a list of two labels: `df.loc[\"row_label\",\"col_label\"]`. You can access or set a value for a cell this way. \n",
    "   * for this to work you have to have set the index for a particular set of row labels and pandas has to recognize there is a label for each column (you have to have set it up right)"
   ]
  },
  {
   "cell_type": "markdown",
   "metadata": {},
   "source": [
    "<p style=\"text-align: left;\"> &#9989; To Do</p>\n",
    "\n",
    "Write a function called `read_migrant_flow` that reads in the file `migrant_flow.xlsx` and returns a dictionary of sheets to data frames. In detail the function should:\n",
    "\n",
    "* Read in the spreadsheet `migrant_flow.xlsx`\n",
    "   * Read in all the sheets as a map called `sheet_map`\n",
    "   * As numbered in Excel for the spreadsheet (not necessarily how you number it in pandas), skip rows 1 and 3, skip columns A and C.\n",
    "   * for each sheet:\n",
    "        * rename the column `Unnamed: 1` to `Origin`\n",
    "        * set the index of the sheet to `Origin`\n",
    "        * rename the column `Unnamed: 199` to `Outof`\n",
    "        * rename the last cell of `Origin` (presently NaN) to `Into`"
   ]
  },
  {
   "cell_type": "code",
   "execution_count": 19,
   "metadata": {},
   "outputs": [],
   "source": [
    "# your code here\n",
    "def read_migrant_flow(file = \"migrant_flow.xlsx\"):\n",
    "    sheet_map = pd.read_excel(file, skiprows = [0, 2], usecols = [ i for i in range(200) if i != 0 and i != 2], sheet_name = None)\n",
    "    for i in sheet_map:\n",
    "        sheet_map[i].rename(columns = {\"Unnamed: 1\" : \"Origin\", \"Unnamed: 199\":\"Outof\"}, inplace = True)\n",
    "        sheet_map[i].set_index(\"Origin\", inplace = True)\n",
    "        sheet_map[i].rename(index = {np.nan : \"Into\"}, inplace = True)\n",
    "    return sheet_map"
   ]
  },
  {
   "cell_type": "code",
   "execution_count": 20,
   "metadata": {},
   "outputs": [
    {
     "name": "stdout",
     "output_type": "stream",
     "text": [
      "True\n"
     ]
    }
   ],
   "source": [
    "# test yourself, should come back all `True`\n",
    "sheet_map = read_migrant_flow()\n",
    "first_df = sheet_map[\"1990-95\"]\n",
    "print(first_df.loc[\"Greece\",\"France\"] == 166)"
   ]
  },
  {
   "cell_type": "markdown",
   "metadata": {},
   "source": [
    "---\n",
    "### STOP\n",
    "Take a moment to save your notebook, commit the changes to your Git repository using the commit message \"Finished Part 3.4\", and push the changes to GitHub.\n",
    "\n",
    "---"
   ]
  },
  {
   "cell_type": "markdown",
   "metadata": {},
   "source": [
    "## 4 Doing some work with the Migrant Flow Data (7 points)\n",
    "\n",
    "OK, we have the data, now let's do some work with what we have gathered. You have some experience with pandas but here are some things you might want to check out that might be of some help:\n",
    "\n",
    "* `.iterrows()` as a way to iterate through a row\n",
    "* `.max()` and `.idxmax()` (as well as the associated mins) to fine the largest value in a pandas Series (a row) and the id associated with that max\n",
    "* `.sort_values()` allows you to sort the elements of a Series\n",
    "* `.bar.plot()` for plotting a Series\n",
    "\n",
    "We'll add more as we think of them. "
   ]
  },
  {
   "cell_type": "markdown",
   "metadata": {},
   "source": [
    "<p style=\"text-align: left;\"> &#9989; To Do</p>\n",
    "\n",
    "### 4.1 Top destinations (2 points)\n",
    "Write a function called `top_dests` that takes a single argument, a data frame. It should plot as a bar chart the top 10 destination countries and the number of immigrants that came. "
   ]
  },
  {
   "cell_type": "code",
   "execution_count": 60,
   "metadata": {},
   "outputs": [],
   "source": [
    "# your answer here\n",
    "def top_dests (df):\n",
    "    intoSeries = df.loc[\"Into\", :]\n",
    "    intoSeries.sort_values(inplace = True)\n",
    "    topTenDest = intoSeries[-11:].drop(index = \"Outof\")\n",
    "    topTenDest.plot.bar()\n",
    "    plt.xlabel(\"Destination Country\")\n",
    "    plt.ylabel(\"Number of Individuals\")\n",
    "    plt.title(\"Top Ten Destination Countries\")\n",
    "    plt.show()"
   ]
  },
  {
   "cell_type": "code",
   "execution_count": 61,
   "metadata": {},
   "outputs": [
    {
     "data": {
      "image/png": "[encoded data removed]",
      "text/plain": [
       "<Figure size 432x288 with 1 Axes>"
      ]
     },
     "metadata": {
      "needs_background": "light"
     },
     "output_type": "display_data"
    }
   ],
   "source": [
    "# should show a nice bar chart\n",
    "sheet_map = read_migrant_flow()\n",
    "df = sheet_map[\"2000-05\"]\n",
    "top_dests(df)"
   ]
  },
  {
   "cell_type": "markdown",
   "metadata": {},
   "source": [
    "---\n",
    "### STOP\n",
    "Take a moment to save your notebook, commit the changes to your Git repository using the commit message \"Finished Part 4.1\", and push the changes to GitHub.\n",
    "\n",
    "---"
   ]
  },
  {
   "cell_type": "markdown",
   "metadata": {},
   "source": [
    "### 4.2 Top Source Countries (2 points)"
   ]
  },
  {
   "cell_type": "markdown",
   "metadata": {},
   "source": [
    "<p style=\"text-align: left;\"> &#9989; To Do</p>\n",
    "\n",
    "Write a function called `top_leaving` that takes a single argument, a data frame. It should plot as a bar chart the top 10 source countries (countries with the largest number of people leaving) and the immigrant count. "
   ]
  },
  {
   "cell_type": "code",
   "execution_count": 85,
   "metadata": {},
   "outputs": [],
   "source": [
    "# your answer here\n",
    "def top_leaving (df):\n",
    "    outOfSeries = df.loc[:, \"Outof\"]\n",
    "    outOfSeries = outOfSeries.sort_values()\n",
    "    topTenSource = outOfSeries[-11:].drop(index = \"Into\")\n",
    "    topTenSource.plot.bar()\n",
    "    plt.xlabel(\"Source Country\")\n",
    "    plt.ylabel(\"Number of Individuals\")\n",
    "    plt.title(\"Top Ten Source Countries\")\n",
    "    plt.show()"
   ]
  },
  {
   "cell_type": "code",
   "execution_count": 103,
   "metadata": {},
   "outputs": [
    {
     "data": {
      "image/png": "[encoded data removed]",
      "text/plain": [
       "<Figure size 432x288 with 1 Axes>"
      ]
     },
     "metadata": {
      "needs_background": "light"
     },
     "output_type": "display_data"
    }
   ],
   "source": [
    "# should show a nice bar chart\n",
    "sheet_map = read_migrant_flow()\n",
    "df = sheet_map[\"2000-05\"]\n",
    "top_leaving(df)"
   ]
  },
  {
   "cell_type": "markdown",
   "metadata": {},
   "source": [
    "---\n",
    "### STOP\n",
    "Take a moment to save your notebook, commit the changes to your Git repository using the commit message \"Finished Part 4.2\", and push the changes to GitHub.\n",
    "\n",
    "---"
   ]
  },
  {
   "cell_type": "markdown",
   "metadata": {},
   "source": [
    "### 4.3 Biggest Flow (3 points)"
   ]
  },
  {
   "cell_type": "markdown",
   "metadata": {},
   "source": [
    "<p style=\"text-align: left;\"> &#9989; To Do</p>\n",
    "\n",
    "Write a function called `biggest_flow` that takes a single argument, a data frame. It should return a string that indicates what the largest flow was between two countries. Include the source country, the destination country and the number of people. "
   ]
  },
  {
   "cell_type": "code",
   "execution_count": 120,
   "metadata": {},
   "outputs": [],
   "source": [
    "# your answer here\n",
    "def biggest_flow (df):\n",
    "    onlyCountryDF = df.drop(index = \"Into\", columns = \"Outof\")\n",
    "    dest = onlyCountryDF.max(axis = 0).idxmax()\n",
    "    origin = onlyCountryDF.max(axis = 1).idxmax()\n",
    "    num = onlyCountryDF.max().max()\n",
    "    return (\"Largest flow was from {} (Source) to {} (Destination) with a flow size of {} individuals.\".format(origin, dest, num))"
   ]
  },
  {
   "cell_type": "code",
   "execution_count": 121,
   "metadata": {},
   "outputs": [
    {
     "name": "stdout",
     "output_type": "stream",
     "text": [
      "Largest flow was from Pakistan (Source) to Afghanistan (Destination) with a flow size of 2462482 individuals.\n"
     ]
    }
   ],
   "source": [
    "df = sheet_map[\"1990-95\"]\n",
    "print(biggest_flow(df))"
   ]
  },
  {
   "cell_type": "markdown",
   "metadata": {},
   "source": [
    "---\n",
    "### STOP\n",
    "Take a moment to save your notebook, commit the changes to your Git repository using the commit message \"Finished Part 4.3\", and push the changes to GitHub.\n",
    "\n",
    "---"
   ]
  },
  {
   "cell_type": "markdown",
   "metadata": {},
   "source": [
    "---\n",
    "### Assignment wrap-up\n",
    "\n",
    "Please fill out the form that appears when you run the code below.  **You must completely fill this out in order to receive credit for the assignment!**"
   ]
  },
  {
   "cell_type": "code",
   "execution_count": 122,
   "metadata": {},
   "outputs": [
    {
     "data": {
      "text/html": [
       "\n",
       "<iframe \n",
       "\tsrc=\"https://docs.google.com/forms/d/e/1FAIpQLSed0pJixzf3-61_j0H4i-KHHYE6_WiSVsvxlAD0FarOC5L0OQ/viewform?usp=sf_link\" \n",
       "\twidth=\"800px\" \n",
       "\theight=\"600px\" \n",
       "\tframeborder=\"0\" \n",
       "\tmarginheight=\"0\" \n",
       "\tmarginwidth=\"0\">\n",
       "\tLoading...\n",
       "</iframe>\n"
      ],
      "text/plain": [
       "<IPython.core.display.HTML object>"
      ]
     },
     "execution_count": 122,
     "metadata": {},
     "output_type": "execute_result"
    }
   ],
   "source": [
    "from IPython.display import HTML\n",
    "HTML(\n",
    "\"\"\"\n",
    "<iframe \n",
    "\tsrc=\"https://docs.google.com/forms/d/e/1FAIpQLSed0pJixzf3-61_j0H4i-KHHYE6_WiSVsvxlAD0FarOC5L0OQ/viewform?usp=sf_link\" \n",
    "\twidth=\"800px\" \n",
    "\theight=\"600px\" \n",
    "\tframeborder=\"0\" \n",
    "\tmarginheight=\"0\" \n",
    "\tmarginwidth=\"0\">\n",
    "\tLoading...\n",
    "</iframe>\n",
    "\"\"\"\n",
    ")"
   ]
  },
  {
   "cell_type": "markdown",
   "metadata": {},
   "source": [
    "### Congratulations, you're done!\n",
    "\n",
    "Submit this assignment by uploading it to the course Desire2Learn web page.  Go to the \"Homework Assignments\" folder, find the dropbox link for Homework #1, and upload it there."
   ]
  },
  {
   "cell_type": "markdown",
   "metadata": {},
   "source": [
    "&#169; Copyright 2018,  Michigan State University Board of Trustees"
   ]
  }
 ],
 "metadata": {
  "anaconda-cloud": {},
  "kernelspec": {
   "display_name": "Python 3",
   "language": "python",
   "name": "python3"
  },
  "language_info": {
   "codemirror_mode": {
    "name": "ipython",
    "version": 3
   },
   "file_extension": ".py",
   "mimetype": "text/x-python",
   "name": "python",
   "nbconvert_exporter": "python",
   "pygments_lexer": "ipython3",
   "version": "3.7.3"
  }
 },
 "nbformat": 4,
 "nbformat_minor": 4
}
