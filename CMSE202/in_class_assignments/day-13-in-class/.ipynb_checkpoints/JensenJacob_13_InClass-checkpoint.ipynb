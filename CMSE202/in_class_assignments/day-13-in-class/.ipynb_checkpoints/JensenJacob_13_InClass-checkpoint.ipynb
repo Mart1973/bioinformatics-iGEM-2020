{
 "cells": [
  {
   "cell_type": "markdown",
   "metadata": {},
   "source": [
    "### <p style=\"text-align: right;\"> &#9989; Jacob Jensen\n",
    "#### <p style=\"text-align: right;\"> &#9989;"
   ]
  },
  {
   "cell_type": "markdown",
   "metadata": {},
   "source": [
    "# Day 13 In-Class Assignment: Agent Based Modeling of Superbugs (part 2)\n",
    "\n",
    "<img src=\"http://abstrusegoose.com/strips/you_down_wit_OPC-yeah_you_know_me.png\" width=600px>\n",
    "<p style=\"text-align: right;\">Amusing comic from: http://abstrusegoose.com/ </p>\n",
    "\n",
    "1. **Scientific motivation** \n",
    "    - Antibacterial Resistance\n",
    "    - Digital Evolution\n",
    "2. **Modeling tools** \n",
    "    - Agent Based Modeling\n",
    "    - Asking Scientific questions\n",
    "3. **Programming concepts** \n",
    "    - Exploration, Using other peoples code\n",
    "    - Inheritance and Object Oriented programming\n",
    "4. **Python Programming Concepts** \n",
    "    - Practice with Python Classes and Inheritance\n",
    " "
   ]
  },
  {
   "cell_type": "markdown",
   "metadata": {},
   "source": [
    "## Agenda for today's class\n",
    "\n",
    "1. Review pre-class assignment\n",
    "1. Revisit your assignment from last class\n",
    "1. Understanding other people's code\n",
    "1. Running the simulation\n",
    "1. Testing Scientific Questions"
   ]
  },
  {
   "cell_type": "markdown",
   "metadata": {},
   "source": [
    "---\n",
    "# 1. Review pre-class assignment\n",
    "\n",
    "Let's discuss any issues with or questions about the pre-class assignment."
   ]
  },
  {
   "cell_type": "markdown",
   "metadata": {},
   "source": [
    "---\n",
    "# 2. Revisit your assignment from the last class\n",
    "\n",
    "Take the beginning of class to review the progress you made last week on initializing your petri dish. If you didn't finish it, try to finish it. If you finished it, review your code and think about ways you might be able to make it better. Reviewing your own code will sometimes feel like looking at someone else's code. You might find that your \"present self\" isn't a huge fan of how your \"past self\" did things (especially if your past self didn't leave you any comments!)\n",
    "\n",
    "Copy your code into this notebook and try to get your petri dish code working or make improvements to a functioning version."
   ]
  },
  {
   "cell_type": "code",
   "execution_count": 43,
   "metadata": {},
   "outputs": [
    {
     "data": {
      "image/png": "[encoded data removed]",
      "text/plain": [
       "<Figure size 1080x720 with 1 Axes>"
      ]
     },
     "metadata": {
      "needs_background": "light"
     },
     "output_type": "display_data"
    }
   ],
   "source": [
    "# CODE GOES HERE!\n",
    "import numpy as np\n",
    "import matplotlib.pyplot as plt\n",
    "class bacteria():\n",
    "    def __init__(self):\n",
    "        self.x = 0\n",
    "        self.y = 0\n",
    "        self.resist1 = np.random.random()\n",
    "        self.resist2 = np.random.random()\n",
    "        self.resist3 = np.random.random()\n",
    "        pass\n",
    "    \n",
    "    def __repr__(self):\n",
    "        return \"Individual Bacteria\"\n",
    "    \n",
    "    def replicate(self, board):\n",
    "        \n",
    "        newBact = bacteria()\n",
    "        choice = np.choice(['u', 'd', 'l', 'r'])\n",
    "        \n",
    "        if choice == 'u' and self.checkViability == True:\n",
    "            newBact.x, newBact.y = [self.x, self.y + 1]\n",
    "            \n",
    "        pass\n",
    "    def checkViability(self, board):\n",
    "        \"\"\"\n",
    "        Check to see whether the replication will survive or not and if it is possible or not.\n",
    "        \"\"\"\n",
    "        pass\n",
    "    def mutateGene(self):\n",
    "        \"\"\"\n",
    "        Mutate genes in the bacteria by a certain amount.\n",
    "        \"\"\"\n",
    "        pass\n",
    "\n",
    "def initializeBoard(n = 45, m = 90, zones = 9):\n",
    "    \"\"\"\n",
    "    Initialize a board that is n by m where each cell in a given zone is given a specific antibiotic value,\n",
    "    \"\"\"\n",
    "    board = np.zeros((n, m, 3), dtype = \"float64\")\n",
    "    zoneSize = int(round(m/zones, 0))\n",
    "    antiVal = 0\n",
    "    zoneMin = 0\n",
    "    zoneMax = zoneSize\n",
    "    \n",
    "    for i in range(zones):\n",
    "        \n",
    "        board[:, zoneMin:zoneMax] = [antiVal, antiVal, antiVal]\n",
    "        \n",
    "        zoneMin += zoneSize\n",
    "        zoneMax += zoneSize\n",
    "        \n",
    "        if zoneMin < m/2:\n",
    "            antiVal += 0.9/round(zones/2, 0)\n",
    "        else:\n",
    "            antiVal -= 0.9/round(zones/2, 0)\n",
    "    \n",
    "    bactList = initializeBacteria(n, m)\n",
    "    \n",
    "    return board, bactList\n",
    "\n",
    "def initializeBacteria(n, m):\n",
    "    \n",
    "    bactLis = []\n",
    "    \n",
    "    for i in range(n * 2):\n",
    "        newBact = bacteria()\n",
    "        bactLis.append(newBact)\n",
    "    \n",
    "    xNow = 0\n",
    "    \n",
    "    for bac in bactLis:\n",
    "        if bactLis.index(bac) < (len(bactLis)/2):\n",
    "            bac.y = xNow\n",
    "            xNow += 1\n",
    "            bac.x = 0\n",
    "        else:\n",
    "            xNow -= 1\n",
    "            bac.x = m - 1\n",
    "            bac.y = xNow\n",
    "            \n",
    "    return bactLis\n",
    "def plotBoard(board, bacteria):\n",
    "    \n",
    "    plt.figure(figsize = (15,10))\n",
    "    \n",
    "    for bac in bacteria:\n",
    "        plt.scatter(bac.x, bac.y, color = [bac.resist1, bac.resist2, bac.resist3])\n",
    "    \n",
    "    plt.imshow(1 - startBoard) \n",
    "    \n",
    "    \n",
    "        \n",
    "startBoard, startBacteria = initializeBoard(45, 90, 9)\n",
    "plotBoard(startBoard, startBacteria)\n",
    "\n",
    "plt.show()\n"
   ]
  },
  {
   "cell_type": "markdown",
   "metadata": {},
   "source": [
    "----\n",
    "# 3. Understanding other people's code\n",
    "\n",
    "In the last class we spent a lot of time working toward building a simulation of the Harvard antibacterial resistance experiment. To start lets import one possible solution to this simulation:"
   ]
  },
  {
   "cell_type": "code",
   "execution_count": 50,
   "metadata": {},
   "outputs": [],
   "source": [
    "import superbugs as sb"
   ]
  },
  {
   "cell_type": "markdown",
   "metadata": {},
   "source": [
    "&#9989; **Do This:** Explore the above software, but **don't just look at the code right now**. Use standard exploration commands (e.g. use help, dir, type, or ? in your notebook) to see if you can figure out what the code does. "
   ]
  },
  {
   "cell_type": "code",
   "execution_count": 51,
   "metadata": {},
   "outputs": [
    {
     "name": "stdout",
     "output_type": "stream",
     "text": [
      "Help on module superbugs:\n",
      "\n",
      "NAME\n",
      "    superbugs - superbugs.py\n",
      "\n",
      "DESCRIPTION\n",
      "    Contains class definitions for modeling the evolution of bacteria in the\n",
      "    presence of antibiotics.\n",
      "\n",
      "CLASSES\n",
      "    builtins.object\n",
      "        bug\n",
      "        petri_dish\n",
      "    \n",
      "    class bug(builtins.object)\n",
      "     |  bug(c=0, r=0)\n",
      "     |  \n",
      "     |  Bug class. \n",
      "     |  \n",
      "     |  Each bug has 3 genes in the range [0, 1) and a location (c, r) in\n",
      "     |  a two dimensional grid.\n",
      "     |  \n",
      "     |  Attributes:\n",
      "     |      genes [type: numpy array]\n",
      "     |          List of three numbers in the range [0, 1) generated uniformly\n",
      "     |          at random.\n",
      "     |      \n",
      "     |      loc [type: tuple]\n",
      "     |          Ordered pair of coordinates specifying the bug's location.\n",
      "     |      \n",
      "     |  Methods:\n",
      "     |      __init__(c=0, r=0)\n",
      "     |          Initialize a bug with random genes at the location (c, r).\n",
      "     |      \n",
      "     |      mitosis()\n",
      "     |          Returns a new bug.\n",
      "     |      \n",
      "     |          Copies genes from the current bug to the new bug with probability\n",
      "     |          equal to 1 - mutation_rate. Else, assigns new genes at random.\n",
      "     |          \n",
      "     |      draw()\n",
      "     |          Draws the bug with rgb color corresponding to it's genes.\n",
      "     |  \n",
      "     |  Methods defined here:\n",
      "     |  \n",
      "     |  __init__(self, c=0, r=0)\n",
      "     |      Initializes a bug with random genes. Default location is (0, 0).\n",
      "     |      \n",
      "     |      Args:\n",
      "     |          c [type: int]\n",
      "     |              Specifies the column of the bug in a 2d grid.\n",
      "     |          \n",
      "     |          r [type: int]\n",
      "     |              Specifies the row of the bug in a 2d grid.\n",
      "     |  \n",
      "     |  draw(self)\n",
      "     |      Draws the bug with rgb color corresponding to it's genes.\n",
      "     |  \n",
      "     |  mitosis(self)\n",
      "     |      Returns a new bug.\n",
      "     |      \n",
      "     |      Copies genes from the current bug to the new bug with probability\n",
      "     |      equal to 1 - mutation_rate. Else, assigns new genes at random.\n",
      "     |  \n",
      "     |  ----------------------------------------------------------------------\n",
      "     |  Data descriptors defined here:\n",
      "     |  \n",
      "     |  __dict__\n",
      "     |      dictionary for instance variables (if defined)\n",
      "     |  \n",
      "     |  __weakref__\n",
      "     |      list of weak references to the object (if defined)\n",
      "    \n",
      "    class petri_dish(builtins.object)\n",
      "     |  petri_dish(n_rows=45, n_cols=90, antibods=[0, 0.5, 0.75, 0.8, 0.95, 0.8, 0.75, 0.5, 0], init_cols=[0, 89])\n",
      "     |  \n",
      "     |  petri_dish class.\n",
      "     |  \n",
      "     |  Generates a petridish representing the world where the bugs live. \n",
      "     |  Each dish has antibiotics and a list of bugs.\n",
      "     |  \n",
      "     |  Attributes:\n",
      "     |      buglist [type: dict]\n",
      "     |          dictionary of all bugs in simulation\n",
      "     |      \n",
      "     |      active [type: set]\n",
      "     |          set of active (i.e., not dead) bugs\n",
      "     |          \n",
      "     |      antibodies [type: numpy array]\n",
      "     |          2d grid storing the values of the antibiotics at each point\n",
      "     |      \n",
      "     |  Methods:\n",
      "     |      __init__()\n",
      "     |          Initializes the world.\n",
      "     |      \n",
      "     |      timestep()\n",
      "     |          Performs one timestep of the simulation.\n",
      "     |      \n",
      "     |      draw()\n",
      "     |          Draws the world as an image and plots each bug.\n",
      "     |  \n",
      "     |  Methods defined here:\n",
      "     |  \n",
      "     |  __init__(self, n_rows=45, n_cols=90, antibods=[0, 0.5, 0.75, 0.8, 0.95, 0.8, 0.75, 0.5, 0], init_cols=[0, 89])\n",
      "     |      Initializes the world.\n",
      "     |      \n",
      "     |      Args:\n",
      "     |          n_rows [type: int]\n",
      "     |              number of rows in world\n",
      "     |          \n",
      "     |          n_cols [type: int]\n",
      "     |              number of columns in world\n",
      "     |          \n",
      "     |          antibods [type: list<float>]\n",
      "     |              antibiotic values in each region of the world\n",
      "     |              length of antibods must evenly divide n_cols\n",
      "     |          \n",
      "     |          init_cols [type: list<int>]\n",
      "     |              starting columns for the antibiotics\n",
      "     |  \n",
      "     |  draw(self, background=None)\n",
      "     |      Draws the world as an image and plots each bug.\n",
      "     |  \n",
      "     |  timestep(self)\n",
      "     |      Performs one time step of the simulation.\n",
      "     |      \n",
      "     |      Loops through the bugs, finds their neighbors and initiates mitosis.\n",
      "     |      New bugs will die if their gene values are less than the corresponding\n",
      "     |      antibiotic values.\n",
      "     |  \n",
      "     |  ----------------------------------------------------------------------\n",
      "     |  Data descriptors defined here:\n",
      "     |  \n",
      "     |  __dict__\n",
      "     |      dictionary for instance variables (if defined)\n",
      "     |  \n",
      "     |  __weakref__\n",
      "     |      list of weak references to the object (if defined)\n",
      "\n",
      "DATA\n",
      "    mutation_rate = 0.2\n",
      "\n",
      "FILE\n",
      "    c:\\users\\jacob jensen\\documents\\msu\\classes\\cmse 202\\repositories\\cmse202-s20-turnin\\in_class_assignments\\day-13-in-class\\superbugs.py\n",
      "\n",
      "\n"
     ]
    }
   ],
   "source": [
    "# put your exploration code here.\n",
    "\n",
    "help(superbugs)"
   ]
  },
  {
   "cell_type": "markdown",
   "metadata": {},
   "source": [
    "&#9989; **Do This:** Using the superbugs code, initialize the experiment and display the first time step of the board."
   ]
  },
  {
   "cell_type": "code",
   "execution_count": 75,
   "metadata": {},
   "outputs": [
    {
     "data": {
      "image/png": "[encoded data removed]",
      "text/plain": [
       "<Figure size 432x288 with 1 Axes>"
      ]
     },
     "metadata": {
      "needs_background": "light"
     },
     "output_type": "display_data"
    }
   ],
   "source": [
    "# put your initialization code here\n",
    "board = sb.petri_dish()\n",
    "board.timestep()\n",
    "board.draw()\n"
   ]
  },
  {
   "cell_type": "markdown",
   "metadata": {},
   "source": [
    "----\n",
    "# 4. Running the Simulation\n",
    "\n",
    "&#9989; **Do This:** Using the petri_dish variable initialized above, write an loop that runs the ```timestep``` function followed by the ```draw``` function 10 times.  Make sure to animate the figure."
   ]
  },
  {
   "cell_type": "code",
   "execution_count": 79,
   "metadata": {},
   "outputs": [
    {
     "name": "stdout",
     "output_type": "stream",
     "text": [
      "Runtime: 0.166\n"
     ]
    },
    {
     "data": {
      "text/plain": [
       "<Figure size 1080x720 with 0 Axes>"
      ]
     },
     "metadata": {},
     "output_type": "display_data"
    }
   ],
   "source": [
    "# Put your code here\n",
    "import time\n",
    "from IPython.display import display, clear_output\n",
    "\n",
    "board = sb.petri_dish()\n",
    "fig = plt.figure(figsize = (15, 10))\n",
    "start = time.time()\n",
    "for i in range(100):\n",
    "    board.timestep()\n",
    "    \"\"\"board.draw()\n",
    "    clear_output(wait=True) # Clear output for dynamic display\n",
    "    display(fig)            # Reset display\n",
    "    fig.clear()  \"\"\"           # Prevent overlapping and layered plots \n",
    "    \n",
    "end = time.time()\n",
    "print(\"Runtime: {:.3f}\".format(end-start))"
   ]
  },
  {
   "cell_type": "markdown",
   "metadata": {},
   "source": [
    "&#9989; **Do This:** This simulation gets slower as it runs.  **Comment out the plotting and animation code and rerun the simulation with 100 iterations.**"
   ]
  },
  {
   "cell_type": "markdown",
   "metadata": {},
   "source": [
    "**Question**: Do you notice a change in the simulation run time?"
   ]
  },
  {
   "cell_type": "markdown",
   "metadata": {},
   "source": [
    "<font size=8 color=\"#009600\">&#9998;</font> It was a bit longer"
   ]
  },
  {
   "cell_type": "markdown",
   "metadata": {},
   "source": [
    "**Question**: What if you wanted to know exactly how long it took to run the simulation? We've used the `time` module before in our animation code, but we can also use it to time how long certain pieces of code take to run. We can record an initial time with something like:\n",
    "\n",
    "`start = time.time()`\n",
    "\n",
    "And then record the time the code finishes with:\n",
    "\n",
    "`end = time.time()`\n",
    "\n",
    "Try adding this to your code above to time exactly how long the simulation took. Add a line to **print the total run time at the end**. Try comparing the total run time to the simulation that includes the plotting and animation components.\n",
    "\n",
    "What is the difference in the timing between the versions with and without the plotting?"
   ]
  },
  {
   "cell_type": "markdown",
   "metadata": {},
   "source": [
    "<font size=8 color=\"#009600\">&#9998;</font> Its almost a hundred fold shorter without plotting"
   ]
  },
  {
   "cell_type": "markdown",
   "metadata": {},
   "source": [
    "**Question**: What if you wanted to know how long each step of the simulation took (i.e. each iteration of the loop)? How would you track this information in your code? **If you have time, try implementing some code that tracks the time that each step took and prints the end results.**"
   ]
  },
  {
   "cell_type": "markdown",
   "metadata": {},
   "source": [
    "# 5. Testing Scientific Questions\n",
    "\n",
    "For the remainder of the class, we are going to use this code to ask some scientific questions."
   ]
  },
  {
   "cell_type": "markdown",
   "metadata": {},
   "source": [
    "&#9989; **Do This:** Discuss as a group/class the types of scientific question can you ask of this type of simulation.  "
   ]
  },
  {
   "cell_type": "markdown",
   "metadata": {},
   "source": [
    "<font size=8 color=\"#009600\">&#9998;</font> How long does it take to get a superbug? Is there a path pattern with superbug resistance? Does the initial bacteria impact if that bug will be a superbug or not?"
   ]
  },
  {
   "cell_type": "markdown",
   "metadata": {},
   "source": [
    "**Question:** Given the above questions, what types of measurements or modifications might we need to add to the superbug code? "
   ]
  },
  {
   "cell_type": "markdown",
   "metadata": {},
   "source": [
    "<font size=8 color=\"#009600\">&#9998;</font> Keep track of parental bacteria, keep track of time, keep track of the path of the superbug. "
   ]
  },
  {
   "cell_type": "markdown",
   "metadata": {},
   "source": [
    "&#9989; **Do This:** Write some code to show, in one graph, the progress of the simulation.  For example, plot the number of iterations on the x axis and the progress the bugs have made toward the center of the simulation on the y axis.  "
   ]
  },
  {
   "cell_type": "code",
   "execution_count": 94,
   "metadata": {},
   "outputs": [
    {
     "name": "stdout",
     "output_type": "stream",
     "text": [
      "Runtime: 0.166\n"
     ]
    },
    {
     "data": {
      "text/plain": [
       "{(39, 20),\n",
       " (39, 21),\n",
       " (39, 22),\n",
       " (39, 23),\n",
       " (39, 24),\n",
       " (39, 25),\n",
       " (39, 26),\n",
       " (39, 27),\n",
       " (39, 28),\n",
       " (39, 29),\n",
       " (39, 30),\n",
       " (39, 31),\n",
       " (39, 32),\n",
       " (39, 33),\n",
       " (39, 34),\n",
       " (39, 35),\n",
       " (39, 36),\n",
       " (39, 37),\n",
       " (39, 38),\n",
       " (39, 39),\n",
       " (39, 40),\n",
       " (39, 41),\n",
       " (39, 42),\n",
       " (39, 43),\n",
       " (39, 44),\n",
       " (40, 19),\n",
       " (40, 20),\n",
       " (41, 19),\n",
       " (42, 19),\n",
       " (43, 18),\n",
       " (43, 19),\n",
       " (43, 20),\n",
       " (44, 18),\n",
       " (45, 18),\n",
       " (45, 19),\n",
       " (46, 18),\n",
       " (46, 19),\n",
       " (47, 18),\n",
       " (47, 19),\n",
       " (48, 18),\n",
       " (48, 19),\n",
       " (49, 19),\n",
       " (50, 19),\n",
       " (50, 20),\n",
       " (50, 21),\n",
       " (50, 22),\n",
       " (50, 23),\n",
       " (50, 24),\n",
       " (50, 25),\n",
       " (50, 26),\n",
       " (50, 27),\n",
       " (50, 28),\n",
       " (50, 29),\n",
       " (50, 30),\n",
       " (50, 31),\n",
       " (50, 32),\n",
       " (50, 33),\n",
       " (50, 34),\n",
       " (50, 35),\n",
       " (50, 36),\n",
       " (50, 37),\n",
       " (50, 38),\n",
       " (50, 39),\n",
       " (50, 40),\n",
       " (50, 41),\n",
       " (50, 42),\n",
       " (50, 43),\n",
       " (50, 44)}"
      ]
     },
     "execution_count": 94,
     "metadata": {},
     "output_type": "execute_result"
    },
    {
     "data": {
      "text/plain": [
       "<Figure size 1080x720 with 0 Axes>"
      ]
     },
     "metadata": {},
     "output_type": "display_data"
    }
   ],
   "source": [
    "#Put your code here.\n",
    "# Put your code here\n",
    "import time\n",
    "from IPython.display import display, clear_output\n",
    "\n",
    "board = sb.petri_dish()\n",
    "fig = plt.figure(figsize = (15, 10))\n",
    "start = time.time()\n",
    "for i in range(100):\n",
    "    board.timestep()\n",
    "    \"\"\"board.draw()\n",
    "    clear_output(wait=True) # Clear output for dynamic display\n",
    "    display(fig)            # Reset display\n",
    "    fig.clear()  \"\"\"           # Prevent overlapping and layered plots \n",
    "    \n",
    "end = time.time()\n",
    "print(\"Runtime: {:.3f}\".format(end-start))\n",
    "board.active"
   ]
  },
  {
   "cell_type": "markdown",
   "metadata": {},
   "source": [
    "&#9989; **Do This:** Do this, modify or use the simulation in some way that allows you to test a scientific question of the simulation.  "
   ]
  },
  {
   "cell_type": "code",
   "execution_count": 95,
   "metadata": {},
   "outputs": [
    {
     "ename": "TypeError",
     "evalue": "__init__() got an unexpected keyword argument 'mutation_rate'",
     "output_type": "error",
     "traceback": [
      "\u001b[1;31m---------------------------------------------------------------------------\u001b[0m",
      "\u001b[1;31mTypeError\u001b[0m                                 Traceback (most recent call last)",
      "\u001b[1;32m<ipython-input-95-4788f25a0e26>\u001b[0m in \u001b[0;36m<module>\u001b[1;34m\u001b[0m\n\u001b[0;32m      4\u001b[0m \u001b[1;33m\u001b[0m\u001b[0m\n\u001b[0;32m      5\u001b[0m \u001b[1;32mfor\u001b[0m \u001b[0mk\u001b[0m \u001b[1;32min\u001b[0m \u001b[0mkLis\u001b[0m\u001b[1;33m:\u001b[0m\u001b[1;33m\u001b[0m\u001b[1;33m\u001b[0m\u001b[0m\n\u001b[1;32m----> 6\u001b[1;33m     \u001b[0mboard\u001b[0m \u001b[1;33m=\u001b[0m \u001b[0msb\u001b[0m\u001b[1;33m.\u001b[0m\u001b[0mpetri_dish\u001b[0m\u001b[1;33m(\u001b[0m\u001b[0mmutation_rate\u001b[0m \u001b[1;33m=\u001b[0m \u001b[0mk\u001b[0m\u001b[1;33m)\u001b[0m\u001b[1;33m\u001b[0m\u001b[1;33m\u001b[0m\u001b[0m\n\u001b[0m\u001b[0;32m      7\u001b[0m     \u001b[0mfig\u001b[0m \u001b[1;33m=\u001b[0m \u001b[0mplt\u001b[0m\u001b[1;33m.\u001b[0m\u001b[0mfigure\u001b[0m\u001b[1;33m(\u001b[0m\u001b[0mfigsize\u001b[0m \u001b[1;33m=\u001b[0m \u001b[1;33m(\u001b[0m\u001b[1;36m15\u001b[0m\u001b[1;33m,\u001b[0m \u001b[1;36m10\u001b[0m\u001b[1;33m)\u001b[0m\u001b[1;33m)\u001b[0m\u001b[1;33m\u001b[0m\u001b[1;33m\u001b[0m\u001b[0m\n\u001b[0;32m      8\u001b[0m     \u001b[0mstart\u001b[0m \u001b[1;33m=\u001b[0m \u001b[0mtime\u001b[0m\u001b[1;33m.\u001b[0m\u001b[0mtime\u001b[0m\u001b[1;33m(\u001b[0m\u001b[1;33m)\u001b[0m\u001b[1;33m\u001b[0m\u001b[1;33m\u001b[0m\u001b[0m\n",
      "\u001b[1;31mTypeError\u001b[0m: __init__() got an unexpected keyword argument 'mutation_rate'"
     ]
    }
   ],
   "source": [
    "# put your scientific experiment code here.\n",
    "\n",
    "kLis = np.arange(0.1, 0.9)\n",
    "\n",
    "for k in kLis:\n",
    "    board = sb.petri_dish()\n",
    "    fig = plt.figure(figsize = (15, 10))\n",
    "    start = time.time()\n",
    "    for i in range(100):\n",
    "        board.timestep()\n",
    "        \"\"\"board.draw()\n",
    "        clear_output(wait=True) # Clear output for dynamic display\n",
    "        display(fig)            # Reset display\n",
    "        fig.clear()  \"\"\"           # Prevent overlapping and layered plots \n",
    "    \n"
   ]
  },
  {
   "cell_type": "markdown",
   "metadata": {},
   "source": [
    "**Question** What scientific question does your new usage or modification demonstrate and what can you conclude from the simulation?"
   ]
  },
  {
   "cell_type": "markdown",
   "metadata": {},
   "source": [
    "<font size=8 color=\"#009600\">&#9998;</font> Do This - Erase the contents of this cell and replace it with your answer to the above question!  (double-click on this text to edit this cell, and hit shift+enter to save the text)"
   ]
  },
  {
   "cell_type": "markdown",
   "metadata": {},
   "source": [
    "----"
   ]
  },
  {
   "cell_type": "markdown",
   "metadata": {},
   "source": [
    "-----\n",
    "### Congratulations, we're done!\n",
    "\n",
    "Now, you just need to submit this assignment by uploading it to the course <a href=\"https://d2l.msu.edu/\">Desire2Learn</a> web page for today's submission folder (Don't forget to add your names in the first cell).\n"
   ]
  },
  {
   "cell_type": "markdown",
   "metadata": {},
   "source": [
    "&#169; Copyright 2018,  Michigan State University Board of Trustees"
   ]
  }
 ],
 "metadata": {
  "kernelspec": {
   "display_name": "Python 3",
   "language": "python",
   "name": "python3"
  },
  "language_info": {
   "codemirror_mode": {
    "name": "ipython",
    "version": 3
   },
   "file_extension": ".py",
   "mimetype": "text/x-python",
   "name": "python",
   "nbconvert_exporter": "python",
   "pygments_lexer": "ipython3",
   "version": "3.7.3"
  }
 },
 "nbformat": 4,
 "nbformat_minor": 4
}
