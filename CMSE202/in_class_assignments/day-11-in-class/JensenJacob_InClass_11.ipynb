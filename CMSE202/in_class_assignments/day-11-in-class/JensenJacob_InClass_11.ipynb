{
 "cells": [
  {
   "cell_type": "markdown",
   "metadata": {},
   "source": [
    "### <p style=\"text-align: right;\"> &#9989; Jacob Jensen\n",
    "#### <p style=\"text-align: right;\"> &#9989; Kayla, Mitchell"
   ]
  },
  {
   "cell_type": "markdown",
   "metadata": {},
   "source": [
    "# Day 11 In-Class Assignment: Object Oriented Programming (OOP)\n",
    "\n",
    "<img src=\"https://upload.wikimedia.org/wikipedia/commons/thumb/3/34/Safari_ants.jpg/440px-Safari_ants.jpg\" width=500> <p style=\"text-align: right;\">\n",
    "Image from https://en.wikipedia.org/wiki/Ant_colony_optimization_algorithms\n",
    "</p>\n",
    "\n",
    "1. **Scientific motivation** \n",
    "    - Animal behavior, Emergent behavior\n",
    "2. **Modeling tools** \n",
    "    - Preview of Agent Based Modeling\n",
    "3. **Programming concepts** \n",
    "    - Object Oriented programming\n",
    "    - Code Review\n",
    "4. **Python Programming Concepts** \n",
    "    - Loading external python files using import."
   ]
  },
  {
   "cell_type": "markdown",
   "metadata": {},
   "source": [
    "### Agenda for today's class\n",
    "\n",
    "</p>\n",
    "\n",
    "1. Review of Pre-class Assignment\n",
    "1. Problem Description\n",
    "1. Linear Programming\n",
    "1. Functional Programming\n",
    "1. Object Oriented Programming\n"
   ]
  },
  {
   "cell_type": "markdown",
   "metadata": {},
   "source": [
    "----\n",
    "# 1. Review of pre-class assignment\n",
    "\n",
    "Any questions about the pre-class assignment?\n",
    "\n",
    "* Object oriented programming: With your table, discuss what we mean by \"object\" and how this might be useful as a programming tool.\n",
    "\n",
    "&#9989; An object is the instance of a class. It keeps functions that pertain to that object grouped and organized\n",
    "\n",
    "* What is a \"class attribute\"?\n",
    "\n",
    "&#9989; It is a variable within the class, it is a detail about the class\n",
    "\n",
    "* What is a \"class method\"? \n",
    "\n",
    "&#9989; It is a manipulation of the class, it is a function of the class\n",
    "\n",
    "* With your table, discuss the difference between a class and an \"instance\" of that same class. \n",
    "\n",
    "&#9989; Class is the standard overall pattern, an object/instance of that class is a unique version of that class that can change over time to be different than the original class motif\n",
    "\n",
    "\n"
   ]
  },
  {
   "cell_type": "markdown",
   "metadata": {},
   "source": [
    "----\n",
    "# 2. Problem Description: Ant foraging\n",
    "\n",
    "Fairly complex behaviors can be simulated using simple rules.  This is sometimes called, emergent behavior.  We are going to look into ways of simulating ant forging behaviors using a set of the following simple rules.  The rules are evaluated in order and only one rule can be completed per iteration.\n",
    "\n",
    "1. If ant has food and is home, consume food.\n",
    "2. If ant has food, drop some pheromones and head home.\n",
    "3. If ant is at food, pick it up.\n",
    "3. If ant doesn't have food and smells pheromones, head in the smelliest direction.\n",
    "4. Move randomly.\n",
    "\n",
    "Ants then live in an environment with three properties; direction to home, smell (pheromones) and food.  The Pheromones \"dissolve\" as time goes by and the food goes away as ants pick it up. \n",
    "\n",
    "**&#9989;  Do This:** watch the following simulation of ants forging using this behavior.  \n",
    "\n",
    "**Note:** We are importing an external python script to run this simulation. To restart the simulation you will need to restart the jupyter kernel in the Kernel menu above."
   ]
  },
  {
   "cell_type": "code",
   "execution_count": 1,
   "metadata": {
    "scrolled": true
   },
   "outputs": [
    {
     "data": {
      "image/png": "[encoded data removed]",
      "text/plain": [
       "<Figure size 720x360 with 1 Axes>"
      ]
     },
     "metadata": {},
     "output_type": "display_data"
    },
    {
     "data": {
      "text/plain": [
       "<Figure size 720x360 with 0 Axes>"
      ]
     },
     "metadata": {},
     "output_type": "display_data"
    }
   ],
   "source": [
    "%matplotlib inline\n",
    "import ant_script"
   ]
  },
  {
   "cell_type": "markdown",
   "metadata": {},
   "source": [
    "In the above, the color of the background signifies the amount of food. Light yellow indicates lots of food and dark purple indicates a little. Black represents no food.   \n",
    "\n",
    "**&#9989;  Do This:** As a group, discuss how you would write your own simulation for this problem.  (**no peeking at the code!**)"
   ]
  },
  {
   "cell_type": "markdown",
   "metadata": {},
   "source": [
    "**Question:** What data would you need to keep track of the environment in this simulation?"
   ]
  },
  {
   "cell_type": "markdown",
   "metadata": {},
   "source": [
    "<font size=8 color=\"#009600\">&#9998;</font> You would need each ants hunger level, their food state, their locations, their next direction, the environmental food state, where the pheromones are, and where the home location of each ant is."
   ]
  },
  {
   "cell_type": "markdown",
   "metadata": {},
   "source": [
    "**Question:** How would you structure your program to solve this problem?"
   ]
  },
  {
   "cell_type": "markdown",
   "metadata": {},
   "source": [
    "<font size=8 color=\"#009600\">&#9998;</font> Each ant is an object of the class ant, where the ant class has all attributes needed per ant. Also have an environmental cell class where each cell has attributes about their food state and their pheromone state."
   ]
  },
  {
   "cell_type": "markdown",
   "metadata": {},
   "source": [
    "**Question:** What would some stub code or pseudocode look like for this program? **Make use of the whiteboards to write out pseudocode as appropriate**"
   ]
  },
  {
   "cell_type": "markdown",
   "metadata": {},
   "source": [
    "<font size=8 color=\"#009600\">&#9998;</font> Make a list of all the ants on the board. Make a list of all the environmental cells that will make up a board. Have all the ants choose their next direction based on the pheromone scent of the environmental cell of the surrounding environmental cells. Move the ant accordingly and update any values needed such as location of the ant and whether or not it has food, is eating food, and so on. Do this for all the ants, plot it, then repeat."
   ]
  },
  {
   "cell_type": "markdown",
   "metadata": {},
   "source": [
    "----\n",
    "# 3. Linear Programming\n",
    "\n",
    "Now lets do a \"code review\" of an implementation of this simulation using linear programming.  A \"code review\" is a common concept in programming where you analyze someone else's code to figure out what it is doing, identify problems and make improvements.  For now, lets just see what it is doing. "
   ]
  },
  {
   "cell_type": "markdown",
   "metadata": {},
   "source": [
    "**&#9989;  Do This:** Analyze the [ant_script.py](ant_script.py) file and answer the following questions:"
   ]
  },
  {
   "cell_type": "markdown",
   "metadata": {},
   "source": [
    "**Question:** How does this design compare with your design? What did you like?  What did you dislike?"
   ]
  },
  {
   "cell_type": "markdown",
   "metadata": {},
   "source": [
    "<font size=8 color=\"#009600\">&#9998;</font>  I enjoy that it is shorter but it is more challenging to dissect. In addition, it is hard to use independent bits of code from the simulation without using the whole thing."
   ]
  },
  {
   "cell_type": "markdown",
   "metadata": {},
   "source": [
    "**Question:** Was there anything in the design that was a surprise?"
   ]
  },
  {
   "cell_type": "markdown",
   "metadata": {},
   "source": [
    "<font size=8 color=\"#009600\">&#9998;</font> I was surprised at the short length of the code."
   ]
  },
  {
   "cell_type": "markdown",
   "metadata": {},
   "source": [
    "----\n",
    "# 4. Functional Programming\n",
    "\n",
    "Now consider the same basic simulation written as functions.  "
   ]
  },
  {
   "cell_type": "code",
   "execution_count": 4,
   "metadata": {
    "scrolled": true
   },
   "outputs": [
    {
     "data": {
      "image/png": "[encoded data removed]",
      "text/plain": [
       "<Figure size 720x360 with 1 Axes>"
      ]
     },
     "metadata": {},
     "output_type": "display_data"
    },
    {
     "data": {
      "text/plain": [
       "<Figure size 720x360 with 0 Axes>"
      ]
     },
     "metadata": {},
     "output_type": "display_data"
    }
   ],
   "source": [
    "%matplotlib inline\n",
    "import ant_function\n",
    "ant_function.run()"
   ]
  },
  {
   "cell_type": "markdown",
   "metadata": {},
   "source": [
    "**&#9989;  Do This:** Individually analyze the [ant_function.py](ant_function.py) file and answer the following questions:"
   ]
  },
  {
   "cell_type": "markdown",
   "metadata": {},
   "source": [
    "**Question:** How is the ```ant_function.py``` file different from the ```ant_script.py``` version?"
   ]
  },
  {
   "cell_type": "markdown",
   "metadata": {},
   "source": [
    "<font size=8 color=\"#009600\">&#9998;</font> It incorporates functions, allowing for more independent usage of the functions outside the simulation. It also has the ability of being run multiple times."
   ]
  },
  {
   "cell_type": "markdown",
   "metadata": {},
   "source": [
    "**Question:** What do you find to be better about the ```ant_script.py``` implementation of the simulation?"
   ]
  },
  {
   "cell_type": "markdown",
   "metadata": {},
   "source": [
    "<font size=8 color=\"#009600\">&#9998;</font> There wasn't as much jumping around with code to understand it. It could be read more like a page rather than a non-linear scavenger hunt."
   ]
  },
  {
   "cell_type": "markdown",
   "metadata": {},
   "source": [
    "**Question:** What do you find to be better about the ```ant_function.py``` implementation of the simulation?"
   ]
  },
  {
   "cell_type": "markdown",
   "metadata": {},
   "source": [
    "<font size=8 color=\"#009600\">&#9998;</font> It modularizes items and allows for better understanding of what is going on."
   ]
  },
  {
   "cell_type": "markdown",
   "metadata": {},
   "source": [
    "----\n",
    "# 5. Object oriented programming\n",
    "\n",
    "Now lets think about how we could implement the ant forging simulation as a object oriented program.  "
   ]
  },
  {
   "cell_type": "markdown",
   "metadata": {},
   "source": [
    "**&#9989;  Do This:** As a group/class discuss how you would break down this simulation into logical objects (Object oriented programming)."
   ]
  },
  {
   "cell_type": "markdown",
   "metadata": {},
   "source": [
    "**Question:** What objects could you implement?"
   ]
  },
  {
   "cell_type": "markdown",
   "metadata": {},
   "source": [
    "<font size=8 color=\"#009600\">&#9998;</font> Ants are an object, each environmental cell is an object, "
   ]
  },
  {
   "cell_type": "markdown",
   "metadata": {},
   "source": [
    "**&#9989;  Do This:** Individually run and analyze the [ant_class.py](ant_class.py) file and answer the following questions:"
   ]
  },
  {
   "cell_type": "code",
   "execution_count": 6,
   "metadata": {
    "scrolled": true
   },
   "outputs": [
    {
     "data": {
      "image/png": "[encoded data removed]",
      "text/plain": [
       "<Figure size 720x360 with 1 Axes>"
      ]
     },
     "metadata": {},
     "output_type": "display_data"
    },
    {
     "data": {
      "text/plain": [
       "<Figure size 720x360 with 0 Axes>"
      ]
     },
     "metadata": {},
     "output_type": "display_data"
    }
   ],
   "source": [
    "%matplotlib inline\n",
    "import ant_class\n",
    "ant_class.run()"
   ]
  },
  {
   "cell_type": "markdown",
   "metadata": {},
   "source": [
    "**Question:** What are the disadvantages of using a class based approach?"
   ]
  },
  {
   "cell_type": "markdown",
   "metadata": {},
   "source": [
    "<font size=8 color=\"#009600\">&#9998;</font> The class system is a bit more abstract with reading and understanding. "
   ]
  },
  {
   "cell_type": "markdown",
   "metadata": {},
   "source": [
    "**Question:** What are the advantages of using a class based approach?"
   ]
  },
  {
   "cell_type": "markdown",
   "metadata": {},
   "source": [
    "<font size=8 color=\"#009600\">&#9998;</font> There is a lot more modularity and reusability with classes. It also bundles relevant functions with their respective objects."
   ]
  },
  {
   "cell_type": "markdown",
   "metadata": {},
   "source": [
    "**&#9989;  Do This:** Using a **text editor** of your choosing, edit the ```ant_class.py``` file so that it visualizes the pheromones instead of the food. You should:\n",
    "\n",
    "* Use a different colormap for the pheromone visualization.\n",
    "* Add a colorbar to the visualize and label it \"pheromones.\"\n",
    "* Use a fixed colormap range so that it doesn't keep changing as the animation runs.\n",
    "\n",
    "**Important note**: Since your jupyter notebook has already imported `ant_class`, you can't just import the file again to incorporate your changes because Python doesn't like to import a module twice. You actually need to `reload` the class to get it to use your new version. The following cell takes care of this for you.\n",
    "\n",
    "**Make sure you understand how it works and then run your new version of the `ant_class.py` file.**"
   ]
  },
  {
   "cell_type": "code",
   "execution_count": null,
   "metadata": {},
   "outputs": [
    {
     "data": {
      "image/png": "[encoded data removed]",
      "text/plain": [
       "<Figure size 720x360 with 1 Axes>"
      ]
     },
     "metadata": {},
     "output_type": "display_data"
    }
   ],
   "source": [
    "# Use the importlib module to access the \"reload()\" function to make sure changes to ant_class.py are used\n",
    "import importlib\n",
    "importlib.reload(ant_class)\n",
    "ant_class.run()"
   ]
  },
  {
   "cell_type": "markdown",
   "metadata": {},
   "source": [
    "**Question**: Now that you've had a chance to review the code and modify it to visualizes the pheromones left by the ants. Can you find anything about the provided solution to the ant foraging model that you would change? Do you feel like the rules are implemented correctly? Do you feel like any of the rules should be change? Things you might want to think about:\n",
    "\n",
    "* What happens if an ant already has food but ends up in a location with food?\n",
    "* How are the ants detecting the pheromones around them? What sort of neighborhood are they searching in?\n",
    "\n",
    "Once you've had a chance to think about more ways that you might want to change the `ant_class.py` file -- make those changes! Once you make your changes and re-run the simulations.\n",
    "\n",
    "Record what you changed in the cell below."
   ]
  },
  {
   "cell_type": "markdown",
   "metadata": {},
   "source": [
    "Have the ant still head home and disregard the pheromones. Have an extended neighbor range for the ants."
   ]
  },
  {
   "cell_type": "markdown",
   "metadata": {},
   "source": [
    "----"
   ]
  },
  {
   "cell_type": "markdown",
   "metadata": {},
   "source": [
    "-----\n",
    "### Congratulations, we're done!\n",
    "\n",
    "Now, you just need to submit this assignment by uploading it to the course <a href=\"https://d2l.msu.edu/\">Desire2Learn</a> web page for today's dropbox (Don't forget to add your names in the first cell). **Make sure you upload your modified ant_class.py file as well!**\n"
   ]
  },
  {
   "cell_type": "markdown",
   "metadata": {},
   "source": [
    "&#169; Copyright 2018,  Michigan State University Board of Trustees"
   ]
  }
 ],
 "metadata": {
  "anaconda-cloud": {},
  "kernelspec": {
   "display_name": "Python 3",
   "language": "python",
   "name": "python3"
  },
  "language_info": {
   "codemirror_mode": {
    "name": "ipython",
    "version": 3
   },
   "file_extension": ".py",
   "mimetype": "text/x-python",
   "name": "python",
   "nbconvert_exporter": "python",
   "pygments_lexer": "ipython3",
   "version": "3.7.3"
  }
 },
 "nbformat": 4,
 "nbformat_minor": 4
}
