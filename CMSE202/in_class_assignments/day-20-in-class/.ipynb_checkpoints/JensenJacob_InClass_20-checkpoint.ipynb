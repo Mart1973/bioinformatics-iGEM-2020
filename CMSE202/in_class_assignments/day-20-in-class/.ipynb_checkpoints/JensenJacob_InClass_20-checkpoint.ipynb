{
 "cells": [
  {
   "cell_type": "markdown",
   "metadata": {},
   "source": [
    "# Day 20 In-Class: Intro to Artificial Neural Networks\n",
    "\n",
    "<img src=\"http://www.bogotobogo.com/python/scikit-learn/images/NeuralNetwork1/NN-with-components-w11-etc.png\" width=600px>\n",
    "\n",
    "### Agenda:\n",
    "\n",
    "1. Review pre-class assignment\n",
    "2. Work on semester projects!"
   ]
  },
  {
   "cell_type": "markdown",
   "metadata": {},
   "source": [
    "----\n",
    "# 1. Review pre-class assignment\n",
    "\n",
    "Below is the solution to the pre-class assignment, we're going to talk through this to make sure we all understand what's happening."
   ]
  },
  {
   "cell_type": "code",
   "execution_count": 1,
   "metadata": {},
   "outputs": [
    {
     "name": "stdout",
     "output_type": "stream",
     "text": [
      "X_norm =\n",
      "[[0.3 0.5]\n",
      " [0.5 0.1]\n",
      " [1.  0.2]]\n",
      "y_norm =\n",
      "[[0.75]\n",
      " [0.83]\n",
      " [0.93]]\n",
      "Z2 =\n",
      "[[-0.1506522   0.12206046 -0.43022619]\n",
      " [-0.40625587  0.30925163  0.03331028]\n",
      " [-0.81251175  0.61850326  0.06662057]]\n",
      "a2 =\n",
      "[[0.46240802 0.53047728 0.39407232]\n",
      " [0.39981023 0.57670258 0.5083268 ]\n",
      " [0.30735552 0.64987806 0.51664898]]\n",
      "Z3 =\n",
      "[[-1.29563265]\n",
      " [-1.48535053]\n",
      " [-1.42904345]]\n",
      "--------------\n",
      "How did we do?\n",
      "y_norm:\n",
      "[[0.75]\n",
      " [0.83]\n",
      " [0.93]]\n",
      "yHat:\n",
      "[[0.21490095]\n",
      " [0.18462061]\n",
      " [0.19324777]]\n"
     ]
    }
   ],
   "source": [
    "%matplotlib inline\n",
    "import matplotlib.pyplot as plt\n",
    "import numpy as np\n",
    "\n",
    "# input data (hours of sleep, hours of study)\n",
    "X = np.array([[3,5], [5,1], [10,2]])\n",
    "\n",
    "# normalized X\n",
    "X_norm = X / np.max(X)\n",
    "print(\"X_norm =\")\n",
    "print(X_norm)\n",
    "\n",
    "# output data (test score)\n",
    "y = np.array([[75], [83], [93]])\n",
    "\n",
    "# normalized y\n",
    "y_norm = y/100\n",
    "print(\"y_norm =\")\n",
    "print(y_norm)\n",
    "\n",
    "# Neural Network properties\n",
    "inputLayerSize = 2\n",
    "outputLayerSize = 1\n",
    "hiddenLayerSize = 3\n",
    "\n",
    "# Define synapse weights\n",
    "W1 = np.random.randn(inputLayerSize, hiddenLayerSize)\n",
    "W2 = np.random.randn(hiddenLayerSize, outputLayerSize)\n",
    "\n",
    "# Apply the first weights to inputs to get hidden layer activity\n",
    "Z2 = np.dot(X_norm, W1)\n",
    "print(\"Z2 =\")\n",
    "print(Z2)\n",
    "\n",
    "# Define our activation function\n",
    "def sigmoid(z):\n",
    "    #Apply sigmoid activation function to scalar, vector, or matrix\n",
    "    return 1/(1+np.exp(-z))\n",
    "\n",
    "# Apply the activation function to our activity levels\n",
    "a2 = sigmoid(Z2)\n",
    "print(\"a2 =\")\n",
    "print(a2)\n",
    "\n",
    "# Apply the second weights to the hidden layer\n",
    "Z3 = np.dot(a2, W2)\n",
    "print(\"Z3 =\")\n",
    "print(Z3)\n",
    "\n",
    "# Apply the activation function to produce prediction for yHat\n",
    "yHat = sigmoid(Z3)\n",
    "\n",
    "# Compare yhat to known y_norm\n",
    "print(\"--------------\")\n",
    "print(\"How did we do?\")\n",
    "print(\"y_norm:\")\n",
    "print(y_norm)\n",
    "print(\"yHat:\")\n",
    "print(yHat)"
   ]
  },
  {
   "cell_type": "markdown",
   "metadata": {},
   "source": [
    "----\n",
    "# 2. Work on semester projects\n",
    "\n",
    "This is a chance to make some progress on your project with your group while the instructors are around to help. Make use of it!\n",
    "\n",
    "Before you leave, answer the following questions:\n",
    "\n",
    "1. Where are you at with your project?\n",
    "    - What have you accomplished?\n",
    "    - What do you still need to do?\n",
    "2. What do you think your biggest obstacle will be in completing your assignment?\n",
    "3. When is your group going to meet to continue working on or finish the project?"
   ]
  },
  {
   "cell_type": "markdown",
   "metadata": {},
   "source": [
    "*Put your answers here!*\n",
    "1. We decided on what ABM style we would do and what the general starting objects are\n",
    "2. The complexity of all the moving parts of the project. \n",
    "3. ASAP, we want to figure out who is doing what"
   ]
  },
  {
   "cell_type": "markdown",
   "metadata": {},
   "source": [
    "-----\n",
    "### Congratulations, you're done!\n",
    "\n",
    "Submit this notebook to D2L so that your instructor knows where you're at with your project!"
   ]
  },
  {
   "cell_type": "markdown",
   "metadata": {},
   "source": [
    "&#169; Copyright 2018,  Michigan State University Board of Trustees"
   ]
  }
 ],
 "metadata": {
  "kernelspec": {
   "display_name": "Python 3",
   "language": "python",
   "name": "python3"
  },
  "language_info": {
   "codemirror_mode": {
    "name": "ipython",
    "version": 3
   },
   "file_extension": ".py",
   "mimetype": "text/x-python",
   "name": "python",
   "nbconvert_exporter": "python",
   "pygments_lexer": "ipython3",
   "version": "3.7.3"
  }
 },
 "nbformat": 4,
 "nbformat_minor": 4
}
